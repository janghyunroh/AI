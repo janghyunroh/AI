{
 "cells": [
  {
   "cell_type": "markdown",
   "metadata": {},
   "source": [
    "## 1. 필요한 라이브러리 임포트"
   ]
  },
  {
   "cell_type": "code",
   "execution_count": null,
   "metadata": {},
   "outputs": [],
   "source": [
    "# 주요 패키지\n",
    "import numpy as np\n",
    "import pandas as pd\n",
    "import os \n",
    "from pathlib import Path\n",
    "from joblib import dump, load\n",
    "\n",
    "import matplotlib.pyplot as plt\n",
    "import seaborn as sns\n",
    "\n",
    "#\n",
    "from sklearn.preprocessing import StandardScaler\n",
    "from sklearn.preprocessing import MinMaxScaler\n",
    "from sklearn.model_selection import train_test_split\n",
    "from sklearn.metrics import roc_curve, precision_recall_curve, auc, confusion_matrix\n",
    "\n",
    "# 직접 개발한 패키지\n",
    "from utils.config import CONFIG\n",
    "from utils.visualize import visualize_data\n",
    "from modules.input import TimeSeriesDownSampler\n",
    "\n",
    "from training.model_training import create_lstm_autoencoder\n",
    "from training.data_preprocessing import create_sequences\n",
    "from lstmae import LSTMAutoencoder\n",
    "\n",
    "# 딥러닝 프레임워크\n",
    "import torch\n",
    "import torch.nn as nn\n",
    "import torch.optim as optim\n",
    "from torch.utils.data import Dataset, DataLoader\n",
    "from tqdm import tqdm"
   ]
  },
  {
   "cell_type": "markdown",
   "metadata": {},
   "source": [
    "## 2. 데이터 로드 및 전처리 함수 정의"
   ]
  },
  {
   "cell_type": "code",
   "execution_count": 85,
   "metadata": {},
   "outputs": [],
   "source": [
    "# 1. 세션 파일 로딩\n",
    "def load_session(file_path):\n",
    "    \"\"\"\n",
    "    단일 세션 데이터를 로드하는 함수\n",
    "    file_path 경로의 데이터를 로드하여 가속도 데이터만을 골라\n",
    "    데이터프레임으로 반환\n",
    "    \"\"\"\n",
    "    df = pd.read_csv(file_path)\n",
    "    # x, y, z 가속도 데이터만 선택\n",
    "    return df[['accel_x', 'accel_y', 'accel_z']].values"
   ]
  },
  {
   "cell_type": "code",
   "execution_count": 86,
   "metadata": {},
   "outputs": [],
   "source": [
    "# 2. 세션 하나(data)로 시퀀스들 생성\n",
    "def create_sequences(data, sequence_length=30, step_size=5):\n",
    "    \"\"\"\n",
    "    시계열 데이터를 시퀀스로 변환하는 함수\n",
    "    데이터를 길이 30의 시퀀스들로 step size 5만큼 이동하며 생성\n",
    "    생성된 시퀀스들의 배열을 반환\n",
    "    \"\"\"\n",
    "    sequences = []\n",
    "    for i in range(0, len(data) - sequence_length + 1, step_size):\n",
    "        sequence = data[i:i + sequence_length]\n",
    "        sequences.append(sequence)\n",
    "    return np.array(sequences)"
   ]
  },
  {
   "cell_type": "code",
   "execution_count": 87,
   "metadata": {},
   "outputs": [],
   "source": [
    "# 3. 정상 시퀀스 생성\n",
    "def prepare_normal_data(data_dir='../datas'):\n",
    "    \"\"\"\n",
    "    각 세션별로 균등하게 분할하여 데이터셋 준비\n",
    "    위 함수들을 이용해 데이터셋 준비\n",
    "    세션-시퀀스 쌍 딕셔너리 배열을 만든 다음\n",
    "    각 세션 별로 시퀀스들을 70:20:10으로 분할\n",
    "    \n",
    "    train sequence에 대해 스케일러 학습시키고\n",
    "    이 스케일러로 validation seq, test seq도 적용용\n",
    "    \"\"\"\n",
    "    data_dir = Path(data_dir)\n",
    "    models_dir = Path('../models')\n",
    "    # models 디렉토리가 없다면 생성\n",
    "    models_dir.mkdir(exist_ok=True)\n",
    "    \n",
    "    # 각 세션별로 시퀀스 생성\n",
    "    session_sequences = []\n",
    "    for file_path in (data_dir / 'normal').glob('*.csv'):\n",
    "        print(file_path)\n",
    "        session_data = load_session(file_path)\n",
    "        sequences = create_sequences(session_data)\n",
    "        session_sequences.append({\n",
    "            'file_name': file_path.name,\n",
    "            'sequences': sequences\n",
    "        })\n",
    "    \n",
    "    # 각 세션별로 70:20:10 분할\n",
    "    train_sequences = []\n",
    "    val_sequences = []\n",
    "    test_sequences = []\n",
    "    \n",
    "    for session in session_sequences:\n",
    "        sequences = session['sequences']\n",
    "        n_sequences = len(sequences)\n",
    "        \n",
    "        # 인덱스 무작위 섞기\n",
    "        indices = np.random.permutation(n_sequences)\n",
    "        \n",
    "        # 비율에 따라 분할\n",
    "        n_train = int(n_sequences * 0.7)\n",
    "        n_val = int(n_sequences * 0.2)\n",
    "        \n",
    "        train_idx = indices[:n_train]\n",
    "        val_idx = indices[n_train:n_train + n_val]\n",
    "        test_idx = indices[n_train + n_val:]\n",
    "        \n",
    "        train_sequences.append(sequences[train_idx])\n",
    "        val_sequences.append(sequences[val_idx])\n",
    "        test_sequences.append(sequences[test_idx])\n",
    "        \n",
    "        print(f\"Session {session['file_name']}: {len(sequences)} sequences\")\n",
    "        print(f\"  - Train: {len(train_idx)}\")\n",
    "        print(f\"  - Val: {len(val_idx)}\")\n",
    "        print(f\"  - Test: {len(test_idx)}\")\n",
    "    \n",
    "    # 각 세트 내에서 세션 데이터 합치기\n",
    "    train_sequences = np.concatenate(train_sequences)\n",
    "    val_sequences = np.concatenate(val_sequences)\n",
    "    test_sequences = np.concatenate(test_sequences)\n",
    "    \n",
    "    # 스케일러 학습 (훈련 데이터만 사용)\n",
    "    scaler = StandardScaler()\n",
    "    train_sequences_2d = train_sequences.reshape(-1, train_sequences.shape[-1])\n",
    "    scaler.fit(train_sequences_2d)\n",
    "    \n",
    "    # 스케일러 저장\n",
    "    scaler_path = models_dir / 'scaler.joblib'\n",
    "    dump(scaler, scaler_path)\n",
    "    print(f\"\\nScaler saved to {scaler_path}\")\n",
    "    \n",
    "    def scale_sequences(sequences):\n",
    "        original_shape = sequences.shape\n",
    "        sequences_2d = sequences.reshape(-1, sequences.shape[-1])\n",
    "        scaled_2d = scaler.transform(sequences_2d)\n",
    "        return scaled_2d.reshape(original_shape)\n",
    "    \n",
    "    # 모든 데이터 스케일링\n",
    "    train_sequences_scaled = scale_sequences(train_sequences)\n",
    "    val_sequences_scaled = scale_sequences(val_sequences)\n",
    "    test_sequences_scaled = scale_sequences(test_sequences)\n",
    "    \n",
    "    return {\n",
    "        'train': train_sequences_scaled,\n",
    "        'val': val_sequences_scaled,\n",
    "        'test_normal': test_sequences_scaled,\n",
    "        'scaler': scaler\n",
    "    }"
   ]
  },
  {
   "cell_type": "code",
   "execution_count": 88,
   "metadata": {},
   "outputs": [],
   "source": [
    "# 4. 테스트 시퀀스 준비\n",
    "def prepare_test_data(data_dir='../datas'):\n",
    "    \"\"\"저장된 스케일러를 사용하여 테스트 데이터를 준비하는 함수\"\"\"\n",
    "    scaler_dir = Path('../models')\n",
    "    data_dir = Path(data_dir)\n",
    "    # 저장된 스케일러 로드\n",
    "    scaler_path = scaler_dir / 'scaler.joblib'\n",
    "    if not scaler_path.exists():\n",
    "        raise FileNotFoundError(f\"Scaler file not found at {scaler_path}\")\n",
    "    scaler = load(scaler_path)\n",
    "    \n",
    "    # 이상치 데이터 로드\n",
    "    abnormal_sequences = []\n",
    "    for file_path in (data_dir / 'abnormal').glob('*.csv'):\n",
    "        print(file_path)\n",
    "        session_data = load_session(file_path)\n",
    "        sequences = create_sequences(session_data)\n",
    "        abnormal_sequences.extend(sequences)\n",
    "    abnormal_sequences = np.array(abnormal_sequences)\n",
    "    \n",
    "    # 이상치 데이터 스케일링\n",
    "    def scale_sequences(sequences):\n",
    "        original_shape = sequences.shape\n",
    "        sequences_2d = sequences.reshape(-1, sequences.shape[-1])\n",
    "        scaled_2d = scaler.transform(sequences_2d)\n",
    "        return scaled_2d.reshape(original_shape)\n",
    "    \n",
    "    abnormal_sequences_scaled = scale_sequences(abnormal_sequences)\n",
    "    \n",
    "    return {'abnormal': abnormal_sequences_scaled}"
   ]
  },
  {
   "cell_type": "code",
   "execution_count": 89,
   "metadata": {},
   "outputs": [],
   "source": [
    "# 5. 스케일러 로딩\n",
    "def load_scaler(models_dir='models'):\n",
    "    \"\"\"저장된 스케일러를 불러오는 함수\"\"\"\n",
    "    scaler_path = Path(models_dir) / 'scaler.joblib'\n",
    "    if not scaler_path.exists():\n",
    "        raise FileNotFoundError(f\"Scaler file not found at {scaler_path}\")\n",
    "    return load(scaler_path)"
   ]
  },
  {
   "cell_type": "code",
   "execution_count": 90,
   "metadata": {},
   "outputs": [],
   "source": [
    "# 6. 데이터셋 클래스\n",
    "class SequenceDataset(Dataset):\n",
    "    def __init__(self, sequences):\n",
    "        self.sequences = torch.FloatTensor(sequences)\n",
    "    \n",
    "    def __len__(self):\n",
    "        return len(self.sequences)\n",
    "    \n",
    "    def __getitem__(self, idx):\n",
    "        return self.sequences[idx]"
   ]
  },
  {
   "cell_type": "markdown",
   "metadata": {},
   "source": [
    "## 3. 모델 클래스 정의"
   ]
  },
  {
   "cell_type": "markdown",
   "metadata": {},
   "source": [
    "## 4. 모델 학습 함수 정의"
   ]
  },
  {
   "cell_type": "code",
   "execution_count": 92,
   "metadata": {},
   "outputs": [],
   "source": [
    "def train_model(model, train_loader, val_loader, \n",
    "                n_epochs=100, learning_rate=1e-3, \n",
    "                device='cuda' if torch.cuda.is_available() else 'cpu',\n",
    "                patience=10, model_save_path='../models/autoencoder.pth'):\n",
    "    \"\"\"\n",
    "    LSTM Autoencoder 모델 훈련 함수\n",
    "    \n",
    "    Args:\n",
    "        model: LSTM Autoencoder 모델\n",
    "        train_loader: 훈련 데이터 로더\n",
    "        val_loader: 검증 데이터 로더\n",
    "        n_epochs: 전체 에포크 수\n",
    "        learning_rate: 학습률\n",
    "        device: 학습 디바이스 (CPU/GPU)\n",
    "        patience: Early stopping patience\n",
    "        model_save_path: 모델 저장 경로\n",
    "    \"\"\"\n",
    "    # 모델을 지정된 디바이스로 이동\n",
    "    model = model.to(device)\n",
    "    \n",
    "    # 손실 함수와 옵티마이저 정의\n",
    "    criterion = nn.MSELoss(reduction='mean')\n",
    "    optimizer = optim.Adam(model.parameters(), lr=learning_rate)\n",
    "    \n",
    "    # Early stopping 관련 변수들\n",
    "    best_val_loss = float('inf')\n",
    "    patience_counter = 0\n",
    "    early_stop = False\n",
    "    \n",
    "    # 훈련 과정 모니터링을 위한 리스트\n",
    "    train_losses = []\n",
    "    val_losses = []\n",
    "    \n",
    "    # 모델 저장 경로 설정\n",
    "    model_save_path = Path(model_save_path)\n",
    "    model_save_path.parent.mkdir(exist_ok=True)\n",
    "    \n",
    "    for epoch in range(n_epochs):\n",
    "        # 훈련 모드\n",
    "        model.train()\n",
    "        train_loss = 0\n",
    "        train_batches = 0\n",
    "        \n",
    "        # 훈련 루프\n",
    "        for batch in tqdm(train_loader, desc=f'Epoch {epoch+1}/{n_epochs}'):\n",
    "            batch = batch.to(device)\n",
    "            \n",
    "            # 순전파\n",
    "            output = model(batch)\n",
    "            loss = criterion(output, batch)\n",
    "            \n",
    "            # 역전파 및 옵티마이저 스텝\n",
    "            optimizer.zero_grad()\n",
    "            loss.backward()\n",
    "            optimizer.step()\n",
    "            \n",
    "            train_loss += loss.item()\n",
    "            train_batches += 1\n",
    "        \n",
    "        # 에포크당 평균 훈련 손실 계산\n",
    "        avg_train_loss = train_loss / train_batches\n",
    "        train_losses.append(avg_train_loss)\n",
    "        \n",
    "        # 검증 모드\n",
    "        model.eval()\n",
    "        val_loss = 0\n",
    "        val_batches = 0\n",
    "        \n",
    "        with torch.no_grad():\n",
    "            for batch in val_loader:\n",
    "                batch = batch.to(device)\n",
    "                output = model(batch)\n",
    "                loss = criterion(output, batch)\n",
    "                val_loss += loss.item()\n",
    "                val_batches += 1\n",
    "        \n",
    "        # 에포크당 평균 검증 손실 계산\n",
    "        avg_val_loss = val_loss / val_batches\n",
    "        val_losses.append(avg_val_loss)\n",
    "        \n",
    "        # 현재 상태 출력\n",
    "        print(f'Epoch [{epoch+1}/{n_epochs}]')\n",
    "        print(f'  Training Loss: {avg_train_loss:.6f}')\n",
    "        print(f'  Validation Loss: {avg_val_loss:.6f}')\n",
    "        \n",
    "        # Early stopping 체크\n",
    "        if avg_val_loss < best_val_loss:\n",
    "            best_val_loss = avg_val_loss\n",
    "            patience_counter = 0\n",
    "            # 최상의 모델 저장\n",
    "            torch.save(model.state_dict(), model_save_path)\n",
    "            print(f'  Model saved to {model_save_path}')\n",
    "        else:\n",
    "            patience_counter += 1\n",
    "            print(f'  EarlyStopping counter: {patience_counter} out of {patience}')\n",
    "            \n",
    "        if patience_counter >= patience:\n",
    "            print('Early stopping triggered')\n",
    "            early_stop = True\n",
    "            break\n",
    "    \n",
    "    # 학습 과정 시각화\n",
    "    plt.figure(figsize=(10, 5))\n",
    "    plt.plot(train_losses, label='Training Loss')\n",
    "    plt.plot(val_losses, label='Validation Loss')\n",
    "    plt.xlabel('Epoch')\n",
    "    plt.ylabel('Loss')\n",
    "    plt.title('Training and Validation Loss Over Time')\n",
    "    plt.legend()\n",
    "    plt.grid(True)\n",
    "    plt.show()\n",
    "    \n",
    "    return train_losses, val_losses\n",
    "\n",
    "def load_trained_model(model, model_path, device='cuda' if torch.cuda.is_available() else 'cpu'):\n",
    "    \"\"\"\n",
    "    저장된 모델 가중치를 로드하는 함수\n",
    "    \"\"\"\n",
    "    model.load_state_dict(torch.load(model_path, map_location=device))\n",
    "    model.to(device)\n",
    "    return model"
   ]
  },
  {
   "cell_type": "code",
   "execution_count": 93,
   "metadata": {},
   "outputs": [],
   "source": [
    "def evaluate_model(model, test_loader, test_labels, device='cuda' if torch.cuda.is_available() else 'cpu'):\n",
    "    \"\"\"\n",
    "    모델 평가 및 다양한 메트릭 계산/시각화\n",
    "    \n",
    "    Args:\n",
    "        model: 학습된 LSTM Autoencoder 모델\n",
    "        test_loader: 테스트 데이터 로더\n",
    "        test_labels: 테스트 데이터의 실제 레이블 (0: 정상, 1: 이상)\n",
    "        device: 평가 수행할 디바이스\n",
    "    \"\"\"\n",
    "    model.eval()\n",
    "    reconstruction_errors = []\n",
    "    \n",
    "    # 재구성 오차 계산\n",
    "    with torch.no_grad():\n",
    "        for batch in test_loader:\n",
    "            batch = batch.to(device)\n",
    "            output = model(batch)\n",
    "            # 각 샘플의 재구성 오차 계산\n",
    "            errors = torch.mean((batch - output) ** 2, dim=(1, 2))\n",
    "            reconstruction_errors.extend(errors.cpu().numpy())\n",
    "    \n",
    "    reconstruction_errors = np.array(reconstruction_errors)\n",
    "    \n",
    "    # 1. 재구성 오차 분포 시각화\n",
    "    plt.figure(figsize=(10, 6))\n",
    "    plt.hist(reconstruction_errors[test_labels == 0], bins=50, alpha=0.5, label='Normal', density=True)\n",
    "    plt.hist(reconstruction_errors[test_labels == 1], bins=50, alpha=0.5, label='Anomaly', density=True)\n",
    "    plt.xlabel('Reconstruction Error')\n",
    "    plt.ylabel('Density')\n",
    "    plt.title('Distribution of Reconstruction Errors')\n",
    "    plt.legend()\n",
    "    plt.show()\n",
    "    \n",
    "    # 2. ROC 커브\n",
    "    fpr, tpr, roc_thresholds = roc_curve(test_labels, reconstruction_errors)\n",
    "    roc_auc = auc(fpr, tpr)\n",
    "    \n",
    "    plt.figure(figsize=(10, 6))\n",
    "    plt.plot(fpr, tpr, color='darkorange', lw=2, label=f'ROC curve (AUC = {roc_auc:.2f})')\n",
    "    plt.plot([0, 1], [0, 1], color='navy', lw=2, linestyle='--')\n",
    "    plt.xlim([0.0, 1.0])\n",
    "    plt.ylim([0.0, 1.05])\n",
    "    plt.xlabel('False Positive Rate')\n",
    "    plt.ylabel('True Positive Rate')\n",
    "    plt.title('Receiver Operating Characteristic (ROC) Curve')\n",
    "    plt.legend(loc=\"lower right\")\n",
    "    plt.show()\n",
    "    \n",
    "    # 3. Precision-Recall 커브\n",
    "    precision, recall, pr_thresholds = precision_recall_curve(test_labels, reconstruction_errors)\n",
    "    pr_auc = auc(recall, precision)\n",
    "    \n",
    "    plt.figure(figsize=(10, 6))\n",
    "    plt.plot(recall, precision, color='blue', lw=2, label=f'PR curve (AUC = {pr_auc:.2f})')\n",
    "    plt.xlabel('Recall')\n",
    "    plt.ylabel('Precision')\n",
    "    plt.title('Precision-Recall Curve')\n",
    "    plt.legend(loc=\"lower left\")\n",
    "    plt.show()\n",
    "    \n",
    "    # 4. 최적 임계값 찾기\n",
    "    f1_scores = 2 * (precision * recall) / (precision + recall + 1e-9)\n",
    "    optimal_threshold_idx = np.argmax(f1_scores)\n",
    "    optimal_threshold = pr_thresholds[optimal_threshold_idx]\n",
    "    \n",
    "    # 5. 혼동 행렬\n",
    "    predictions = (reconstruction_errors >= optimal_threshold).astype(int)\n",
    "    cm = confusion_matrix(test_labels, predictions)\n",
    "    \n",
    "    plt.figure(figsize=(8, 6))\n",
    "    sns.heatmap(cm, annot=True, fmt='d', cmap='Blues')\n",
    "    plt.xlabel('Predicted')\n",
    "    plt.ylabel('Actual')\n",
    "    plt.title(f'Confusion Matrix (threshold = {optimal_threshold:.4f})')\n",
    "    plt.show()\n",
    "    \n",
    "    # 6. 성능 지표 계산\n",
    "    tn, fp, fn, tp = cm.ravel()\n",
    "    accuracy = (tp + tn) / (tp + tn + fp + fn)\n",
    "    precision_score = tp / (tp + fp)\n",
    "    recall_score = tp / (tp + fn)\n",
    "    f1 = 2 * (precision_score * recall_score) / (precision_score + recall_score)\n",
    "    \n",
    "    print(\"\\nPerformance Metrics:\")\n",
    "    print(f\"Optimal Threshold: {optimal_threshold:.4f}\")\n",
    "    print(f\"Accuracy: {accuracy:.4f}\")\n",
    "    print(f\"Precision: {precision_score:.4f}\")\n",
    "    print(f\"Recall: {recall_score:.4f}\")\n",
    "    print(f\"F1 Score: {f1:.4f}\")\n",
    "    print(f\"ROC AUC: {roc_auc:.4f}\")\n",
    "    print(f\"PR AUC: {pr_auc:.4f}\")\n",
    "    \n",
    "    return {\n",
    "        'reconstruction_errors': reconstruction_errors,\n",
    "        'optimal_threshold': optimal_threshold,\n",
    "        'roc_auc': roc_auc,\n",
    "        'pr_auc': pr_auc,\n",
    "        'confusion_matrix': cm,\n",
    "        'f1_score': f1\n",
    "    }"
   ]
  },
  {
   "cell_type": "markdown",
   "metadata": {},
   "source": [
    "## 5. 학습 및 테스트 진행"
   ]
  },
  {
   "cell_type": "code",
   "execution_count": 94,
   "metadata": {},
   "outputs": [
    {
     "name": "stdout",
     "output_type": "stream",
     "text": [
      "../datas/normal/downsampled_600-8_loss.csv\n",
      "../datas/normal/downsampled_600-9.csv\n",
      "../datas/normal/downsampled_600-3.csv\n",
      "../datas/normal/downsampled_600-2.csv\n",
      "../datas/normal/downsampled_600-1.csv\n",
      "../datas/normal/600-11-1.csv\n",
      "../datas/normal/downsampled_600-6.csv\n",
      "Session downsampled_600-8_loss.csv: 354 sequences\n",
      "  - Train: 247\n",
      "  - Val: 70\n",
      "  - Test: 37\n",
      "Session downsampled_600-9.csv: 355 sequences\n",
      "  - Train: 248\n",
      "  - Val: 71\n",
      "  - Test: 36\n",
      "Session downsampled_600-3.csv: 355 sequences\n",
      "  - Train: 248\n",
      "  - Val: 71\n",
      "  - Test: 36\n",
      "Session downsampled_600-2.csv: 355 sequences\n",
      "  - Train: 248\n",
      "  - Val: 71\n",
      "  - Test: 36\n",
      "Session downsampled_600-1.csv: 355 sequences\n",
      "  - Train: 248\n",
      "  - Val: 71\n",
      "  - Test: 36\n",
      "Session 600-11-1.csv: 301 sequences\n",
      "  - Train: 210\n",
      "  - Val: 60\n",
      "  - Test: 31\n",
      "Session downsampled_600-6.csv: 355 sequences\n",
      "  - Train: 248\n",
      "  - Val: 71\n",
      "  - Test: 36\n",
      "\n",
      "Scaler saved to ../models/scaler.joblib\n",
      "../datas/abnormal/600-11-2.csv\n",
      "../datas/abnormal/600-11-3.csv\n"
     ]
    },
    {
     "name": "stderr",
     "output_type": "stream",
     "text": [
      "Epoch 1/100: 100%|██████████| 54/54 [00:00<00:00, 641.30it/s]\n"
     ]
    },
    {
     "name": "stdout",
     "output_type": "stream",
     "text": [
      "Epoch [1/100]\n",
      "  Training Loss: 0.759579\n",
      "  Validation Loss: 0.552615\n",
      "  Model saved to ../models/autoencoder.pth\n"
     ]
    },
    {
     "name": "stderr",
     "output_type": "stream",
     "text": [
      "Epoch 2/100: 100%|██████████| 54/54 [00:00<00:00, 664.43it/s]\n"
     ]
    },
    {
     "name": "stdout",
     "output_type": "stream",
     "text": [
      "Epoch [2/100]\n",
      "  Training Loss: 0.555642\n",
      "  Validation Loss: 0.535066\n",
      "  Model saved to ../models/autoencoder.pth\n"
     ]
    },
    {
     "name": "stderr",
     "output_type": "stream",
     "text": [
      "Epoch 3/100: 100%|██████████| 54/54 [00:00<00:00, 660.54it/s]\n"
     ]
    },
    {
     "name": "stdout",
     "output_type": "stream",
     "text": [
      "Epoch [3/100]\n",
      "  Training Loss: 0.543055\n",
      "  Validation Loss: 0.530827\n",
      "  Model saved to ../models/autoencoder.pth\n"
     ]
    },
    {
     "name": "stderr",
     "output_type": "stream",
     "text": [
      "Epoch 4/100: 100%|██████████| 54/54 [00:00<00:00, 657.49it/s]\n"
     ]
    },
    {
     "name": "stdout",
     "output_type": "stream",
     "text": [
      "Epoch [4/100]\n",
      "  Training Loss: 0.537377\n",
      "  Validation Loss: 0.524085\n",
      "  Model saved to ../models/autoencoder.pth\n"
     ]
    },
    {
     "name": "stderr",
     "output_type": "stream",
     "text": [
      "Epoch 5/100: 100%|██████████| 54/54 [00:00<00:00, 684.65it/s]\n"
     ]
    },
    {
     "name": "stdout",
     "output_type": "stream",
     "text": [
      "Epoch [5/100]\n",
      "  Training Loss: 0.529382\n",
      "  Validation Loss: 0.521164\n",
      "  Model saved to ../models/autoencoder.pth\n"
     ]
    },
    {
     "name": "stderr",
     "output_type": "stream",
     "text": [
      "Epoch 6/100: 100%|██████████| 54/54 [00:00<00:00, 671.11it/s]\n"
     ]
    },
    {
     "name": "stdout",
     "output_type": "stream",
     "text": [
      "Epoch [6/100]\n",
      "  Training Loss: 0.541996\n",
      "  Validation Loss: 0.520021\n",
      "  Model saved to ../models/autoencoder.pth\n"
     ]
    },
    {
     "name": "stderr",
     "output_type": "stream",
     "text": [
      "Epoch 7/100: 100%|██████████| 54/54 [00:00<00:00, 694.52it/s]\n"
     ]
    },
    {
     "name": "stdout",
     "output_type": "stream",
     "text": [
      "Epoch [7/100]\n",
      "  Training Loss: 0.530369\n",
      "  Validation Loss: 0.517717\n",
      "  Model saved to ../models/autoencoder.pth\n"
     ]
    },
    {
     "name": "stderr",
     "output_type": "stream",
     "text": [
      "Epoch 8/100: 100%|██████████| 54/54 [00:00<00:00, 662.71it/s]\n"
     ]
    },
    {
     "name": "stdout",
     "output_type": "stream",
     "text": [
      "Epoch [8/100]\n",
      "  Training Loss: 0.525321\n",
      "  Validation Loss: 0.514214\n",
      "  Model saved to ../models/autoencoder.pth\n"
     ]
    },
    {
     "name": "stderr",
     "output_type": "stream",
     "text": [
      "Epoch 9/100: 100%|██████████| 54/54 [00:00<00:00, 603.85it/s]\n"
     ]
    },
    {
     "name": "stdout",
     "output_type": "stream",
     "text": [
      "Epoch [9/100]\n",
      "  Training Loss: 0.527996\n",
      "  Validation Loss: 0.512841\n",
      "  Model saved to ../models/autoencoder.pth\n"
     ]
    },
    {
     "name": "stderr",
     "output_type": "stream",
     "text": [
      "Epoch 10/100: 100%|██████████| 54/54 [00:00<00:00, 698.70it/s]\n"
     ]
    },
    {
     "name": "stdout",
     "output_type": "stream",
     "text": [
      "Epoch [10/100]\n",
      "  Training Loss: 0.523210\n",
      "  Validation Loss: 0.511951\n",
      "  Model saved to ../models/autoencoder.pth\n"
     ]
    },
    {
     "name": "stderr",
     "output_type": "stream",
     "text": [
      "Epoch 11/100: 100%|██████████| 54/54 [00:00<00:00, 680.95it/s]\n"
     ]
    },
    {
     "name": "stdout",
     "output_type": "stream",
     "text": [
      "Epoch [11/100]\n",
      "  Training Loss: 0.517813\n",
      "  Validation Loss: 0.511544\n",
      "  Model saved to ../models/autoencoder.pth\n"
     ]
    },
    {
     "name": "stderr",
     "output_type": "stream",
     "text": [
      "Epoch 12/100: 100%|██████████| 54/54 [00:00<00:00, 702.17it/s]\n"
     ]
    },
    {
     "name": "stdout",
     "output_type": "stream",
     "text": [
      "Epoch [12/100]\n",
      "  Training Loss: 0.518231\n",
      "  Validation Loss: 0.512012\n",
      "  EarlyStopping counter: 1 out of 10\n"
     ]
    },
    {
     "name": "stderr",
     "output_type": "stream",
     "text": [
      "Epoch 13/100: 100%|██████████| 54/54 [00:00<00:00, 695.76it/s]\n"
     ]
    },
    {
     "name": "stdout",
     "output_type": "stream",
     "text": [
      "Epoch [13/100]\n",
      "  Training Loss: 0.524964\n",
      "  Validation Loss: 0.510935\n",
      "  Model saved to ../models/autoencoder.pth\n"
     ]
    },
    {
     "name": "stderr",
     "output_type": "stream",
     "text": [
      "Epoch 14/100: 100%|██████████| 54/54 [00:00<00:00, 637.13it/s]\n"
     ]
    },
    {
     "name": "stdout",
     "output_type": "stream",
     "text": [
      "Epoch [14/100]\n",
      "  Training Loss: 0.517831\n",
      "  Validation Loss: 0.517091\n",
      "  EarlyStopping counter: 1 out of 10\n"
     ]
    },
    {
     "name": "stderr",
     "output_type": "stream",
     "text": [
      "Epoch 15/100: 100%|██████████| 54/54 [00:00<00:00, 693.27it/s]\n"
     ]
    },
    {
     "name": "stdout",
     "output_type": "stream",
     "text": [
      "Epoch [15/100]\n",
      "  Training Loss: 0.536285\n",
      "  Validation Loss: 0.548396\n",
      "  EarlyStopping counter: 2 out of 10\n"
     ]
    },
    {
     "name": "stderr",
     "output_type": "stream",
     "text": [
      "Epoch 16/100: 100%|██████████| 54/54 [00:00<00:00, 681.70it/s]\n"
     ]
    },
    {
     "name": "stdout",
     "output_type": "stream",
     "text": [
      "Epoch [16/100]\n",
      "  Training Loss: 0.535199\n",
      "  Validation Loss: 0.523469\n",
      "  EarlyStopping counter: 3 out of 10\n"
     ]
    },
    {
     "name": "stderr",
     "output_type": "stream",
     "text": [
      "Epoch 17/100: 100%|██████████| 54/54 [00:00<00:00, 640.04it/s]\n"
     ]
    },
    {
     "name": "stdout",
     "output_type": "stream",
     "text": [
      "Epoch [17/100]\n",
      "  Training Loss: 0.519347\n",
      "  Validation Loss: 0.510198\n",
      "  Model saved to ../models/autoencoder.pth\n"
     ]
    },
    {
     "name": "stderr",
     "output_type": "stream",
     "text": [
      "Epoch 18/100: 100%|██████████| 54/54 [00:00<00:00, 699.79it/s]\n"
     ]
    },
    {
     "name": "stdout",
     "output_type": "stream",
     "text": [
      "Epoch [18/100]\n",
      "  Training Loss: 0.516118\n",
      "  Validation Loss: 0.512885\n",
      "  EarlyStopping counter: 1 out of 10\n"
     ]
    },
    {
     "name": "stderr",
     "output_type": "stream",
     "text": [
      "Epoch 19/100: 100%|██████████| 54/54 [00:00<00:00, 687.76it/s]\n"
     ]
    },
    {
     "name": "stdout",
     "output_type": "stream",
     "text": [
      "Epoch [19/100]\n",
      "  Training Loss: 0.521167\n",
      "  Validation Loss: 0.508395\n",
      "  Model saved to ../models/autoencoder.pth\n"
     ]
    },
    {
     "name": "stderr",
     "output_type": "stream",
     "text": [
      "Epoch 20/100: 100%|██████████| 54/54 [00:00<00:00, 615.16it/s]\n"
     ]
    },
    {
     "name": "stdout",
     "output_type": "stream",
     "text": [
      "Epoch [20/100]\n",
      "  Training Loss: 0.513963\n",
      "  Validation Loss: 0.508604\n",
      "  EarlyStopping counter: 1 out of 10\n"
     ]
    },
    {
     "name": "stderr",
     "output_type": "stream",
     "text": [
      "Epoch 21/100: 100%|██████████| 54/54 [00:00<00:00, 696.39it/s]\n"
     ]
    },
    {
     "name": "stdout",
     "output_type": "stream",
     "text": [
      "Epoch [21/100]\n",
      "  Training Loss: 0.523922\n",
      "  Validation Loss: 0.511248\n",
      "  EarlyStopping counter: 2 out of 10\n"
     ]
    },
    {
     "name": "stderr",
     "output_type": "stream",
     "text": [
      "Epoch 22/100: 100%|██████████| 54/54 [00:00<00:00, 692.43it/s]\n"
     ]
    },
    {
     "name": "stdout",
     "output_type": "stream",
     "text": [
      "Epoch [22/100]\n",
      "  Training Loss: 0.516002\n",
      "  Validation Loss: 0.507919\n",
      "  Model saved to ../models/autoencoder.pth\n"
     ]
    },
    {
     "name": "stderr",
     "output_type": "stream",
     "text": [
      "Epoch 23/100: 100%|██████████| 54/54 [00:00<00:00, 699.76it/s]\n"
     ]
    },
    {
     "name": "stdout",
     "output_type": "stream",
     "text": [
      "Epoch [23/100]\n",
      "  Training Loss: 0.517287\n",
      "  Validation Loss: 0.507872\n",
      "  Model saved to ../models/autoencoder.pth\n"
     ]
    },
    {
     "name": "stderr",
     "output_type": "stream",
     "text": [
      "Epoch 24/100: 100%|██████████| 54/54 [00:00<00:00, 644.93it/s]\n"
     ]
    },
    {
     "name": "stdout",
     "output_type": "stream",
     "text": [
      "Epoch [24/100]\n",
      "  Training Loss: 0.516117\n",
      "  Validation Loss: 0.504765\n",
      "  Model saved to ../models/autoencoder.pth\n"
     ]
    },
    {
     "name": "stderr",
     "output_type": "stream",
     "text": [
      "Epoch 25/100: 100%|██████████| 54/54 [00:00<00:00, 675.44it/s]\n"
     ]
    },
    {
     "name": "stdout",
     "output_type": "stream",
     "text": [
      "Epoch [25/100]\n",
      "  Training Loss: 0.511194\n",
      "  Validation Loss: 0.504434\n",
      "  Model saved to ../models/autoencoder.pth\n"
     ]
    },
    {
     "name": "stderr",
     "output_type": "stream",
     "text": [
      "Epoch 26/100: 100%|██████████| 54/54 [00:00<00:00, 694.94it/s]\n"
     ]
    },
    {
     "name": "stdout",
     "output_type": "stream",
     "text": [
      "Epoch [26/100]\n",
      "  Training Loss: 0.518209\n",
      "  Validation Loss: 0.503264\n",
      "  Model saved to ../models/autoencoder.pth\n"
     ]
    },
    {
     "name": "stderr",
     "output_type": "stream",
     "text": [
      "Epoch 27/100: 100%|██████████| 54/54 [00:00<00:00, 699.99it/s]\n"
     ]
    },
    {
     "name": "stdout",
     "output_type": "stream",
     "text": [
      "Epoch [27/100]\n",
      "  Training Loss: 0.512089\n",
      "  Validation Loss: 0.502322\n",
      "  Model saved to ../models/autoencoder.pth\n"
     ]
    },
    {
     "name": "stderr",
     "output_type": "stream",
     "text": [
      "Epoch 28/100: 100%|██████████| 54/54 [00:00<00:00, 597.44it/s]\n"
     ]
    },
    {
     "name": "stdout",
     "output_type": "stream",
     "text": [
      "Epoch [28/100]\n",
      "  Training Loss: 0.508836\n",
      "  Validation Loss: 0.499945\n",
      "  Model saved to ../models/autoencoder.pth\n"
     ]
    },
    {
     "name": "stderr",
     "output_type": "stream",
     "text": [
      "Epoch 29/100: 100%|██████████| 54/54 [00:00<00:00, 691.21it/s]\n"
     ]
    },
    {
     "name": "stdout",
     "output_type": "stream",
     "text": [
      "Epoch [29/100]\n",
      "  Training Loss: 0.505551\n",
      "  Validation Loss: 0.500079\n",
      "  EarlyStopping counter: 1 out of 10\n"
     ]
    },
    {
     "name": "stderr",
     "output_type": "stream",
     "text": [
      "Epoch 30/100: 100%|██████████| 54/54 [00:00<00:00, 598.46it/s]\n"
     ]
    },
    {
     "name": "stdout",
     "output_type": "stream",
     "text": [
      "Epoch [30/100]\n",
      "  Training Loss: 0.512858\n",
      "  Validation Loss: 0.498015\n",
      "  Model saved to ../models/autoencoder.pth\n"
     ]
    },
    {
     "name": "stderr",
     "output_type": "stream",
     "text": [
      "Epoch 31/100: 100%|██████████| 54/54 [00:00<00:00, 638.97it/s]\n"
     ]
    },
    {
     "name": "stdout",
     "output_type": "stream",
     "text": [
      "Epoch [31/100]\n",
      "  Training Loss: 0.517142\n",
      "  Validation Loss: 0.498932\n",
      "  EarlyStopping counter: 1 out of 10\n"
     ]
    },
    {
     "name": "stderr",
     "output_type": "stream",
     "text": [
      "Epoch 32/100: 100%|██████████| 54/54 [00:00<00:00, 500.56it/s]\n"
     ]
    },
    {
     "name": "stdout",
     "output_type": "stream",
     "text": [
      "Epoch [32/100]\n",
      "  Training Loss: 0.510922\n",
      "  Validation Loss: 0.502915\n",
      "  EarlyStopping counter: 2 out of 10\n"
     ]
    },
    {
     "name": "stderr",
     "output_type": "stream",
     "text": [
      "Epoch 33/100: 100%|██████████| 54/54 [00:00<00:00, 658.67it/s]\n"
     ]
    },
    {
     "name": "stdout",
     "output_type": "stream",
     "text": [
      "Epoch [33/100]\n",
      "  Training Loss: 0.505072\n",
      "  Validation Loss: 0.499325\n",
      "  EarlyStopping counter: 3 out of 10\n"
     ]
    },
    {
     "name": "stderr",
     "output_type": "stream",
     "text": [
      "Epoch 34/100: 100%|██████████| 54/54 [00:00<00:00, 692.18it/s]\n"
     ]
    },
    {
     "name": "stdout",
     "output_type": "stream",
     "text": [
      "Epoch [34/100]\n",
      "  Training Loss: 0.506158\n",
      "  Validation Loss: 0.495248\n",
      "  Model saved to ../models/autoencoder.pth\n"
     ]
    },
    {
     "name": "stderr",
     "output_type": "stream",
     "text": [
      "Epoch 35/100: 100%|██████████| 54/54 [00:00<00:00, 688.39it/s]\n"
     ]
    },
    {
     "name": "stdout",
     "output_type": "stream",
     "text": [
      "Epoch [35/100]\n",
      "  Training Loss: 0.511918\n",
      "  Validation Loss: 0.496895\n",
      "  EarlyStopping counter: 1 out of 10\n"
     ]
    },
    {
     "name": "stderr",
     "output_type": "stream",
     "text": [
      "Epoch 36/100: 100%|██████████| 54/54 [00:00<00:00, 606.95it/s]\n"
     ]
    },
    {
     "name": "stdout",
     "output_type": "stream",
     "text": [
      "Epoch [36/100]\n",
      "  Training Loss: 0.499740\n",
      "  Validation Loss: 0.495057\n",
      "  Model saved to ../models/autoencoder.pth\n"
     ]
    },
    {
     "name": "stderr",
     "output_type": "stream",
     "text": [
      "Epoch 37/100: 100%|██████████| 54/54 [00:00<00:00, 658.28it/s]\n"
     ]
    },
    {
     "name": "stdout",
     "output_type": "stream",
     "text": [
      "Epoch [37/100]\n",
      "  Training Loss: 0.500916\n",
      "  Validation Loss: 0.495030\n",
      "  Model saved to ../models/autoencoder.pth\n"
     ]
    },
    {
     "name": "stderr",
     "output_type": "stream",
     "text": [
      "Epoch 38/100: 100%|██████████| 54/54 [00:00<00:00, 689.14it/s]\n"
     ]
    },
    {
     "name": "stdout",
     "output_type": "stream",
     "text": [
      "Epoch [38/100]\n",
      "  Training Loss: 0.507209\n",
      "  Validation Loss: 0.492077\n",
      "  Model saved to ../models/autoencoder.pth\n"
     ]
    },
    {
     "name": "stderr",
     "output_type": "stream",
     "text": [
      "Epoch 39/100: 100%|██████████| 54/54 [00:00<00:00, 540.82it/s]\n"
     ]
    },
    {
     "name": "stdout",
     "output_type": "stream",
     "text": [
      "Epoch [39/100]\n",
      "  Training Loss: 0.506053\n",
      "  Validation Loss: 0.488965\n",
      "  Model saved to ../models/autoencoder.pth\n"
     ]
    },
    {
     "name": "stderr",
     "output_type": "stream",
     "text": [
      "Epoch 40/100: 100%|██████████| 54/54 [00:00<00:00, 684.25it/s]\n"
     ]
    },
    {
     "name": "stdout",
     "output_type": "stream",
     "text": [
      "Epoch [40/100]\n",
      "  Training Loss: 0.494936\n",
      "  Validation Loss: 0.488464\n",
      "  Model saved to ../models/autoencoder.pth\n"
     ]
    },
    {
     "name": "stderr",
     "output_type": "stream",
     "text": [
      "Epoch 41/100: 100%|██████████| 54/54 [00:00<00:00, 686.62it/s]\n"
     ]
    },
    {
     "name": "stdout",
     "output_type": "stream",
     "text": [
      "Epoch [41/100]\n",
      "  Training Loss: 0.492944\n",
      "  Validation Loss: 0.486479\n",
      "  Model saved to ../models/autoencoder.pth\n"
     ]
    },
    {
     "name": "stderr",
     "output_type": "stream",
     "text": [
      "Epoch 42/100: 100%|██████████| 54/54 [00:00<00:00, 597.24it/s]\n"
     ]
    },
    {
     "name": "stdout",
     "output_type": "stream",
     "text": [
      "Epoch [42/100]\n",
      "  Training Loss: 0.492565\n",
      "  Validation Loss: 0.485512\n",
      "  Model saved to ../models/autoencoder.pth\n"
     ]
    },
    {
     "name": "stderr",
     "output_type": "stream",
     "text": [
      "Epoch 43/100: 100%|██████████| 54/54 [00:00<00:00, 688.87it/s]\n"
     ]
    },
    {
     "name": "stdout",
     "output_type": "stream",
     "text": [
      "Epoch [43/100]\n",
      "  Training Loss: 0.491168\n",
      "  Validation Loss: 0.484255\n",
      "  Model saved to ../models/autoencoder.pth\n"
     ]
    },
    {
     "name": "stderr",
     "output_type": "stream",
     "text": [
      "Epoch 44/100: 100%|██████████| 54/54 [00:00<00:00, 689.26it/s]\n"
     ]
    },
    {
     "name": "stdout",
     "output_type": "stream",
     "text": [
      "Epoch [44/100]\n",
      "  Training Loss: 0.497896\n",
      "  Validation Loss: 0.481110\n",
      "  Model saved to ../models/autoencoder.pth\n"
     ]
    },
    {
     "name": "stderr",
     "output_type": "stream",
     "text": [
      "Epoch 45/100: 100%|██████████| 54/54 [00:00<00:00, 667.66it/s]\n"
     ]
    },
    {
     "name": "stdout",
     "output_type": "stream",
     "text": [
      "Epoch [45/100]\n",
      "  Training Loss: 0.486880\n",
      "  Validation Loss: 0.478669\n",
      "  Model saved to ../models/autoencoder.pth\n"
     ]
    },
    {
     "name": "stderr",
     "output_type": "stream",
     "text": [
      "Epoch 46/100: 100%|██████████| 54/54 [00:00<00:00, 601.98it/s]\n"
     ]
    },
    {
     "name": "stdout",
     "output_type": "stream",
     "text": [
      "Epoch [46/100]\n",
      "  Training Loss: 0.483977\n",
      "  Validation Loss: 0.477464\n",
      "  Model saved to ../models/autoencoder.pth\n"
     ]
    },
    {
     "name": "stderr",
     "output_type": "stream",
     "text": [
      "Epoch 47/100: 100%|██████████| 54/54 [00:00<00:00, 644.61it/s]\n"
     ]
    },
    {
     "name": "stdout",
     "output_type": "stream",
     "text": [
      "Epoch [47/100]\n",
      "  Training Loss: 0.480997\n",
      "  Validation Loss: 0.473992\n",
      "  Model saved to ../models/autoencoder.pth\n"
     ]
    },
    {
     "name": "stderr",
     "output_type": "stream",
     "text": [
      "Epoch 48/100: 100%|██████████| 54/54 [00:00<00:00, 703.14it/s]\n"
     ]
    },
    {
     "name": "stdout",
     "output_type": "stream",
     "text": [
      "Epoch [48/100]\n",
      "  Training Loss: 0.483756\n",
      "  Validation Loss: 0.475361\n",
      "  EarlyStopping counter: 1 out of 10\n"
     ]
    },
    {
     "name": "stderr",
     "output_type": "stream",
     "text": [
      "Epoch 49/100: 100%|██████████| 54/54 [00:00<00:00, 703.12it/s]\n"
     ]
    },
    {
     "name": "stdout",
     "output_type": "stream",
     "text": [
      "Epoch [49/100]\n",
      "  Training Loss: 0.489779\n",
      "  Validation Loss: 0.476594\n",
      "  EarlyStopping counter: 2 out of 10\n"
     ]
    },
    {
     "name": "stderr",
     "output_type": "stream",
     "text": [
      "Epoch 50/100: 100%|██████████| 54/54 [00:00<00:00, 704.24it/s]\n"
     ]
    },
    {
     "name": "stdout",
     "output_type": "stream",
     "text": [
      "Epoch [50/100]\n",
      "  Training Loss: 0.480327\n",
      "  Validation Loss: 0.470601\n",
      "  Model saved to ../models/autoencoder.pth\n"
     ]
    },
    {
     "name": "stderr",
     "output_type": "stream",
     "text": [
      "Epoch 51/100: 100%|██████████| 54/54 [00:00<00:00, 695.58it/s]\n"
     ]
    },
    {
     "name": "stdout",
     "output_type": "stream",
     "text": [
      "Epoch [51/100]\n",
      "  Training Loss: 0.480221\n",
      "  Validation Loss: 0.475030\n",
      "  EarlyStopping counter: 1 out of 10\n"
     ]
    },
    {
     "name": "stderr",
     "output_type": "stream",
     "text": [
      "Epoch 52/100: 100%|██████████| 54/54 [00:00<00:00, 695.09it/s]\n"
     ]
    },
    {
     "name": "stdout",
     "output_type": "stream",
     "text": [
      "Epoch [52/100]\n",
      "  Training Loss: 0.484500\n",
      "  Validation Loss: 0.467162\n",
      "  Model saved to ../models/autoencoder.pth\n"
     ]
    },
    {
     "name": "stderr",
     "output_type": "stream",
     "text": [
      "Epoch 53/100: 100%|██████████| 54/54 [00:00<00:00, 547.84it/s]\n"
     ]
    },
    {
     "name": "stdout",
     "output_type": "stream",
     "text": [
      "Epoch [53/100]\n",
      "  Training Loss: 0.470367\n",
      "  Validation Loss: 0.466540\n",
      "  Model saved to ../models/autoencoder.pth\n"
     ]
    },
    {
     "name": "stderr",
     "output_type": "stream",
     "text": [
      "Epoch 54/100: 100%|██████████| 54/54 [00:00<00:00, 607.72it/s]\n"
     ]
    },
    {
     "name": "stdout",
     "output_type": "stream",
     "text": [
      "Epoch [54/100]\n",
      "  Training Loss: 0.470499\n",
      "  Validation Loss: 0.464227\n",
      "  Model saved to ../models/autoencoder.pth\n"
     ]
    },
    {
     "name": "stderr",
     "output_type": "stream",
     "text": [
      "Epoch 55/100: 100%|██████████| 54/54 [00:00<00:00, 631.79it/s]\n"
     ]
    },
    {
     "name": "stdout",
     "output_type": "stream",
     "text": [
      "Epoch [55/100]\n",
      "  Training Loss: 0.468329\n",
      "  Validation Loss: 0.461227\n",
      "  Model saved to ../models/autoencoder.pth\n"
     ]
    },
    {
     "name": "stderr",
     "output_type": "stream",
     "text": [
      "Epoch 56/100: 100%|██████████| 54/54 [00:00<00:00, 531.10it/s]\n"
     ]
    },
    {
     "name": "stdout",
     "output_type": "stream",
     "text": [
      "Epoch [56/100]\n",
      "  Training Loss: 0.463062\n",
      "  Validation Loss: 0.457316\n",
      "  Model saved to ../models/autoencoder.pth\n"
     ]
    },
    {
     "name": "stderr",
     "output_type": "stream",
     "text": [
      "Epoch 57/100: 100%|██████████| 54/54 [00:00<00:00, 579.67it/s]\n"
     ]
    },
    {
     "name": "stdout",
     "output_type": "stream",
     "text": [
      "Epoch [57/100]\n",
      "  Training Loss: 0.461805\n",
      "  Validation Loss: 0.454187\n",
      "  Model saved to ../models/autoencoder.pth\n"
     ]
    },
    {
     "name": "stderr",
     "output_type": "stream",
     "text": [
      "Epoch 58/100: 100%|██████████| 54/54 [00:00<00:00, 645.60it/s]\n"
     ]
    },
    {
     "name": "stdout",
     "output_type": "stream",
     "text": [
      "Epoch [58/100]\n",
      "  Training Loss: 0.463004\n",
      "  Validation Loss: 0.454986\n",
      "  EarlyStopping counter: 1 out of 10\n"
     ]
    },
    {
     "name": "stderr",
     "output_type": "stream",
     "text": [
      "Epoch 59/100: 100%|██████████| 54/54 [00:00<00:00, 657.45it/s]\n"
     ]
    },
    {
     "name": "stdout",
     "output_type": "stream",
     "text": [
      "Epoch [59/100]\n",
      "  Training Loss: 0.460108\n",
      "  Validation Loss: 0.456269\n",
      "  EarlyStopping counter: 2 out of 10\n"
     ]
    },
    {
     "name": "stderr",
     "output_type": "stream",
     "text": [
      "Epoch 60/100: 100%|██████████| 54/54 [00:00<00:00, 657.92it/s]\n"
     ]
    },
    {
     "name": "stdout",
     "output_type": "stream",
     "text": [
      "Epoch [60/100]\n",
      "  Training Loss: 0.455277\n",
      "  Validation Loss: 0.450639\n",
      "  Model saved to ../models/autoencoder.pth\n"
     ]
    },
    {
     "name": "stderr",
     "output_type": "stream",
     "text": [
      "Epoch 61/100: 100%|██████████| 54/54 [00:00<00:00, 659.77it/s]\n"
     ]
    },
    {
     "name": "stdout",
     "output_type": "stream",
     "text": [
      "Epoch [61/100]\n",
      "  Training Loss: 0.455458\n",
      "  Validation Loss: 0.450098\n",
      "  Model saved to ../models/autoencoder.pth\n"
     ]
    },
    {
     "name": "stderr",
     "output_type": "stream",
     "text": [
      "Epoch 62/100: 100%|██████████| 54/54 [00:00<00:00, 655.71it/s]\n"
     ]
    },
    {
     "name": "stdout",
     "output_type": "stream",
     "text": [
      "Epoch [62/100]\n",
      "  Training Loss: 0.464015\n",
      "  Validation Loss: 0.450100\n",
      "  EarlyStopping counter: 1 out of 10\n"
     ]
    },
    {
     "name": "stderr",
     "output_type": "stream",
     "text": [
      "Epoch 63/100: 100%|██████████| 54/54 [00:00<00:00, 660.75it/s]\n"
     ]
    },
    {
     "name": "stdout",
     "output_type": "stream",
     "text": [
      "Epoch [63/100]\n",
      "  Training Loss: 0.456939\n",
      "  Validation Loss: 0.453320\n",
      "  EarlyStopping counter: 2 out of 10\n"
     ]
    },
    {
     "name": "stderr",
     "output_type": "stream",
     "text": [
      "Epoch 64/100: 100%|██████████| 54/54 [00:00<00:00, 575.55it/s]\n"
     ]
    },
    {
     "name": "stdout",
     "output_type": "stream",
     "text": [
      "Epoch [64/100]\n",
      "  Training Loss: 0.462680\n",
      "  Validation Loss: 0.452114\n",
      "  EarlyStopping counter: 3 out of 10\n"
     ]
    },
    {
     "name": "stderr",
     "output_type": "stream",
     "text": [
      "Epoch 65/100: 100%|██████████| 54/54 [00:00<00:00, 636.96it/s]\n"
     ]
    },
    {
     "name": "stdout",
     "output_type": "stream",
     "text": [
      "Epoch [65/100]\n",
      "  Training Loss: 0.454134\n",
      "  Validation Loss: 0.444451\n",
      "  Model saved to ../models/autoencoder.pth\n"
     ]
    },
    {
     "name": "stderr",
     "output_type": "stream",
     "text": [
      "Epoch 66/100: 100%|██████████| 54/54 [00:00<00:00, 636.43it/s]\n"
     ]
    },
    {
     "name": "stdout",
     "output_type": "stream",
     "text": [
      "Epoch [66/100]\n",
      "  Training Loss: 0.445104\n",
      "  Validation Loss: 0.439569\n",
      "  Model saved to ../models/autoencoder.pth\n"
     ]
    },
    {
     "name": "stderr",
     "output_type": "stream",
     "text": [
      "Epoch 67/100: 100%|██████████| 54/54 [00:00<00:00, 620.29it/s]\n"
     ]
    },
    {
     "name": "stdout",
     "output_type": "stream",
     "text": [
      "Epoch [67/100]\n",
      "  Training Loss: 0.453223\n",
      "  Validation Loss: 0.439979\n",
      "  EarlyStopping counter: 1 out of 10\n"
     ]
    },
    {
     "name": "stderr",
     "output_type": "stream",
     "text": [
      "Epoch 68/100: 100%|██████████| 54/54 [00:00<00:00, 573.68it/s]\n"
     ]
    },
    {
     "name": "stdout",
     "output_type": "stream",
     "text": [
      "Epoch [68/100]\n",
      "  Training Loss: 0.447784\n",
      "  Validation Loss: 0.435884\n",
      "  Model saved to ../models/autoencoder.pth\n"
     ]
    },
    {
     "name": "stderr",
     "output_type": "stream",
     "text": [
      "Epoch 69/100: 100%|██████████| 54/54 [00:00<00:00, 623.15it/s]\n"
     ]
    },
    {
     "name": "stdout",
     "output_type": "stream",
     "text": [
      "Epoch [69/100]\n",
      "  Training Loss: 0.450602\n",
      "  Validation Loss: 0.436354\n",
      "  EarlyStopping counter: 1 out of 10\n"
     ]
    },
    {
     "name": "stderr",
     "output_type": "stream",
     "text": [
      "Epoch 70/100: 100%|██████████| 54/54 [00:00<00:00, 591.48it/s]\n"
     ]
    },
    {
     "name": "stdout",
     "output_type": "stream",
     "text": [
      "Epoch [70/100]\n",
      "  Training Loss: 0.446040\n",
      "  Validation Loss: 0.434949\n",
      "  Model saved to ../models/autoencoder.pth\n"
     ]
    },
    {
     "name": "stderr",
     "output_type": "stream",
     "text": [
      "Epoch 71/100: 100%|██████████| 54/54 [00:00<00:00, 501.54it/s]\n"
     ]
    },
    {
     "name": "stdout",
     "output_type": "stream",
     "text": [
      "Epoch [71/100]\n",
      "  Training Loss: 0.445205\n",
      "  Validation Loss: 0.437911\n",
      "  EarlyStopping counter: 1 out of 10\n"
     ]
    },
    {
     "name": "stderr",
     "output_type": "stream",
     "text": [
      "Epoch 72/100: 100%|██████████| 54/54 [00:00<00:00, 539.90it/s]\n"
     ]
    },
    {
     "name": "stdout",
     "output_type": "stream",
     "text": [
      "Epoch [72/100]\n",
      "  Training Loss: 0.437654\n",
      "  Validation Loss: 0.431603\n",
      "  Model saved to ../models/autoencoder.pth\n"
     ]
    },
    {
     "name": "stderr",
     "output_type": "stream",
     "text": [
      "Epoch 73/100: 100%|██████████| 54/54 [00:00<00:00, 567.90it/s]\n"
     ]
    },
    {
     "name": "stdout",
     "output_type": "stream",
     "text": [
      "Epoch [73/100]\n",
      "  Training Loss: 0.436512\n",
      "  Validation Loss: 0.431748\n",
      "  EarlyStopping counter: 1 out of 10\n"
     ]
    },
    {
     "name": "stderr",
     "output_type": "stream",
     "text": [
      "Epoch 74/100: 100%|██████████| 54/54 [00:00<00:00, 599.35it/s]\n"
     ]
    },
    {
     "name": "stdout",
     "output_type": "stream",
     "text": [
      "Epoch [74/100]\n",
      "  Training Loss: 0.435851\n",
      "  Validation Loss: 0.427390\n",
      "  Model saved to ../models/autoencoder.pth\n"
     ]
    },
    {
     "name": "stderr",
     "output_type": "stream",
     "text": [
      "Epoch 75/100: 100%|██████████| 54/54 [00:00<00:00, 546.60it/s]\n"
     ]
    },
    {
     "name": "stdout",
     "output_type": "stream",
     "text": [
      "Epoch [75/100]\n",
      "  Training Loss: 0.439332\n",
      "  Validation Loss: 0.430530\n",
      "  EarlyStopping counter: 1 out of 10\n"
     ]
    },
    {
     "name": "stderr",
     "output_type": "stream",
     "text": [
      "Epoch 76/100: 100%|██████████| 54/54 [00:00<00:00, 540.57it/s]\n"
     ]
    },
    {
     "name": "stdout",
     "output_type": "stream",
     "text": [
      "Epoch [76/100]\n",
      "  Training Loss: 0.437429\n",
      "  Validation Loss: 0.429106\n",
      "  EarlyStopping counter: 2 out of 10\n"
     ]
    },
    {
     "name": "stderr",
     "output_type": "stream",
     "text": [
      "Epoch 77/100: 100%|██████████| 54/54 [00:00<00:00, 539.63it/s]\n"
     ]
    },
    {
     "name": "stdout",
     "output_type": "stream",
     "text": [
      "Epoch [77/100]\n",
      "  Training Loss: 0.428836\n",
      "  Validation Loss: 0.424758\n",
      "  Model saved to ../models/autoencoder.pth\n"
     ]
    },
    {
     "name": "stderr",
     "output_type": "stream",
     "text": [
      "Epoch 78/100: 100%|██████████| 54/54 [00:00<00:00, 599.52it/s]\n"
     ]
    },
    {
     "name": "stdout",
     "output_type": "stream",
     "text": [
      "Epoch [78/100]\n",
      "  Training Loss: 0.436974\n",
      "  Validation Loss: 0.436377\n",
      "  EarlyStopping counter: 1 out of 10\n"
     ]
    },
    {
     "name": "stderr",
     "output_type": "stream",
     "text": [
      "Epoch 79/100: 100%|██████████| 54/54 [00:00<00:00, 650.16it/s]\n"
     ]
    },
    {
     "name": "stdout",
     "output_type": "stream",
     "text": [
      "Epoch [79/100]\n",
      "  Training Loss: 0.440482\n",
      "  Validation Loss: 0.421207\n",
      "  Model saved to ../models/autoencoder.pth\n"
     ]
    },
    {
     "name": "stderr",
     "output_type": "stream",
     "text": [
      "Epoch 80/100: 100%|██████████| 54/54 [00:00<00:00, 680.16it/s]\n"
     ]
    },
    {
     "name": "stdout",
     "output_type": "stream",
     "text": [
      "Epoch [80/100]\n",
      "  Training Loss: 0.424629\n",
      "  Validation Loss: 0.421488\n",
      "  EarlyStopping counter: 1 out of 10\n"
     ]
    },
    {
     "name": "stderr",
     "output_type": "stream",
     "text": [
      "Epoch 81/100: 100%|██████████| 54/54 [00:00<00:00, 666.86it/s]\n"
     ]
    },
    {
     "name": "stdout",
     "output_type": "stream",
     "text": [
      "Epoch [81/100]\n",
      "  Training Loss: 0.422724\n",
      "  Validation Loss: 0.417442\n",
      "  Model saved to ../models/autoencoder.pth\n"
     ]
    },
    {
     "name": "stderr",
     "output_type": "stream",
     "text": [
      "Epoch 82/100: 100%|██████████| 54/54 [00:00<00:00, 669.34it/s]\n"
     ]
    },
    {
     "name": "stdout",
     "output_type": "stream",
     "text": [
      "Epoch [82/100]\n",
      "  Training Loss: 0.425803\n",
      "  Validation Loss: 0.419878\n",
      "  EarlyStopping counter: 1 out of 10\n"
     ]
    },
    {
     "name": "stderr",
     "output_type": "stream",
     "text": [
      "Epoch 83/100: 100%|██████████| 54/54 [00:00<00:00, 703.50it/s]\n"
     ]
    },
    {
     "name": "stdout",
     "output_type": "stream",
     "text": [
      "Epoch [83/100]\n",
      "  Training Loss: 0.436091\n",
      "  Validation Loss: 0.415300\n",
      "  Model saved to ../models/autoencoder.pth\n"
     ]
    },
    {
     "name": "stderr",
     "output_type": "stream",
     "text": [
      "Epoch 84/100: 100%|██████████| 54/54 [00:00<00:00, 700.53it/s]\n"
     ]
    },
    {
     "name": "stdout",
     "output_type": "stream",
     "text": [
      "Epoch [84/100]\n",
      "  Training Loss: 0.428336\n",
      "  Validation Loss: 0.414851\n",
      "  Model saved to ../models/autoencoder.pth\n"
     ]
    },
    {
     "name": "stderr",
     "output_type": "stream",
     "text": [
      "Epoch 85/100: 100%|██████████| 54/54 [00:00<00:00, 639.18it/s]\n"
     ]
    },
    {
     "name": "stdout",
     "output_type": "stream",
     "text": [
      "Epoch [85/100]\n",
      "  Training Loss: 0.423020\n",
      "  Validation Loss: 0.410809\n",
      "  Model saved to ../models/autoencoder.pth\n"
     ]
    },
    {
     "name": "stderr",
     "output_type": "stream",
     "text": [
      "Epoch 86/100: 100%|██████████| 54/54 [00:00<00:00, 703.87it/s]\n"
     ]
    },
    {
     "name": "stdout",
     "output_type": "stream",
     "text": [
      "Epoch [86/100]\n",
      "  Training Loss: 0.419336\n",
      "  Validation Loss: 0.408370\n",
      "  Model saved to ../models/autoencoder.pth\n"
     ]
    },
    {
     "name": "stderr",
     "output_type": "stream",
     "text": [
      "Epoch 87/100: 100%|██████████| 54/54 [00:00<00:00, 678.99it/s]\n"
     ]
    },
    {
     "name": "stdout",
     "output_type": "stream",
     "text": [
      "Epoch [87/100]\n",
      "  Training Loss: 0.418166\n",
      "  Validation Loss: 0.408442\n",
      "  EarlyStopping counter: 1 out of 10\n"
     ]
    },
    {
     "name": "stderr",
     "output_type": "stream",
     "text": [
      "Epoch 88/100: 100%|██████████| 54/54 [00:00<00:00, 685.96it/s]\n"
     ]
    },
    {
     "name": "stdout",
     "output_type": "stream",
     "text": [
      "Epoch [88/100]\n",
      "  Training Loss: 0.419755\n",
      "  Validation Loss: 0.423283\n",
      "  EarlyStopping counter: 2 out of 10\n"
     ]
    },
    {
     "name": "stderr",
     "output_type": "stream",
     "text": [
      "Epoch 89/100: 100%|██████████| 54/54 [00:00<00:00, 706.16it/s]\n"
     ]
    },
    {
     "name": "stdout",
     "output_type": "stream",
     "text": [
      "Epoch [89/100]\n",
      "  Training Loss: 0.416723\n",
      "  Validation Loss: 0.403311\n",
      "  Model saved to ../models/autoencoder.pth\n"
     ]
    },
    {
     "name": "stderr",
     "output_type": "stream",
     "text": [
      "Epoch 90/100: 100%|██████████| 54/54 [00:00<00:00, 659.93it/s]\n"
     ]
    },
    {
     "name": "stdout",
     "output_type": "stream",
     "text": [
      "Epoch [90/100]\n",
      "  Training Loss: 0.406774\n",
      "  Validation Loss: 0.404715\n",
      "  EarlyStopping counter: 1 out of 10\n"
     ]
    },
    {
     "name": "stderr",
     "output_type": "stream",
     "text": [
      "Epoch 91/100: 100%|██████████| 54/54 [00:00<00:00, 678.49it/s]\n"
     ]
    },
    {
     "name": "stdout",
     "output_type": "stream",
     "text": [
      "Epoch [91/100]\n",
      "  Training Loss: 0.404305\n",
      "  Validation Loss: 0.403235\n",
      "  Model saved to ../models/autoencoder.pth\n"
     ]
    },
    {
     "name": "stderr",
     "output_type": "stream",
     "text": [
      "Epoch 92/100: 100%|██████████| 54/54 [00:00<00:00, 546.01it/s]\n"
     ]
    },
    {
     "name": "stdout",
     "output_type": "stream",
     "text": [
      "Epoch [92/100]\n",
      "  Training Loss: 0.411258\n",
      "  Validation Loss: 0.410149\n",
      "  EarlyStopping counter: 1 out of 10\n"
     ]
    },
    {
     "name": "stderr",
     "output_type": "stream",
     "text": [
      "Epoch 93/100: 100%|██████████| 54/54 [00:00<00:00, 636.37it/s]\n"
     ]
    },
    {
     "name": "stdout",
     "output_type": "stream",
     "text": [
      "Epoch [93/100]\n",
      "  Training Loss: 0.406316\n",
      "  Validation Loss: 0.394619\n",
      "  Model saved to ../models/autoencoder.pth\n"
     ]
    },
    {
     "name": "stderr",
     "output_type": "stream",
     "text": [
      "Epoch 94/100: 100%|██████████| 54/54 [00:00<00:00, 597.48it/s]\n"
     ]
    },
    {
     "name": "stdout",
     "output_type": "stream",
     "text": [
      "Epoch [94/100]\n",
      "  Training Loss: 0.411780\n",
      "  Validation Loss: 0.399830\n",
      "  EarlyStopping counter: 1 out of 10\n"
     ]
    },
    {
     "name": "stderr",
     "output_type": "stream",
     "text": [
      "Epoch 95/100: 100%|██████████| 54/54 [00:00<00:00, 596.73it/s]\n"
     ]
    },
    {
     "name": "stdout",
     "output_type": "stream",
     "text": [
      "Epoch [95/100]\n",
      "  Training Loss: 0.402636\n",
      "  Validation Loss: 0.395466\n",
      "  EarlyStopping counter: 2 out of 10\n"
     ]
    },
    {
     "name": "stderr",
     "output_type": "stream",
     "text": [
      "Epoch 96/100: 100%|██████████| 54/54 [00:00<00:00, 560.19it/s]\n"
     ]
    },
    {
     "name": "stdout",
     "output_type": "stream",
     "text": [
      "Epoch [96/100]\n",
      "  Training Loss: 0.405429\n",
      "  Validation Loss: 0.401213\n",
      "  EarlyStopping counter: 3 out of 10\n"
     ]
    },
    {
     "name": "stderr",
     "output_type": "stream",
     "text": [
      "Epoch 97/100: 100%|██████████| 54/54 [00:00<00:00, 609.60it/s]\n"
     ]
    },
    {
     "name": "stdout",
     "output_type": "stream",
     "text": [
      "Epoch [97/100]\n",
      "  Training Loss: 0.408995\n",
      "  Validation Loss: 0.408777\n",
      "  EarlyStopping counter: 4 out of 10\n"
     ]
    },
    {
     "name": "stderr",
     "output_type": "stream",
     "text": [
      "Epoch 98/100: 100%|██████████| 54/54 [00:00<00:00, 581.04it/s]\n"
     ]
    },
    {
     "name": "stdout",
     "output_type": "stream",
     "text": [
      "Epoch [98/100]\n",
      "  Training Loss: 0.401821\n",
      "  Validation Loss: 0.387049\n",
      "  Model saved to ../models/autoencoder.pth\n"
     ]
    },
    {
     "name": "stderr",
     "output_type": "stream",
     "text": [
      "Epoch 99/100: 100%|██████████| 54/54 [00:00<00:00, 582.24it/s]\n"
     ]
    },
    {
     "name": "stdout",
     "output_type": "stream",
     "text": [
      "Epoch [99/100]\n",
      "  Training Loss: 0.394150\n",
      "  Validation Loss: 0.388840\n",
      "  EarlyStopping counter: 1 out of 10\n"
     ]
    },
    {
     "name": "stderr",
     "output_type": "stream",
     "text": [
      "Epoch 100/100: 100%|██████████| 54/54 [00:00<00:00, 506.56it/s]"
     ]
    },
    {
     "name": "stdout",
     "output_type": "stream",
     "text": [
      "Epoch [100/100]\n",
      "  Training Loss: 0.398626\n",
      "  Validation Loss: 0.396082\n",
      "  EarlyStopping counter: 2 out of 10\n"
     ]
    },
    {
     "name": "stderr",
     "output_type": "stream",
     "text": [
      "\n"
     ]
    },
    {
     "data": {
      "image/png": "[encoded data removed]",
      "text/plain": [
       "<Figure size 1000x500 with 1 Axes>"
      ]
     },
     "metadata": {},
     "output_type": "display_data"
    }
   ],
   "source": [
    "# 1. 데이터 준비\n",
    "# 정상 데이터 준비 (훈련, 검증, 테스트용 정상 데이터)\n",
    "normal_dataset = prepare_normal_data('../datas')\n",
    "# 이상치 데이터 준비\n",
    "abnormal_dataset = prepare_test_data('../datas')\n",
    "\n",
    "# 2. 테스트 세트 구성\n",
    "# 정상 테스트 데이터와 이상치 데이터 합치기\n",
    "test_sequences = np.concatenate([\n",
    "    normal_dataset['test_normal'],  # 정상 테스트 시퀀스\n",
    "    abnormal_dataset['abnormal']    # 이상치 시퀀스\n",
    "])\n",
    "\n",
    "# 레이블 생성 (0: 정상, 1: 이상)\n",
    "test_labels = np.concatenate([\n",
    "    np.zeros(len(normal_dataset['test_normal'])),  # 정상 데이터 레이블\n",
    "    np.ones(len(abnormal_dataset['abnormal']))     # 이상치 데이터 레이블\n",
    "])\n",
    "# Dataset과 DataLoader 생성\n",
    "train_dataset = SequenceDataset(normal_dataset['train'])\n",
    "val_dataset = SequenceDataset(normal_dataset['val'])\n",
    "test_dataset = SequenceDataset(test_sequences)\n",
    "\n",
    "train_loader = DataLoader(train_dataset, batch_size=32, shuffle=True)\n",
    "val_loader = DataLoader(val_dataset, batch_size=32, shuffle=False)\n",
    "test_loader = DataLoader(test_dataset, batch_size=32, shuffle=False)\n",
    "\n",
    "# 2. 모델 정의\n",
    "device = 'cuda' if torch.cuda.is_available() else 'cpu'\n",
    "model = LSTMAutoencoder(\n",
    "    input_dim=3,          # X, Y, Z 축 데이터\n",
    "    hidden_dim=64,        # 히든 레이어 차원\n",
    "    seq_length=30,        # 시퀀스 길이\n",
    "    n_layers=2,           # LSTM 레이어 수\n",
    "    dropout=0.2\n",
    ").to(device)\n",
    "\n",
    "# 3. 모델 학습\n",
    "train_losses, val_losses = train_model(\n",
    "    model=model,\n",
    "    train_loader=train_loader,\n",
    "    val_loader=val_loader,\n",
    "    n_epochs=100,\n",
    "    learning_rate=1e-3,\n",
    "    device=device,\n",
    "    patience=10,\n",
    "    model_save_path='../models/autoencoder.pth'\n",
    ")"
   ]
  },
  {
   "cell_type": "code",
   "execution_count": 95,
   "metadata": {},
   "outputs": [
    {
     "name": "stderr",
     "output_type": "stream",
     "text": [
      "/tmp/ipykernel_74509/3731417839.py:119: FutureWarning: You are using `torch.load` with `weights_only=False` (the current default value), which uses the default pickle module implicitly. It is possible to construct malicious pickle data which will execute arbitrary code during unpickling (See https://github.com/pytorch/pytorch/blob/main/SECURITY.md#untrusted-models for more details). In a future release, the default value for `weights_only` will be flipped to `True`. This limits the functions that could be executed during unpickling. Arbitrary objects will no longer be allowed to be loaded via this mode unless they are explicitly allowlisted by the user via `torch.serialization.add_safe_globals`. We recommend you start setting `weights_only=True` for any use case where you don't have full control of the loaded file. Please open an issue on GitHub for any issues related to this experimental feature.\n",
      "  model.load_state_dict(torch.load(model_path, map_location=device))\n"
     ]
    },
    {
     "data": {
      "image/png": "[encoded data removed]",
      "text/plain": [
       "<Figure size 1000x600 with 1 Axes>"
      ]
     },
     "metadata": {},
     "output_type": "display_data"
    },
    {
     "data": {
      "image/png": "[encoded data removed]",
      "text/plain": [
       "<Figure size 1000x600 with 1 Axes>"
      ]
     },
     "metadata": {},
     "output_type": "display_data"
    },
    {
     "data": {
      "image/png": "[encoded data removed]",
      "text/plain": [
       "<Figure size 1000x600 with 1 Axes>"
      ]
     },
     "metadata": {},
     "output_type": "display_data"
    },
    {
     "data": {
      "image/png": "[encoded data removed]",
      "text/plain": [
       "<Figure size 800x600 with 2 Axes>"
      ]
     },
     "metadata": {},
     "output_type": "display_data"
    },
    {
     "name": "stdout",
     "output_type": "stream",
     "text": [
      "\n",
      "Performance Metrics:\n",
      "Optimal Threshold: 0.9209\n",
      "Accuracy: 0.9212\n",
      "Precision: 0.9565\n",
      "Recall: 0.5000\n",
      "F1 Score: 0.6567\n",
      "ROC AUC: 0.7543\n",
      "PR AUC: 0.6050\n",
      "\n",
      "Evaluation Results:\n",
      "Optimal Threshold: 0.9209\n",
      "ROC AUC: 0.7543\n",
      "PR AUC: 0.6050\n",
      "F1 Score: 0.6567\n"
     ]
    }
   ],
   "source": [
    "# 4. 최상의 모델 불러오기 (train_model 함수에서 저장된 모델)\n",
    "model = load_trained_model(\n",
    "    model=model,\n",
    "    model_path='../models/autoencoder.pth',\n",
    "    device=device\n",
    ")\n",
    "\n",
    "# 5. 모델 평가\n",
    "results = evaluate_model(\n",
    "    model=model,\n",
    "    test_loader=test_loader,\n",
    "    test_labels=test_labels,\n",
    "    device=device\n",
    ")\n",
    "\n",
    "# 6. 결과 확인\n",
    "print(\"\\nEvaluation Results:\")\n",
    "print(f\"Optimal Threshold: {results['optimal_threshold']:.4f}\")\n",
    "print(f\"ROC AUC: {results['roc_auc']:.4f}\")\n",
    "print(f\"PR AUC: {results['pr_auc']:.4f}\")\n",
    "print(f\"F1 Score: {results['f1_score']:.4f}\")"
   ]
  },
  {
   "cell_type": "code",
   "execution_count": 96,
   "metadata": {},
   "outputs": [
    {
     "name": "stderr",
     "output_type": "stream",
     "text": [
      "Epoch 1/100: 100%|██████████| 54/54 [00:00<00:00, 515.76it/s]\n"
     ]
    },
    {
     "name": "stdout",
     "output_type": "stream",
     "text": [
      "Epoch [1/100]\n",
      "  Training Loss: 0.402310\n",
      "  Validation Loss: 0.399512\n",
      "  Model saved to ../models/autoencoder.pth\n"
     ]
    },
    {
     "name": "stderr",
     "output_type": "stream",
     "text": [
      "Epoch 2/100: 100%|██████████| 54/54 [00:00<00:00, 533.57it/s]\n"
     ]
    },
    {
     "name": "stdout",
     "output_type": "stream",
     "text": [
      "Epoch [2/100]\n",
      "  Training Loss: 0.395337\n",
      "  Validation Loss: 0.386314\n",
      "  Model saved to ../models/autoencoder.pth\n"
     ]
    },
    {
     "name": "stderr",
     "output_type": "stream",
     "text": [
      "Epoch 3/100: 100%|██████████| 54/54 [00:00<00:00, 547.29it/s]\n"
     ]
    },
    {
     "name": "stdout",
     "output_type": "stream",
     "text": [
      "Epoch [3/100]\n",
      "  Training Loss: 0.391720\n",
      "  Validation Loss: 0.381088\n",
      "  Model saved to ../models/autoencoder.pth\n"
     ]
    },
    {
     "name": "stderr",
     "output_type": "stream",
     "text": [
      "Epoch 4/100: 100%|██████████| 54/54 [00:00<00:00, 637.43it/s]\n"
     ]
    },
    {
     "name": "stdout",
     "output_type": "stream",
     "text": [
      "Epoch [4/100]\n",
      "  Training Loss: 0.387048\n",
      "  Validation Loss: 0.383959\n",
      "  EarlyStopping counter: 1 out of 10\n"
     ]
    },
    {
     "name": "stderr",
     "output_type": "stream",
     "text": [
      "Epoch 5/100: 100%|██████████| 54/54 [00:00<00:00, 654.52it/s]\n"
     ]
    },
    {
     "name": "stdout",
     "output_type": "stream",
     "text": [
      "Epoch [5/100]\n",
      "  Training Loss: 0.388643\n",
      "  Validation Loss: 0.384134\n",
      "  EarlyStopping counter: 2 out of 10\n"
     ]
    },
    {
     "name": "stderr",
     "output_type": "stream",
     "text": [
      "Epoch 6/100: 100%|██████████| 54/54 [00:00<00:00, 581.10it/s]\n"
     ]
    },
    {
     "name": "stdout",
     "output_type": "stream",
     "text": [
      "Epoch [6/100]\n",
      "  Training Loss: 0.392067\n",
      "  Validation Loss: 0.378708\n",
      "  Model saved to ../models/autoencoder.pth\n"
     ]
    },
    {
     "name": "stderr",
     "output_type": "stream",
     "text": [
      "Epoch 7/100: 100%|██████████| 54/54 [00:00<00:00, 602.89it/s]\n"
     ]
    },
    {
     "name": "stdout",
     "output_type": "stream",
     "text": [
      "Epoch [7/100]\n",
      "  Training Loss: 0.386270\n",
      "  Validation Loss: 0.382575\n",
      "  EarlyStopping counter: 1 out of 10\n"
     ]
    },
    {
     "name": "stderr",
     "output_type": "stream",
     "text": [
      "Epoch 8/100: 100%|██████████| 54/54 [00:00<00:00, 602.80it/s]\n"
     ]
    },
    {
     "name": "stdout",
     "output_type": "stream",
     "text": [
      "Epoch [8/100]\n",
      "  Training Loss: 0.385152\n",
      "  Validation Loss: 0.376134\n",
      "  Model saved to ../models/autoencoder.pth\n"
     ]
    },
    {
     "name": "stderr",
     "output_type": "stream",
     "text": [
      "Epoch 9/100: 100%|██████████| 54/54 [00:00<00:00, 545.53it/s]\n"
     ]
    },
    {
     "name": "stdout",
     "output_type": "stream",
     "text": [
      "Epoch [9/100]\n",
      "  Training Loss: 0.382441\n",
      "  Validation Loss: 0.376159\n",
      "  EarlyStopping counter: 1 out of 10\n"
     ]
    },
    {
     "name": "stderr",
     "output_type": "stream",
     "text": [
      "Epoch 10/100: 100%|██████████| 54/54 [00:00<00:00, 507.73it/s]\n"
     ]
    },
    {
     "name": "stdout",
     "output_type": "stream",
     "text": [
      "Epoch [10/100]\n",
      "  Training Loss: 0.385039\n",
      "  Validation Loss: 0.377737\n",
      "  EarlyStopping counter: 2 out of 10\n"
     ]
    },
    {
     "name": "stderr",
     "output_type": "stream",
     "text": [
      "Epoch 11/100: 100%|██████████| 54/54 [00:00<00:00, 574.59it/s]\n"
     ]
    },
    {
     "name": "stdout",
     "output_type": "stream",
     "text": [
      "Epoch [11/100]\n",
      "  Training Loss: 0.381388\n",
      "  Validation Loss: 0.376471\n",
      "  EarlyStopping counter: 3 out of 10\n"
     ]
    },
    {
     "name": "stderr",
     "output_type": "stream",
     "text": [
      "Epoch 12/100: 100%|██████████| 54/54 [00:00<00:00, 552.11it/s]\n"
     ]
    },
    {
     "name": "stdout",
     "output_type": "stream",
     "text": [
      "Epoch [12/100]\n",
      "  Training Loss: 0.397454\n",
      "  Validation Loss: 0.377364\n",
      "  EarlyStopping counter: 4 out of 10\n"
     ]
    },
    {
     "name": "stderr",
     "output_type": "stream",
     "text": [
      "Epoch 13/100: 100%|██████████| 54/54 [00:00<00:00, 542.23it/s]\n"
     ]
    },
    {
     "name": "stdout",
     "output_type": "stream",
     "text": [
      "Epoch [13/100]\n",
      "  Training Loss: 0.381959\n",
      "  Validation Loss: 0.369546\n",
      "  Model saved to ../models/autoencoder.pth\n"
     ]
    },
    {
     "name": "stderr",
     "output_type": "stream",
     "text": [
      "Epoch 14/100: 100%|██████████| 54/54 [00:00<00:00, 578.94it/s]\n"
     ]
    },
    {
     "name": "stdout",
     "output_type": "stream",
     "text": [
      "Epoch [14/100]\n",
      "  Training Loss: 0.384783\n",
      "  Validation Loss: 0.381588\n",
      "  EarlyStopping counter: 1 out of 10\n"
     ]
    },
    {
     "name": "stderr",
     "output_type": "stream",
     "text": [
      "Epoch 15/100: 100%|██████████| 54/54 [00:00<00:00, 610.76it/s]\n"
     ]
    },
    {
     "name": "stdout",
     "output_type": "stream",
     "text": [
      "Epoch [15/100]\n",
      "  Training Loss: 0.387053\n",
      "  Validation Loss: 0.370712\n",
      "  EarlyStopping counter: 2 out of 10\n"
     ]
    },
    {
     "name": "stderr",
     "output_type": "stream",
     "text": [
      "Epoch 16/100: 100%|██████████| 54/54 [00:00<00:00, 611.88it/s]\n"
     ]
    },
    {
     "name": "stdout",
     "output_type": "stream",
     "text": [
      "Epoch [16/100]\n",
      "  Training Loss: 0.377303\n",
      "  Validation Loss: 0.371112\n",
      "  EarlyStopping counter: 3 out of 10\n"
     ]
    },
    {
     "name": "stderr",
     "output_type": "stream",
     "text": [
      "Epoch 17/100: 100%|██████████| 54/54 [00:00<00:00, 522.22it/s]\n"
     ]
    },
    {
     "name": "stdout",
     "output_type": "stream",
     "text": [
      "Epoch [17/100]\n",
      "  Training Loss: 0.373586\n",
      "  Validation Loss: 0.369894\n",
      "  EarlyStopping counter: 4 out of 10\n"
     ]
    },
    {
     "name": "stderr",
     "output_type": "stream",
     "text": [
      "Epoch 18/100: 100%|██████████| 54/54 [00:00<00:00, 624.12it/s]\n"
     ]
    },
    {
     "name": "stdout",
     "output_type": "stream",
     "text": [
      "Epoch [18/100]\n",
      "  Training Loss: 0.375637\n",
      "  Validation Loss: 0.367306\n",
      "  Model saved to ../models/autoencoder.pth\n"
     ]
    },
    {
     "name": "stderr",
     "output_type": "stream",
     "text": [
      "Epoch 19/100: 100%|██████████| 54/54 [00:00<00:00, 699.56it/s]\n"
     ]
    },
    {
     "name": "stdout",
     "output_type": "stream",
     "text": [
      "Epoch [19/100]\n",
      "  Training Loss: 0.371573\n",
      "  Validation Loss: 0.367033\n",
      "  Model saved to ../models/autoencoder.pth\n"
     ]
    },
    {
     "name": "stderr",
     "output_type": "stream",
     "text": [
      "Epoch 20/100: 100%|██████████| 54/54 [00:00<00:00, 555.87it/s]\n"
     ]
    },
    {
     "name": "stdout",
     "output_type": "stream",
     "text": [
      "Epoch [20/100]\n",
      "  Training Loss: 0.371426\n",
      "  Validation Loss: 0.365337\n",
      "  Model saved to ../models/autoencoder.pth\n"
     ]
    },
    {
     "name": "stderr",
     "output_type": "stream",
     "text": [
      "Epoch 21/100: 100%|██████████| 54/54 [00:00<00:00, 629.41it/s]\n"
     ]
    },
    {
     "name": "stdout",
     "output_type": "stream",
     "text": [
      "Epoch [21/100]\n",
      "  Training Loss: 0.378796\n",
      "  Validation Loss: 0.384939\n",
      "  EarlyStopping counter: 1 out of 10\n"
     ]
    },
    {
     "name": "stderr",
     "output_type": "stream",
     "text": [
      "Epoch 22/100: 100%|██████████| 54/54 [00:00<00:00, 600.64it/s]\n"
     ]
    },
    {
     "name": "stdout",
     "output_type": "stream",
     "text": [
      "Epoch [22/100]\n",
      "  Training Loss: 0.396864\n",
      "  Validation Loss: 0.370509\n",
      "  EarlyStopping counter: 2 out of 10\n"
     ]
    },
    {
     "name": "stderr",
     "output_type": "stream",
     "text": [
      "Epoch 23/100: 100%|██████████| 54/54 [00:00<00:00, 616.11it/s]\n"
     ]
    },
    {
     "name": "stdout",
     "output_type": "stream",
     "text": [
      "Epoch [23/100]\n",
      "  Training Loss: 0.371945\n",
      "  Validation Loss: 0.368516\n",
      "  EarlyStopping counter: 3 out of 10\n"
     ]
    },
    {
     "name": "stderr",
     "output_type": "stream",
     "text": [
      "Epoch 24/100: 100%|██████████| 54/54 [00:00<00:00, 621.08it/s]\n"
     ]
    },
    {
     "name": "stdout",
     "output_type": "stream",
     "text": [
      "Epoch [24/100]\n",
      "  Training Loss: 0.373851\n",
      "  Validation Loss: 0.362590\n",
      "  Model saved to ../models/autoencoder.pth\n"
     ]
    },
    {
     "name": "stderr",
     "output_type": "stream",
     "text": [
      "Epoch 25/100: 100%|██████████| 54/54 [00:00<00:00, 635.43it/s]\n"
     ]
    },
    {
     "name": "stdout",
     "output_type": "stream",
     "text": [
      "Epoch [25/100]\n",
      "  Training Loss: 0.370388\n",
      "  Validation Loss: 0.368295\n",
      "  EarlyStopping counter: 1 out of 10\n"
     ]
    },
    {
     "name": "stderr",
     "output_type": "stream",
     "text": [
      "Epoch 26/100: 100%|██████████| 54/54 [00:00<00:00, 540.75it/s]\n"
     ]
    },
    {
     "name": "stdout",
     "output_type": "stream",
     "text": [
      "Epoch [26/100]\n",
      "  Training Loss: 0.365057\n",
      "  Validation Loss: 0.360363\n",
      "  Model saved to ../models/autoencoder.pth\n"
     ]
    },
    {
     "name": "stderr",
     "output_type": "stream",
     "text": [
      "Epoch 27/100: 100%|██████████| 54/54 [00:00<00:00, 633.52it/s]\n"
     ]
    },
    {
     "name": "stdout",
     "output_type": "stream",
     "text": [
      "Epoch [27/100]\n",
      "  Training Loss: 0.366940\n",
      "  Validation Loss: 0.362999\n",
      "  EarlyStopping counter: 1 out of 10\n"
     ]
    },
    {
     "name": "stderr",
     "output_type": "stream",
     "text": [
      "Epoch 28/100: 100%|██████████| 54/54 [00:00<00:00, 595.02it/s]\n"
     ]
    },
    {
     "name": "stdout",
     "output_type": "stream",
     "text": [
      "Epoch [28/100]\n",
      "  Training Loss: 0.386659\n",
      "  Validation Loss: 0.371040\n",
      "  EarlyStopping counter: 2 out of 10\n"
     ]
    },
    {
     "name": "stderr",
     "output_type": "stream",
     "text": [
      "Epoch 29/100: 100%|██████████| 54/54 [00:00<00:00, 518.88it/s]\n"
     ]
    },
    {
     "name": "stdout",
     "output_type": "stream",
     "text": [
      "Epoch [29/100]\n",
      "  Training Loss: 0.369510\n",
      "  Validation Loss: 0.368866\n",
      "  EarlyStopping counter: 3 out of 10\n"
     ]
    },
    {
     "name": "stderr",
     "output_type": "stream",
     "text": [
      "Epoch 30/100: 100%|██████████| 54/54 [00:00<00:00, 610.25it/s]\n"
     ]
    },
    {
     "name": "stdout",
     "output_type": "stream",
     "text": [
      "Epoch [30/100]\n",
      "  Training Loss: 0.374789\n",
      "  Validation Loss: 0.364061\n",
      "  EarlyStopping counter: 4 out of 10\n"
     ]
    },
    {
     "name": "stderr",
     "output_type": "stream",
     "text": [
      "Epoch 31/100: 100%|██████████| 54/54 [00:00<00:00, 657.23it/s]\n"
     ]
    },
    {
     "name": "stdout",
     "output_type": "stream",
     "text": [
      "Epoch [31/100]\n",
      "  Training Loss: 0.369067\n",
      "  Validation Loss: 0.354311\n",
      "  Model saved to ../models/autoencoder.pth\n"
     ]
    },
    {
     "name": "stderr",
     "output_type": "stream",
     "text": [
      "Epoch 32/100: 100%|██████████| 54/54 [00:00<00:00, 662.09it/s]\n"
     ]
    },
    {
     "name": "stdout",
     "output_type": "stream",
     "text": [
      "Epoch [32/100]\n",
      "  Training Loss: 0.368625\n",
      "  Validation Loss: 0.355507\n",
      "  EarlyStopping counter: 1 out of 10\n"
     ]
    },
    {
     "name": "stderr",
     "output_type": "stream",
     "text": [
      "Epoch 33/100: 100%|██████████| 54/54 [00:00<00:00, 684.70it/s]\n"
     ]
    },
    {
     "name": "stdout",
     "output_type": "stream",
     "text": [
      "Epoch [33/100]\n",
      "  Training Loss: 0.363041\n",
      "  Validation Loss: 0.355220\n",
      "  EarlyStopping counter: 2 out of 10\n"
     ]
    },
    {
     "name": "stderr",
     "output_type": "stream",
     "text": [
      "Epoch 34/100: 100%|██████████| 54/54 [00:00<00:00, 601.82it/s]\n"
     ]
    },
    {
     "name": "stdout",
     "output_type": "stream",
     "text": [
      "Epoch [34/100]\n",
      "  Training Loss: 0.360873\n",
      "  Validation Loss: 0.352808\n",
      "  Model saved to ../models/autoencoder.pth\n"
     ]
    },
    {
     "name": "stderr",
     "output_type": "stream",
     "text": [
      "Epoch 35/100: 100%|██████████| 54/54 [00:00<00:00, 591.44it/s]\n"
     ]
    },
    {
     "name": "stdout",
     "output_type": "stream",
     "text": [
      "Epoch [35/100]\n",
      "  Training Loss: 0.362984\n",
      "  Validation Loss: 0.359202\n",
      "  EarlyStopping counter: 1 out of 10\n"
     ]
    },
    {
     "name": "stderr",
     "output_type": "stream",
     "text": [
      "Epoch 36/100: 100%|██████████| 54/54 [00:00<00:00, 598.55it/s]\n"
     ]
    },
    {
     "name": "stdout",
     "output_type": "stream",
     "text": [
      "Epoch [36/100]\n",
      "  Training Loss: 0.367536\n",
      "  Validation Loss: 0.351274\n",
      "  Model saved to ../models/autoencoder.pth\n"
     ]
    },
    {
     "name": "stderr",
     "output_type": "stream",
     "text": [
      "Epoch 37/100: 100%|██████████| 54/54 [00:00<00:00, 540.20it/s]\n"
     ]
    },
    {
     "name": "stdout",
     "output_type": "stream",
     "text": [
      "Epoch [37/100]\n",
      "  Training Loss: 0.354609\n",
      "  Validation Loss: 0.351105\n",
      "  Model saved to ../models/autoencoder.pth\n"
     ]
    },
    {
     "name": "stderr",
     "output_type": "stream",
     "text": [
      "Epoch 38/100: 100%|██████████| 54/54 [00:00<00:00, 627.80it/s]\n"
     ]
    },
    {
     "name": "stdout",
     "output_type": "stream",
     "text": [
      "Epoch [38/100]\n",
      "  Training Loss: 0.358440\n",
      "  Validation Loss: 0.357735\n",
      "  EarlyStopping counter: 1 out of 10\n"
     ]
    },
    {
     "name": "stderr",
     "output_type": "stream",
     "text": [
      "Epoch 39/100: 100%|██████████| 54/54 [00:00<00:00, 550.24it/s]\n"
     ]
    },
    {
     "name": "stdout",
     "output_type": "stream",
     "text": [
      "Epoch [39/100]\n",
      "  Training Loss: 0.353794\n",
      "  Validation Loss: 0.352993\n",
      "  EarlyStopping counter: 2 out of 10\n"
     ]
    },
    {
     "name": "stderr",
     "output_type": "stream",
     "text": [
      "Epoch 40/100: 100%|██████████| 54/54 [00:00<00:00, 631.68it/s]\n"
     ]
    },
    {
     "name": "stdout",
     "output_type": "stream",
     "text": [
      "Epoch [40/100]\n",
      "  Training Loss: 0.349726\n",
      "  Validation Loss: 0.350345\n",
      "  Model saved to ../models/autoencoder.pth\n"
     ]
    },
    {
     "name": "stderr",
     "output_type": "stream",
     "text": [
      "Epoch 41/100: 100%|██████████| 54/54 [00:00<00:00, 631.30it/s]\n"
     ]
    },
    {
     "name": "stdout",
     "output_type": "stream",
     "text": [
      "Epoch [41/100]\n",
      "  Training Loss: 0.349275\n",
      "  Validation Loss: 0.357791\n",
      "  EarlyStopping counter: 1 out of 10\n"
     ]
    },
    {
     "name": "stderr",
     "output_type": "stream",
     "text": [
      "Epoch 42/100: 100%|██████████| 54/54 [00:00<00:00, 592.76it/s]\n"
     ]
    },
    {
     "name": "stdout",
     "output_type": "stream",
     "text": [
      "Epoch [42/100]\n",
      "  Training Loss: 0.357044\n",
      "  Validation Loss: 0.358748\n",
      "  EarlyStopping counter: 2 out of 10\n"
     ]
    },
    {
     "name": "stderr",
     "output_type": "stream",
     "text": [
      "Epoch 43/100: 100%|██████████| 54/54 [00:00<00:00, 571.67it/s]\n"
     ]
    },
    {
     "name": "stdout",
     "output_type": "stream",
     "text": [
      "Epoch [43/100]\n",
      "  Training Loss: 0.364543\n",
      "  Validation Loss: 0.347821\n",
      "  Model saved to ../models/autoencoder.pth\n"
     ]
    },
    {
     "name": "stderr",
     "output_type": "stream",
     "text": [
      "Epoch 44/100: 100%|██████████| 54/54 [00:00<00:00, 510.03it/s]\n"
     ]
    },
    {
     "name": "stdout",
     "output_type": "stream",
     "text": [
      "Epoch [44/100]\n",
      "  Training Loss: 0.351798\n",
      "  Validation Loss: 0.350651\n",
      "  EarlyStopping counter: 1 out of 10\n"
     ]
    },
    {
     "name": "stderr",
     "output_type": "stream",
     "text": [
      "Epoch 45/100: 100%|██████████| 54/54 [00:00<00:00, 686.31it/s]\n"
     ]
    },
    {
     "name": "stdout",
     "output_type": "stream",
     "text": [
      "Epoch [45/100]\n",
      "  Training Loss: 0.345075\n",
      "  Validation Loss: 0.344068\n",
      "  Model saved to ../models/autoencoder.pth\n"
     ]
    },
    {
     "name": "stderr",
     "output_type": "stream",
     "text": [
      "Epoch 46/100: 100%|██████████| 54/54 [00:00<00:00, 594.52it/s]\n"
     ]
    },
    {
     "name": "stdout",
     "output_type": "stream",
     "text": [
      "Epoch [46/100]\n",
      "  Training Loss: 0.350020\n",
      "  Validation Loss: 0.349199\n",
      "  EarlyStopping counter: 1 out of 10\n"
     ]
    },
    {
     "name": "stderr",
     "output_type": "stream",
     "text": [
      "Epoch 47/100: 100%|██████████| 54/54 [00:00<00:00, 631.72it/s]\n"
     ]
    },
    {
     "name": "stdout",
     "output_type": "stream",
     "text": [
      "Epoch [47/100]\n",
      "  Training Loss: 0.360476\n",
      "  Validation Loss: 0.342075\n",
      "  Model saved to ../models/autoencoder.pth\n"
     ]
    },
    {
     "name": "stderr",
     "output_type": "stream",
     "text": [
      "Epoch 48/100: 100%|██████████| 54/54 [00:00<00:00, 569.34it/s]\n"
     ]
    },
    {
     "name": "stdout",
     "output_type": "stream",
     "text": [
      "Epoch [48/100]\n",
      "  Training Loss: 0.350665\n",
      "  Validation Loss: 0.340496\n",
      "  Model saved to ../models/autoencoder.pth\n"
     ]
    },
    {
     "name": "stderr",
     "output_type": "stream",
     "text": [
      "Epoch 49/100: 100%|██████████| 54/54 [00:00<00:00, 616.93it/s]\n"
     ]
    },
    {
     "name": "stdout",
     "output_type": "stream",
     "text": [
      "Epoch [49/100]\n",
      "  Training Loss: 0.341814\n",
      "  Validation Loss: 0.342397\n",
      "  EarlyStopping counter: 1 out of 10\n"
     ]
    },
    {
     "name": "stderr",
     "output_type": "stream",
     "text": [
      "Epoch 50/100: 100%|██████████| 54/54 [00:00<00:00, 642.80it/s]\n"
     ]
    },
    {
     "name": "stdout",
     "output_type": "stream",
     "text": [
      "Epoch [50/100]\n",
      "  Training Loss: 0.340292\n",
      "  Validation Loss: 0.339729\n",
      "  Model saved to ../models/autoencoder.pth\n"
     ]
    },
    {
     "name": "stderr",
     "output_type": "stream",
     "text": [
      "Epoch 51/100: 100%|██████████| 54/54 [00:00<00:00, 513.84it/s]\n"
     ]
    },
    {
     "name": "stdout",
     "output_type": "stream",
     "text": [
      "Epoch [51/100]\n",
      "  Training Loss: 0.336027\n",
      "  Validation Loss: 0.338706\n",
      "  Model saved to ../models/autoencoder.pth\n"
     ]
    },
    {
     "name": "stderr",
     "output_type": "stream",
     "text": [
      "Epoch 52/100: 100%|██████████| 54/54 [00:00<00:00, 610.14it/s]\n"
     ]
    },
    {
     "name": "stdout",
     "output_type": "stream",
     "text": [
      "Epoch [52/100]\n",
      "  Training Loss: 0.340838\n",
      "  Validation Loss: 0.337614\n",
      "  Model saved to ../models/autoencoder.pth\n"
     ]
    },
    {
     "name": "stderr",
     "output_type": "stream",
     "text": [
      "Epoch 53/100: 100%|██████████| 54/54 [00:00<00:00, 608.71it/s]\n"
     ]
    },
    {
     "name": "stdout",
     "output_type": "stream",
     "text": [
      "Epoch [53/100]\n",
      "  Training Loss: 0.341086\n",
      "  Validation Loss: 0.338073\n",
      "  EarlyStopping counter: 1 out of 10\n"
     ]
    },
    {
     "name": "stderr",
     "output_type": "stream",
     "text": [
      "Epoch 54/100: 100%|██████████| 54/54 [00:00<00:00, 611.24it/s]\n"
     ]
    },
    {
     "name": "stdout",
     "output_type": "stream",
     "text": [
      "Epoch [54/100]\n",
      "  Training Loss: 0.341357\n",
      "  Validation Loss: 0.357076\n",
      "  EarlyStopping counter: 2 out of 10\n"
     ]
    },
    {
     "name": "stderr",
     "output_type": "stream",
     "text": [
      "Epoch 55/100: 100%|██████████| 54/54 [00:00<00:00, 662.71it/s]\n"
     ]
    },
    {
     "name": "stdout",
     "output_type": "stream",
     "text": [
      "Epoch [55/100]\n",
      "  Training Loss: 0.343004\n",
      "  Validation Loss: 0.350283\n",
      "  EarlyStopping counter: 3 out of 10\n"
     ]
    },
    {
     "name": "stderr",
     "output_type": "stream",
     "text": [
      "Epoch 56/100: 100%|██████████| 54/54 [00:00<00:00, 670.07it/s]\n"
     ]
    },
    {
     "name": "stdout",
     "output_type": "stream",
     "text": [
      "Epoch [56/100]\n",
      "  Training Loss: 0.333360\n",
      "  Validation Loss: 0.349665\n",
      "  EarlyStopping counter: 4 out of 10\n"
     ]
    },
    {
     "name": "stderr",
     "output_type": "stream",
     "text": [
      "Epoch 57/100: 100%|██████████| 54/54 [00:00<00:00, 566.21it/s]\n"
     ]
    },
    {
     "name": "stdout",
     "output_type": "stream",
     "text": [
      "Epoch [57/100]\n",
      "  Training Loss: 0.333246\n",
      "  Validation Loss: 0.331299\n",
      "  Model saved to ../models/autoencoder.pth\n"
     ]
    },
    {
     "name": "stderr",
     "output_type": "stream",
     "text": [
      "Epoch 58/100: 100%|██████████| 54/54 [00:00<00:00, 667.13it/s]\n"
     ]
    },
    {
     "name": "stdout",
     "output_type": "stream",
     "text": [
      "Epoch [58/100]\n",
      "  Training Loss: 0.329362\n",
      "  Validation Loss: 0.330876\n",
      "  Model saved to ../models/autoencoder.pth\n"
     ]
    },
    {
     "name": "stderr",
     "output_type": "stream",
     "text": [
      "Epoch 59/100: 100%|██████████| 54/54 [00:00<00:00, 600.82it/s]\n"
     ]
    },
    {
     "name": "stdout",
     "output_type": "stream",
     "text": [
      "Epoch [59/100]\n",
      "  Training Loss: 0.332382\n",
      "  Validation Loss: 0.352464\n",
      "  EarlyStopping counter: 1 out of 10\n"
     ]
    },
    {
     "name": "stderr",
     "output_type": "stream",
     "text": [
      "Epoch 60/100: 100%|██████████| 54/54 [00:00<00:00, 595.49it/s]\n"
     ]
    },
    {
     "name": "stdout",
     "output_type": "stream",
     "text": [
      "Epoch [60/100]\n",
      "  Training Loss: 0.370825\n",
      "  Validation Loss: 0.379929\n",
      "  EarlyStopping counter: 2 out of 10\n"
     ]
    },
    {
     "name": "stderr",
     "output_type": "stream",
     "text": [
      "Epoch 61/100: 100%|██████████| 54/54 [00:00<00:00, 519.36it/s]\n"
     ]
    },
    {
     "name": "stdout",
     "output_type": "stream",
     "text": [
      "Epoch [61/100]\n",
      "  Training Loss: 0.357761\n",
      "  Validation Loss: 0.335761\n",
      "  EarlyStopping counter: 3 out of 10\n"
     ]
    },
    {
     "name": "stderr",
     "output_type": "stream",
     "text": [
      "Epoch 62/100: 100%|██████████| 54/54 [00:00<00:00, 532.02it/s]\n"
     ]
    },
    {
     "name": "stdout",
     "output_type": "stream",
     "text": [
      "Epoch [62/100]\n",
      "  Training Loss: 0.350187\n",
      "  Validation Loss: 0.332206\n",
      "  EarlyStopping counter: 4 out of 10\n"
     ]
    },
    {
     "name": "stderr",
     "output_type": "stream",
     "text": [
      "Epoch 63/100: 100%|██████████| 54/54 [00:00<00:00, 557.92it/s]\n"
     ]
    },
    {
     "name": "stdout",
     "output_type": "stream",
     "text": [
      "Epoch [63/100]\n",
      "  Training Loss: 0.327696\n",
      "  Validation Loss: 0.324687\n",
      "  Model saved to ../models/autoencoder.pth\n"
     ]
    },
    {
     "name": "stderr",
     "output_type": "stream",
     "text": [
      "Epoch 64/100: 100%|██████████| 54/54 [00:00<00:00, 666.32it/s]\n"
     ]
    },
    {
     "name": "stdout",
     "output_type": "stream",
     "text": [
      "Epoch [64/100]\n",
      "  Training Loss: 0.323982\n",
      "  Validation Loss: 0.325954\n",
      "  EarlyStopping counter: 1 out of 10\n"
     ]
    },
    {
     "name": "stderr",
     "output_type": "stream",
     "text": [
      "Epoch 65/100: 100%|██████████| 54/54 [00:00<00:00, 547.42it/s]\n"
     ]
    },
    {
     "name": "stdout",
     "output_type": "stream",
     "text": [
      "Epoch [65/100]\n",
      "  Training Loss: 0.325030\n",
      "  Validation Loss: 0.324200\n",
      "  Model saved to ../models/autoencoder.pth\n"
     ]
    },
    {
     "name": "stderr",
     "output_type": "stream",
     "text": [
      "Epoch 66/100: 100%|██████████| 54/54 [00:00<00:00, 650.81it/s]\n"
     ]
    },
    {
     "name": "stdout",
     "output_type": "stream",
     "text": [
      "Epoch [66/100]\n",
      "  Training Loss: 0.326559\n",
      "  Validation Loss: 0.340608\n",
      "  EarlyStopping counter: 1 out of 10\n"
     ]
    },
    {
     "name": "stderr",
     "output_type": "stream",
     "text": [
      "Epoch 67/100: 100%|██████████| 54/54 [00:00<00:00, 507.15it/s]\n"
     ]
    },
    {
     "name": "stdout",
     "output_type": "stream",
     "text": [
      "Epoch [67/100]\n",
      "  Training Loss: 0.327668\n",
      "  Validation Loss: 0.324891\n",
      "  EarlyStopping counter: 2 out of 10\n"
     ]
    },
    {
     "name": "stderr",
     "output_type": "stream",
     "text": [
      "Epoch 68/100: 100%|██████████| 54/54 [00:00<00:00, 542.40it/s]\n"
     ]
    },
    {
     "name": "stdout",
     "output_type": "stream",
     "text": [
      "Epoch [68/100]\n",
      "  Training Loss: 0.317967\n",
      "  Validation Loss: 0.341435\n",
      "  EarlyStopping counter: 3 out of 10\n"
     ]
    },
    {
     "name": "stderr",
     "output_type": "stream",
     "text": [
      "Epoch 69/100: 100%|██████████| 54/54 [00:00<00:00, 628.52it/s]\n"
     ]
    },
    {
     "name": "stdout",
     "output_type": "stream",
     "text": [
      "Epoch [69/100]\n",
      "  Training Loss: 0.320030\n",
      "  Validation Loss: 0.411380\n",
      "  EarlyStopping counter: 4 out of 10\n"
     ]
    },
    {
     "name": "stderr",
     "output_type": "stream",
     "text": [
      "Epoch 70/100: 100%|██████████| 54/54 [00:00<00:00, 645.84it/s]\n"
     ]
    },
    {
     "name": "stdout",
     "output_type": "stream",
     "text": [
      "Epoch [70/100]\n",
      "  Training Loss: 0.372447\n",
      "  Validation Loss: 0.327557\n",
      "  EarlyStopping counter: 5 out of 10\n"
     ]
    },
    {
     "name": "stderr",
     "output_type": "stream",
     "text": [
      "Epoch 71/100: 100%|██████████| 54/54 [00:00<00:00, 548.54it/s]\n"
     ]
    },
    {
     "name": "stdout",
     "output_type": "stream",
     "text": [
      "Epoch [71/100]\n",
      "  Training Loss: 0.320658\n",
      "  Validation Loss: 0.323947\n",
      "  Model saved to ../models/autoencoder.pth\n"
     ]
    },
    {
     "name": "stderr",
     "output_type": "stream",
     "text": [
      "Epoch 72/100: 100%|██████████| 54/54 [00:00<00:00, 509.99it/s]\n"
     ]
    },
    {
     "name": "stdout",
     "output_type": "stream",
     "text": [
      "Epoch [72/100]\n",
      "  Training Loss: 0.319742\n",
      "  Validation Loss: 0.358254\n",
      "  EarlyStopping counter: 1 out of 10\n"
     ]
    },
    {
     "name": "stderr",
     "output_type": "stream",
     "text": [
      "Epoch 73/100: 100%|██████████| 54/54 [00:00<00:00, 583.19it/s]\n"
     ]
    },
    {
     "name": "stdout",
     "output_type": "stream",
     "text": [
      "Epoch [73/100]\n",
      "  Training Loss: 0.340150\n",
      "  Validation Loss: 0.324044\n",
      "  EarlyStopping counter: 2 out of 10\n"
     ]
    },
    {
     "name": "stderr",
     "output_type": "stream",
     "text": [
      "Epoch 74/100: 100%|██████████| 54/54 [00:00<00:00, 533.62it/s]\n"
     ]
    },
    {
     "name": "stdout",
     "output_type": "stream",
     "text": [
      "Epoch [74/100]\n",
      "  Training Loss: 0.317015\n",
      "  Validation Loss: 0.329170\n",
      "  EarlyStopping counter: 3 out of 10\n"
     ]
    },
    {
     "name": "stderr",
     "output_type": "stream",
     "text": [
      "Epoch 75/100: 100%|██████████| 54/54 [00:00<00:00, 605.45it/s]\n"
     ]
    },
    {
     "name": "stdout",
     "output_type": "stream",
     "text": [
      "Epoch [75/100]\n",
      "  Training Loss: 0.315586\n",
      "  Validation Loss: 0.316803\n",
      "  Model saved to ../models/autoencoder.pth\n"
     ]
    },
    {
     "name": "stderr",
     "output_type": "stream",
     "text": [
      "Epoch 76/100: 100%|██████████| 54/54 [00:00<00:00, 555.61it/s]\n"
     ]
    },
    {
     "name": "stdout",
     "output_type": "stream",
     "text": [
      "Epoch [76/100]\n",
      "  Training Loss: 0.317317\n",
      "  Validation Loss: 0.315668\n",
      "  Model saved to ../models/autoencoder.pth\n"
     ]
    },
    {
     "name": "stderr",
     "output_type": "stream",
     "text": [
      "Epoch 77/100: 100%|██████████| 54/54 [00:00<00:00, 669.42it/s]\n"
     ]
    },
    {
     "name": "stdout",
     "output_type": "stream",
     "text": [
      "Epoch [77/100]\n",
      "  Training Loss: 0.312351\n",
      "  Validation Loss: 0.324725\n",
      "  EarlyStopping counter: 1 out of 10\n"
     ]
    },
    {
     "name": "stderr",
     "output_type": "stream",
     "text": [
      "Epoch 78/100: 100%|██████████| 54/54 [00:00<00:00, 502.64it/s]\n"
     ]
    },
    {
     "name": "stdout",
     "output_type": "stream",
     "text": [
      "Epoch [78/100]\n",
      "  Training Loss: 0.313789\n",
      "  Validation Loss: 0.311493\n",
      "  Model saved to ../models/autoencoder.pth\n"
     ]
    },
    {
     "name": "stderr",
     "output_type": "stream",
     "text": [
      "Epoch 79/100: 100%|██████████| 54/54 [00:00<00:00, 658.22it/s]\n"
     ]
    },
    {
     "name": "stdout",
     "output_type": "stream",
     "text": [
      "Epoch [79/100]\n",
      "  Training Loss: 0.308810\n",
      "  Validation Loss: 0.338873\n",
      "  EarlyStopping counter: 1 out of 10\n"
     ]
    },
    {
     "name": "stderr",
     "output_type": "stream",
     "text": [
      "Epoch 80/100: 100%|██████████| 54/54 [00:00<00:00, 679.16it/s]\n"
     ]
    },
    {
     "name": "stdout",
     "output_type": "stream",
     "text": [
      "Epoch [80/100]\n",
      "  Training Loss: 0.308858\n",
      "  Validation Loss: 0.316285\n",
      "  EarlyStopping counter: 2 out of 10\n"
     ]
    },
    {
     "name": "stderr",
     "output_type": "stream",
     "text": [
      "Epoch 81/100: 100%|██████████| 54/54 [00:00<00:00, 560.30it/s]\n"
     ]
    },
    {
     "name": "stdout",
     "output_type": "stream",
     "text": [
      "Epoch [81/100]\n",
      "  Training Loss: 0.305091\n",
      "  Validation Loss: 0.307148\n",
      "  Model saved to ../models/autoencoder.pth\n"
     ]
    },
    {
     "name": "stderr",
     "output_type": "stream",
     "text": [
      "Epoch 82/100: 100%|██████████| 54/54 [00:00<00:00, 573.35it/s]\n"
     ]
    },
    {
     "name": "stdout",
     "output_type": "stream",
     "text": [
      "Epoch [82/100]\n",
      "  Training Loss: 0.298259\n",
      "  Validation Loss: 0.312128\n",
      "  EarlyStopping counter: 1 out of 10\n"
     ]
    },
    {
     "name": "stderr",
     "output_type": "stream",
     "text": [
      "Epoch 83/100: 100%|██████████| 54/54 [00:00<00:00, 516.51it/s]\n"
     ]
    },
    {
     "name": "stdout",
     "output_type": "stream",
     "text": [
      "Epoch [83/100]\n",
      "  Training Loss: 0.301731\n",
      "  Validation Loss: 0.309596\n",
      "  EarlyStopping counter: 2 out of 10\n"
     ]
    },
    {
     "name": "stderr",
     "output_type": "stream",
     "text": [
      "Epoch 84/100: 100%|██████████| 54/54 [00:00<00:00, 591.04it/s]\n"
     ]
    },
    {
     "name": "stdout",
     "output_type": "stream",
     "text": [
      "Epoch [84/100]\n",
      "  Training Loss: 0.305006\n",
      "  Validation Loss: 0.316527\n",
      "  EarlyStopping counter: 3 out of 10\n"
     ]
    },
    {
     "name": "stderr",
     "output_type": "stream",
     "text": [
      "Epoch 85/100: 100%|██████████| 54/54 [00:00<00:00, 587.82it/s]\n"
     ]
    },
    {
     "name": "stdout",
     "output_type": "stream",
     "text": [
      "Epoch [85/100]\n",
      "  Training Loss: 0.302411\n",
      "  Validation Loss: 0.312530\n",
      "  EarlyStopping counter: 4 out of 10\n"
     ]
    },
    {
     "name": "stderr",
     "output_type": "stream",
     "text": [
      "Epoch 86/100: 100%|██████████| 54/54 [00:00<00:00, 500.40it/s]\n"
     ]
    },
    {
     "name": "stdout",
     "output_type": "stream",
     "text": [
      "Epoch [86/100]\n",
      "  Training Loss: 0.304551\n",
      "  Validation Loss: 0.312840\n",
      "  EarlyStopping counter: 5 out of 10\n"
     ]
    },
    {
     "name": "stderr",
     "output_type": "stream",
     "text": [
      "Epoch 87/100: 100%|██████████| 54/54 [00:00<00:00, 524.16it/s]\n"
     ]
    },
    {
     "name": "stdout",
     "output_type": "stream",
     "text": [
      "Epoch [87/100]\n",
      "  Training Loss: 0.307509\n",
      "  Validation Loss: 0.309423\n",
      "  EarlyStopping counter: 6 out of 10\n"
     ]
    },
    {
     "name": "stderr",
     "output_type": "stream",
     "text": [
      "Epoch 88/100: 100%|██████████| 54/54 [00:00<00:00, 657.74it/s]\n"
     ]
    },
    {
     "name": "stdout",
     "output_type": "stream",
     "text": [
      "Epoch [88/100]\n",
      "  Training Loss: 0.299192\n",
      "  Validation Loss: 0.326977\n",
      "  EarlyStopping counter: 7 out of 10\n"
     ]
    },
    {
     "name": "stderr",
     "output_type": "stream",
     "text": [
      "Epoch 89/100: 100%|██████████| 54/54 [00:00<00:00, 629.43it/s]\n"
     ]
    },
    {
     "name": "stdout",
     "output_type": "stream",
     "text": [
      "Epoch [89/100]\n",
      "  Training Loss: 0.303933\n",
      "  Validation Loss: 0.324739\n",
      "  EarlyStopping counter: 8 out of 10\n"
     ]
    },
    {
     "name": "stderr",
     "output_type": "stream",
     "text": [
      "Epoch 90/100: 100%|██████████| 54/54 [00:00<00:00, 507.34it/s]\n"
     ]
    },
    {
     "name": "stdout",
     "output_type": "stream",
     "text": [
      "Epoch [90/100]\n",
      "  Training Loss: 0.302201\n",
      "  Validation Loss: 0.312296\n",
      "  EarlyStopping counter: 9 out of 10\n"
     ]
    },
    {
     "name": "stderr",
     "output_type": "stream",
     "text": [
      "Epoch 91/100: 100%|██████████| 54/54 [00:00<00:00, 572.05it/s]"
     ]
    },
    {
     "name": "stdout",
     "output_type": "stream",
     "text": [
      "Epoch [91/100]\n",
      "  Training Loss: 0.297666\n",
      "  Validation Loss: 0.346590\n",
      "  EarlyStopping counter: 10 out of 10\n",
      "Early stopping triggered\n"
     ]
    },
    {
     "name": "stderr",
     "output_type": "stream",
     "text": [
      "\n"
     ]
    },
    {
     "data": {
      "image/png": "[encoded data removed]",
      "text/plain": [
       "<Figure size 1000x500 with 1 Axes>"
      ]
     },
     "metadata": {},
     "output_type": "display_data"
    },
    {
     "name": "stderr",
     "output_type": "stream",
     "text": [
      "/tmp/ipykernel_74509/3731417839.py:119: FutureWarning: You are using `torch.load` with `weights_only=False` (the current default value), which uses the default pickle module implicitly. It is possible to construct malicious pickle data which will execute arbitrary code during unpickling (See https://github.com/pytorch/pytorch/blob/main/SECURITY.md#untrusted-models for more details). In a future release, the default value for `weights_only` will be flipped to `True`. This limits the functions that could be executed during unpickling. Arbitrary objects will no longer be allowed to be loaded via this mode unless they are explicitly allowlisted by the user via `torch.serialization.add_safe_globals`. We recommend you start setting `weights_only=True` for any use case where you don't have full control of the loaded file. Please open an issue on GitHub for any issues related to this experimental feature.\n",
      "  model.load_state_dict(torch.load(model_path, map_location=device))\n"
     ]
    },
    {
     "ename": "FileNotFoundError",
     "evalue": "[Errno 2] No such file or directory: 'models/autoencoder.pth'",
     "output_type": "error",
     "traceback": [
      "\u001b[0;31m---------------------------------------------------------------------------\u001b[0m",
      "\u001b[0;31mFileNotFoundError\u001b[0m                         Traceback (most recent call last)",
      "Cell \u001b[0;32mIn[96], line 12\u001b[0m\n\u001b[1;32m      2\u001b[0m train_losses, val_losses \u001b[38;5;241m=\u001b[39m train_model(\n\u001b[1;32m      3\u001b[0m     model\u001b[38;5;241m=\u001b[39mmodel,\n\u001b[1;32m      4\u001b[0m     train_loader\u001b[38;5;241m=\u001b[39mtrain_loader,\n\u001b[0;32m   (...)\u001b[0m\n\u001b[1;32m      8\u001b[0m     patience\u001b[38;5;241m=\u001b[39m\u001b[38;5;241m10\u001b[39m\n\u001b[1;32m      9\u001b[0m )\n\u001b[1;32m     11\u001b[0m \u001b[38;5;66;03m# 저장된 최상의 모델 로드\u001b[39;00m\n\u001b[0;32m---> 12\u001b[0m model \u001b[38;5;241m=\u001b[39m \u001b[43mload_trained_model\u001b[49m\u001b[43m(\u001b[49m\u001b[43mmodel\u001b[49m\u001b[43m,\u001b[49m\u001b[43m \u001b[49m\u001b[38;5;124;43m'\u001b[39;49m\u001b[38;5;124;43mmodels/autoencoder.pth\u001b[39;49m\u001b[38;5;124;43m'\u001b[39;49m\u001b[43m)\u001b[49m\n",
      "Cell \u001b[0;32mIn[92], line 119\u001b[0m, in \u001b[0;36mload_trained_model\u001b[0;34m(model, model_path, device)\u001b[0m\n\u001b[1;32m    115\u001b[0m \u001b[38;5;28;01mdef\u001b[39;00m \u001b[38;5;21mload_trained_model\u001b[39m(model, model_path, device\u001b[38;5;241m=\u001b[39m\u001b[38;5;124m'\u001b[39m\u001b[38;5;124mcuda\u001b[39m\u001b[38;5;124m'\u001b[39m \u001b[38;5;28;01mif\u001b[39;00m torch\u001b[38;5;241m.\u001b[39mcuda\u001b[38;5;241m.\u001b[39mis_available() \u001b[38;5;28;01melse\u001b[39;00m \u001b[38;5;124m'\u001b[39m\u001b[38;5;124mcpu\u001b[39m\u001b[38;5;124m'\u001b[39m):\n\u001b[1;32m    116\u001b[0m \u001b[38;5;250m    \u001b[39m\u001b[38;5;124;03m\"\"\"\u001b[39;00m\n\u001b[1;32m    117\u001b[0m \u001b[38;5;124;03m    저장된 모델 가중치를 로드하는 함수\u001b[39;00m\n\u001b[1;32m    118\u001b[0m \u001b[38;5;124;03m    \"\"\"\u001b[39;00m\n\u001b[0;32m--> 119\u001b[0m     model\u001b[38;5;241m.\u001b[39mload_state_dict(\u001b[43mtorch\u001b[49m\u001b[38;5;241;43m.\u001b[39;49m\u001b[43mload\u001b[49m\u001b[43m(\u001b[49m\u001b[43mmodel_path\u001b[49m\u001b[43m,\u001b[49m\u001b[43m \u001b[49m\u001b[43mmap_location\u001b[49m\u001b[38;5;241;43m=\u001b[39;49m\u001b[43mdevice\u001b[49m\u001b[43m)\u001b[49m)\n\u001b[1;32m    120\u001b[0m     model\u001b[38;5;241m.\u001b[39mto(device)\n\u001b[1;32m    121\u001b[0m     \u001b[38;5;28;01mreturn\u001b[39;00m model\n",
      "File \u001b[0;32m~/anaconda3/envs/AI/lib/python3.8/site-packages/torch/serialization.py:1065\u001b[0m, in \u001b[0;36mload\u001b[0;34m(f, map_location, pickle_module, weights_only, mmap, **pickle_load_args)\u001b[0m\n\u001b[1;32m   1062\u001b[0m \u001b[38;5;28;01mif\u001b[39;00m \u001b[38;5;124m'\u001b[39m\u001b[38;5;124mencoding\u001b[39m\u001b[38;5;124m'\u001b[39m \u001b[38;5;129;01mnot\u001b[39;00m \u001b[38;5;129;01min\u001b[39;00m pickle_load_args\u001b[38;5;241m.\u001b[39mkeys():\n\u001b[1;32m   1063\u001b[0m     pickle_load_args[\u001b[38;5;124m'\u001b[39m\u001b[38;5;124mencoding\u001b[39m\u001b[38;5;124m'\u001b[39m] \u001b[38;5;241m=\u001b[39m \u001b[38;5;124m'\u001b[39m\u001b[38;5;124mutf-8\u001b[39m\u001b[38;5;124m'\u001b[39m\n\u001b[0;32m-> 1065\u001b[0m \u001b[38;5;28;01mwith\u001b[39;00m \u001b[43m_open_file_like\u001b[49m\u001b[43m(\u001b[49m\u001b[43mf\u001b[49m\u001b[43m,\u001b[49m\u001b[43m \u001b[49m\u001b[38;5;124;43m'\u001b[39;49m\u001b[38;5;124;43mrb\u001b[39;49m\u001b[38;5;124;43m'\u001b[39;49m\u001b[43m)\u001b[49m \u001b[38;5;28;01mas\u001b[39;00m opened_file:\n\u001b[1;32m   1066\u001b[0m     \u001b[38;5;28;01mif\u001b[39;00m _is_zipfile(opened_file):\n\u001b[1;32m   1067\u001b[0m         \u001b[38;5;66;03m# The zipfile reader is going to advance the current file position.\u001b[39;00m\n\u001b[1;32m   1068\u001b[0m         \u001b[38;5;66;03m# If we want to actually tail call to torch.jit.load, we need to\u001b[39;00m\n\u001b[1;32m   1069\u001b[0m         \u001b[38;5;66;03m# reset back to the original position.\u001b[39;00m\n\u001b[1;32m   1070\u001b[0m         orig_position \u001b[38;5;241m=\u001b[39m opened_file\u001b[38;5;241m.\u001b[39mtell()\n",
      "File \u001b[0;32m~/anaconda3/envs/AI/lib/python3.8/site-packages/torch/serialization.py:468\u001b[0m, in \u001b[0;36m_open_file_like\u001b[0;34m(name_or_buffer, mode)\u001b[0m\n\u001b[1;32m    466\u001b[0m \u001b[38;5;28;01mdef\u001b[39;00m \u001b[38;5;21m_open_file_like\u001b[39m(name_or_buffer, mode):\n\u001b[1;32m    467\u001b[0m     \u001b[38;5;28;01mif\u001b[39;00m _is_path(name_or_buffer):\n\u001b[0;32m--> 468\u001b[0m         \u001b[38;5;28;01mreturn\u001b[39;00m \u001b[43m_open_file\u001b[49m\u001b[43m(\u001b[49m\u001b[43mname_or_buffer\u001b[49m\u001b[43m,\u001b[49m\u001b[43m \u001b[49m\u001b[43mmode\u001b[49m\u001b[43m)\u001b[49m\n\u001b[1;32m    469\u001b[0m     \u001b[38;5;28;01melse\u001b[39;00m:\n\u001b[1;32m    470\u001b[0m         \u001b[38;5;28;01mif\u001b[39;00m \u001b[38;5;124m'\u001b[39m\u001b[38;5;124mw\u001b[39m\u001b[38;5;124m'\u001b[39m \u001b[38;5;129;01min\u001b[39;00m mode:\n",
      "File \u001b[0;32m~/anaconda3/envs/AI/lib/python3.8/site-packages/torch/serialization.py:449\u001b[0m, in \u001b[0;36m_open_file.__init__\u001b[0;34m(self, name, mode)\u001b[0m\n\u001b[1;32m    448\u001b[0m \u001b[38;5;28;01mdef\u001b[39;00m \u001b[38;5;21m__init__\u001b[39m(\u001b[38;5;28mself\u001b[39m, name, mode):\n\u001b[0;32m--> 449\u001b[0m     \u001b[38;5;28msuper\u001b[39m()\u001b[38;5;241m.\u001b[39m\u001b[38;5;21m__init__\u001b[39m(\u001b[38;5;28;43mopen\u001b[39;49m\u001b[43m(\u001b[49m\u001b[43mname\u001b[49m\u001b[43m,\u001b[49m\u001b[43m \u001b[49m\u001b[43mmode\u001b[49m\u001b[43m)\u001b[49m)\n",
      "\u001b[0;31mFileNotFoundError\u001b[0m: [Errno 2] No such file or directory: 'models/autoencoder.pth'"
     ]
    }
   ],
   "source": [
    "# 모델 훈련\n",
    "train_losses, val_losses = train_model(\n",
    "    model=model,\n",
    "    train_loader=train_loader,\n",
    "    val_loader=val_loader,\n",
    "    n_epochs=100,\n",
    "    learning_rate=1e-3,\n",
    "    patience=10\n",
    ")\n",
    "\n",
    "# 저장된 최상의 모델 로드\n",
    "model = load_trained_model(model, 'models/autoencoder.pth')"
   ]
  },
  {
   "cell_type": "code",
   "execution_count": null,
   "metadata": {},
   "outputs": [],
   "source": []
  }
 ],
 "metadata": {
  "kernelspec": {
   "display_name": "AI",
   "language": "python",
   "name": "python3"
  },
  "language_info": {
   "codemirror_mode": {
    "name": "ipython",
    "version": 3
   },
   "file_extension": ".py",
   "mimetype": "text/x-python",
   "name": "python",
   "nbconvert_exporter": "python",
   "pygments_lexer": "ipython3",
   "version": "3.8.20"
  }
 },
 "nbformat": 4,
 "nbformat_minor": 2
}
