{
 "cells": [
  {
   "cell_type": "markdown",
   "metadata": {},
   "source": [
    "## 1. 필요한 라이브러리 임포트"
   ]
  },
  {
   "cell_type": "code",
   "execution_count": 1,
   "metadata": {},
   "outputs": [
    {
     "name": "stderr",
     "output_type": "stream",
     "text": [
      "2024-12-16 14:02:38.999351: I tensorflow/core/util/port.cc:110] oneDNN custom operations are on. You may see slightly different numerical results due to floating-point round-off errors from different computation orders. To turn them off, set the environment variable `TF_ENABLE_ONEDNN_OPTS=0`.\n",
      "2024-12-16 14:02:39.021572: I tensorflow/core/platform/cpu_feature_guard.cc:182] This TensorFlow binary is optimized to use available CPU instructions in performance-critical operations.\n",
      "To enable the following instructions: AVX2 AVX_VNNI FMA, in other operations, rebuild TensorFlow with the appropriate compiler flags.\n",
      "2024-12-16 14:02:39.355818: W tensorflow/compiler/tf2tensorrt/utils/py_utils.cc:38] TF-TRT Warning: Could not find TensorRT\n"
     ]
    }
   ],
   "source": [
    "# 주요 패키지\n",
    "import numpy as np\n",
    "import pandas as pd\n",
    "import os \n",
    "from pathlib import Path\n",
    "from joblib import dump, load\n",
    "\n",
    "import matplotlib.pyplot as plt\n",
    "import seaborn as sns\n",
    "\n",
    "#\n",
    "from sklearn.preprocessing import StandardScaler\n",
    "from sklearn.preprocessing import MinMaxScaler\n",
    "from sklearn.model_selection import train_test_split\n",
    "from sklearn.metrics import roc_curve, precision_recall_curve, auc, confusion_matrix\n",
    "\n",
    "# 직접 개발한 패키지\n",
    "from utils.config import CONFIG\n",
    "from utils.visualize import visualize_data\n",
    "from modules.input import TimeSeriesDownSampler\n",
    "\n",
    "from training.model_training import create_lstm_autoencoder\n",
    "from training.data_preprocessing import create_sequences\n",
    "from lstmae import LSTMAutoencoder\n",
    "\n",
    "# 딥러닝 프레임워크\n",
    "import torch\n",
    "import torch.nn as nn\n",
    "import torch.optim as optim\n",
    "from torch.utils.data import Dataset, DataLoader\n",
    "from tqdm import tqdm\n",
    "\n",
    "from enum import Enum\n",
    "class ModelType(Enum):\n",
    "    VIB = 1\n",
    "    VOLT = 2\n",
    "    TEMP = 3\n",
    "\n",
    "feature_types = {\n",
    "    ModelType.VIB : 'vib',\n",
    "    ModelType.VOLT : 'volt',\n",
    "    ModelType.TEMP : 'temp'\n",
    "}"
   ]
  },
  {
   "cell_type": "code",
   "execution_count": 2,
   "metadata": {},
   "outputs": [],
   "source": [
    "# 새 모델을 만들 때마다 이 부분을 수정해주세요\n",
    "model_type = ModelType.VOLT\n",
    "lookback = 5"
   ]
  },
  {
   "cell_type": "code",
   "execution_count": 3,
   "metadata": {},
   "outputs": [],
   "source": [
    "scaler_name = 'scaler_' + feature_types[model_type] + '_' + str(lookback)\n",
    "model_name = feature_types[model_type] + '_' + str(lookback)"
   ]
  },
  {
   "cell_type": "code",
   "execution_count": 15,
   "metadata": {},
   "outputs": [],
   "source": [
    "model_path = Path('../models') / (model_name + '.pth')\n",
    "scaler_path = Path('../models') / (scaler_name + '.joblib')\n",
    "data_path = Path('../datas')\n",
    "normal_data_path = Path('../datas/normal') / (feature_types[model_type])\n",
    "abnormal_data_path = Path('../datas/abnormal') / (feature_types[model_type])\n",
    "model_dim = 3 if model_type == ModelType.VIB else 1"
   ]
  },
  {
   "cell_type": "code",
   "execution_count": 16,
   "metadata": {},
   "outputs": [
    {
     "name": "stdout",
     "output_type": "stream",
     "text": [
      "../models/volt_5.pth\n",
      "../models/scaler_volt_5.joblib\n",
      "../datas/normal/volt\n",
      "../datas/abnormal/volt\n",
      "1\n"
     ]
    }
   ],
   "source": [
    "print(model_path)\n",
    "print(scaler_path)\n",
    "print(normal_data_path)\n",
    "print(abnormal_data_path)\n",
    "print(model_dim)"
   ]
  },
  {
   "cell_type": "markdown",
   "metadata": {},
   "source": [
    "## 2. 데이터 로드 및 전처리 함수 정의"
   ]
  },
  {
   "cell_type": "code",
   "execution_count": 6,
   "metadata": {},
   "outputs": [],
   "source": [
    "# 1. 세션 파일 로딩\n",
    "def load_session(file_path):\n",
    "    \"\"\"\n",
    "    단일 세션 데이터를 로드하는 함수\n",
    "    file_path 경로의 데이터를 로드하여 가속도 데이터만을 골라\n",
    "    데이터프레임으로 반환\n",
    "    \"\"\"\n",
    "    df = pd.read_csv(file_path)\n",
    "    # 필요한 데이터의 칼럼만 선택\n",
    "    columns = []\n",
    "    if model_type == ModelType.VIB:\n",
    "        columns = ['accel_x', 'accel_y', 'accel_z']\n",
    "    elif model_type == ModelType.VOLT:\n",
    "        columns = ['voltage']\n",
    "    elif model_type == ModelType.TEMP:\n",
    "        columns = ['temperature']\n",
    "    return df[columns].values"
   ]
  },
  {
   "cell_type": "code",
   "execution_count": 7,
   "metadata": {},
   "outputs": [],
   "source": [
    "# 2. 세션 하나(data)로 시퀀스들 생성\n",
    "def create_sequences(df, sequence_length=5, step_size=3):\n",
    "    \"\"\"\n",
    "    시계열 데이터를 시퀀스로 변환하는 함수\n",
    "    데이터를 길이 sequence_length의 시퀀스들로 step size만큼 이동하며 생성\n",
    "    생성된 시퀀스들의 배열을 반환\n",
    "    \"\"\"\n",
    "    sequences = []\n",
    "    for i in range(0, len(df) - sequence_length + 1, step_size):\n",
    "        sequence = df[i:i + sequence_length]\n",
    "        sequences.append(sequence)\n",
    "    return np.array(sequences)"
   ]
  },
  {
   "cell_type": "code",
   "execution_count": 8,
   "metadata": {},
   "outputs": [],
   "source": [
    "# 3. 정상 시퀀스 생성\n",
    "def prepare_normal_data(normal_data_dir):\n",
    "    \"\"\"\n",
    "    각 세션별로 균등하게 분할하여 데이터셋 준비\n",
    "    위 함수들을 이용해 데이터셋 준비\n",
    "    세션-시퀀스 쌍 딕셔너리 배열을 만든 다음\n",
    "    각 세션 별로 시퀀스들을 70:20:10으로 분할\n",
    "    \n",
    "    train sequence에 대해 스케일러 학습시키고\n",
    "    이 스케일러로 validation seq, test seq도 적용용\n",
    "    \"\"\"\n",
    "    data_dir = Path(normal_data_dir)\n",
    "    \n",
    "    # 각 세션별로 시퀀스 생성\n",
    "    session_sequences = []\n",
    "    for file_path in data_dir.glob('*.csv'):\n",
    "        print(file_path)\n",
    "        session_data = load_session(file_path)\n",
    "        sequences = create_sequences(session_data)\n",
    "        session_sequences.append({\n",
    "            'file_name': file_path.name,\n",
    "            'sequences': sequences\n",
    "        })\n",
    "    \n",
    "    # 각 세션별로 70:20:10 분할\n",
    "    train_sequences = []\n",
    "    val_sequences = []\n",
    "    test_sequences = []\n",
    "    \n",
    "    for session in session_sequences:\n",
    "        sequences = session['sequences']\n",
    "        n_sequences = len(sequences)\n",
    "        \n",
    "        # 인덱스 무작위 섞기\n",
    "        indices = np.random.permutation(n_sequences)\n",
    "        \n",
    "        # 비율에 따라 분할\n",
    "        n_train = int(n_sequences * 0.7)\n",
    "        n_val = int(n_sequences * 0.2)\n",
    "        \n",
    "        train_idx = indices[:n_train]\n",
    "        val_idx = indices[n_train:n_train + n_val]\n",
    "        test_idx = indices[n_train + n_val:]\n",
    "        \n",
    "        train_sequences.append(sequences[train_idx])\n",
    "        val_sequences.append(sequences[val_idx])\n",
    "        test_sequences.append(sequences[test_idx])\n",
    "        \n",
    "        print(f\"Session {session['file_name']}: {len(sequences)} sequences\")\n",
    "        print(f\"  - Train: {len(train_idx)}\")\n",
    "        print(f\"  - Val: {len(val_idx)}\")\n",
    "        print(f\"  - Test: {len(test_idx)}\")\n",
    "    \n",
    "    # 각 세트 내에서 세션 데이터 합치기\n",
    "    train_sequences = np.concatenate(train_sequences)\n",
    "    val_sequences = np.concatenate(val_sequences)\n",
    "    test_sequences = np.concatenate(test_sequences)\n",
    "    \n",
    "    # 스케일러 학습 (훈련 데이터만 사용)\n",
    "    scaler = StandardScaler()\n",
    "    #scaler = MinMaxScaler()\n",
    "    train_sequences_2d = train_sequences.reshape(-1, train_sequences.shape[-1])\n",
    "    scaler.fit(train_sequences_2d)\n",
    "    \n",
    "    # 스케일러 저장\n",
    "    dump(scaler, scaler_path)\n",
    "    print(f\"\\nScaler saved to {scaler_path}\")\n",
    "    \n",
    "    def scale_sequences(sequences):\n",
    "        original_shape = sequences.shape\n",
    "        sequences_2d = sequences.reshape(-1, sequences.shape[-1])\n",
    "        scaled_2d = scaler.transform(sequences_2d)\n",
    "        return scaled_2d.reshape(original_shape)\n",
    "    \n",
    "    # 모든 데이터 스케일링\n",
    "    train_sequences_scaled = scale_sequences(train_sequences)\n",
    "    val_sequences_scaled = scale_sequences(val_sequences)\n",
    "    test_sequences_scaled = scale_sequences(test_sequences)\n",
    "    \n",
    "    return {\n",
    "        'train': train_sequences_scaled,\n",
    "        'val': val_sequences_scaled,\n",
    "        'test_normal': test_sequences_scaled,\n",
    "        'scaler': scaler\n",
    "    }"
   ]
  },
  {
   "cell_type": "code",
   "execution_count": 9,
   "metadata": {},
   "outputs": [],
   "source": [
    "# 4. 스케일러 로딩\n",
    "def load_scaler(models_dir='models'):\n",
    "    \"\"\"저장된 스케일러를 불러오는 함수\"\"\"\n",
    "    if not scaler_path.exists():\n",
    "        raise FileNotFoundError(f\"Scaler file not found at {scaler_path}\")\n",
    "    return load(scaler_path)"
   ]
  },
  {
   "cell_type": "code",
   "execution_count": 10,
   "metadata": {},
   "outputs": [],
   "source": [
    "# 5. 테스트 시퀀스 준비\n",
    "def prepare_test_data(abnormal_data_dir):\n",
    "    \"\"\"저장된 스케일러를 사용하여 테스트 데이터를 준비하는 함수\"\"\"\n",
    "    data_dir = Path(abnormal_data_dir)\n",
    "    # 저장된 스케일러 로드\n",
    "    scaler = load_scaler(scaler_path)\n",
    "    \n",
    "    # 이상치 데이터 로드\n",
    "    abnormal_sequences = []\n",
    "    for file_path in data_dir.glob('*.csv'):\n",
    "        print(file_path)\n",
    "        session_data = load_session(file_path)\n",
    "        sequences = create_sequences(session_data)\n",
    "        abnormal_sequences.extend(sequences)\n",
    "    abnormal_sequences = np.array(abnormal_sequences)\n",
    "    \n",
    "    # 이상치 데이터 스케일링\n",
    "    def scale_sequences(sequences):\n",
    "        original_shape = sequences.shape\n",
    "        sequences_2d = sequences.reshape(-1, sequences.shape[-1])\n",
    "        scaled_2d = scaler.transform(sequences_2d)\n",
    "        return scaled_2d.reshape(original_shape)\n",
    "    \n",
    "    abnormal_sequences_scaled = scale_sequences(abnormal_sequences)\n",
    "    \n",
    "    return {'abnormal': abnormal_sequences_scaled}"
   ]
  },
  {
   "cell_type": "code",
   "execution_count": 11,
   "metadata": {},
   "outputs": [],
   "source": [
    "# 6. 데이터셋 클래스\n",
    "class SequenceDataset(Dataset):\n",
    "    def __init__(self, sequences):\n",
    "        self.sequences = torch.FloatTensor(sequences)\n",
    "    \n",
    "    def __len__(self):\n",
    "        return len(self.sequences)\n",
    "    \n",
    "    def __getitem__(self, idx):\n",
    "        return self.sequences[idx]"
   ]
  },
  {
   "cell_type": "markdown",
   "metadata": {},
   "source": [
    "## 3. 모델 클래스 정의(lstmae.py에서 했음)"
   ]
  },
  {
   "cell_type": "markdown",
   "metadata": {},
   "source": [
    "## 4. 모델 학습 함수 정의"
   ]
  },
  {
   "cell_type": "code",
   "execution_count": 12,
   "metadata": {},
   "outputs": [],
   "source": [
    "def train_model(model, train_loader, val_loader, \n",
    "                n_epochs=100, learning_rate=1e-3, \n",
    "                device='cuda' if torch.cuda.is_available() else 'cpu',\n",
    "                patience=10, model_save_path=model_path):\n",
    "    \"\"\"\n",
    "    LSTM Autoencoder 모델 훈련 함수\n",
    "    \n",
    "    Args:\n",
    "        model: LSTM Autoencoder 모델\n",
    "        train_loader: 훈련 데이터 로더\n",
    "        val_loader: 검증 데이터 로더\n",
    "        n_epochs: 전체 에포크 수\n",
    "        learning_rate: 학습률\n",
    "        device: 학습 디바이스 (CPU/GPU)\n",
    "        patience: Early stopping patience\n",
    "        model_save_path: 모델 저장 경로\n",
    "    \"\"\"\n",
    "    # 모델을 지정된 디바이스로 이동\n",
    "    model = model.to(device)\n",
    "    \n",
    "    # 손실 함수와 옵티마이저 정의\n",
    "    criterion = nn.MSELoss(reduction='mean')\n",
    "    optimizer = optim.Adam(model.parameters(), lr=learning_rate)\n",
    "    \n",
    "    # Early stopping 관련 변수들\n",
    "    best_val_loss = float('inf')\n",
    "    patience_counter = 0\n",
    "    early_stop = False\n",
    "    \n",
    "    # 훈련 과정 모니터링을 위한 리스트\n",
    "    train_losses = []\n",
    "    val_losses = []\n",
    "    \n",
    "    # 모델 저장 경로 설정\n",
    "    model_save_path = Path(model_save_path)\n",
    "    model_save_path.parent.mkdir(exist_ok=True)\n",
    "    \n",
    "    for epoch in range(n_epochs):\n",
    "        # 훈련 모드\n",
    "        model.train()\n",
    "        train_loss = 0\n",
    "        train_batches = 0\n",
    "        \n",
    "        # 훈련 루프\n",
    "        for batch in tqdm(train_loader, desc=f'Epoch {epoch+1}/{n_epochs}'):\n",
    "            batch = batch.to(device)\n",
    "            \n",
    "            # 순전파\n",
    "            output = model(batch)\n",
    "            loss = criterion(output, batch)\n",
    "            \n",
    "            # 역전파 및 옵티마이저 스텝\n",
    "            optimizer.zero_grad()\n",
    "            loss.backward()\n",
    "            optimizer.step()\n",
    "            \n",
    "            train_loss += loss.item()\n",
    "            train_batches += 1\n",
    "        \n",
    "        # 에포크당 평균 훈련 손실 계산\n",
    "        avg_train_loss = train_loss / train_batches\n",
    "        train_losses.append(avg_train_loss)\n",
    "        \n",
    "        # 검증 모드\n",
    "        model.eval()\n",
    "        val_loss = 0\n",
    "        val_batches = 0\n",
    "        \n",
    "        with torch.no_grad():\n",
    "            for batch in val_loader:\n",
    "                batch = batch.to(device)\n",
    "                output = model(batch)\n",
    "                loss = criterion(output, batch)\n",
    "                val_loss += loss.item()\n",
    "                val_batches += 1\n",
    "        \n",
    "        # 에포크당 평균 검증 손실 계산\n",
    "        avg_val_loss = val_loss / val_batches\n",
    "        val_losses.append(avg_val_loss)\n",
    "        \n",
    "        # 현재 상태 출력\n",
    "        print(f'Epoch [{epoch+1}/{n_epochs}]')\n",
    "        print(f'  Training Loss: {avg_train_loss:.6f}')\n",
    "        print(f'  Validation Loss: {avg_val_loss:.6f}')\n",
    "        \n",
    "        # Early stopping 체크\n",
    "        if avg_val_loss < best_val_loss:\n",
    "            best_val_loss = avg_val_loss\n",
    "            patience_counter = 0\n",
    "            # 최상의 모델 저장\n",
    "            torch.save(model.state_dict(), model_save_path)\n",
    "            print(f'  Model saved to {model_save_path}')\n",
    "        else:\n",
    "            patience_counter += 1\n",
    "            print(f'  EarlyStopping counter: {patience_counter} out of {patience}')\n",
    "            \n",
    "        if patience_counter >= patience:\n",
    "            print('Early stopping triggered')\n",
    "            early_stop = True\n",
    "            break\n",
    "    \n",
    "    # 학습 과정 시각화\n",
    "    plt.figure(figsize=(10, 5))\n",
    "    plt.plot(train_losses, label='Training Loss')\n",
    "    plt.plot(val_losses, label='Validation Loss')\n",
    "    plt.xlabel('Epoch')\n",
    "    plt.ylabel('Loss')\n",
    "    plt.title('Training and Validation Loss Over Time')\n",
    "    plt.legend()\n",
    "    plt.grid(True)\n",
    "    plt.show()\n",
    "    \n",
    "    return train_losses, val_losses\n",
    "\n",
    "def load_trained_model(model, model_path, device='cuda' if torch.cuda.is_available() else 'cpu'):\n",
    "    \"\"\"\n",
    "    저장된 모델 가중치를 로드하는 함수\n",
    "    \"\"\"\n",
    "    model.load_state_dict(torch.load(model_path, map_location=device))\n",
    "    model.to(device)\n",
    "    return model"
   ]
  },
  {
   "cell_type": "code",
   "execution_count": 13,
   "metadata": {},
   "outputs": [],
   "source": [
    "def evaluate_model(model, test_loader, test_labels, device='cuda' if torch.cuda.is_available() else 'cpu'):\n",
    "    \"\"\"\n",
    "    모델 평가 및 다양한 메트릭 계산/시각화\n",
    "    \n",
    "    Args:\n",
    "        model: 학습된 LSTM Autoencoder 모델\n",
    "        test_loader: 테스트 데이터 로더\n",
    "        test_labels: 테스트 데이터의 실제 레이블 (0: 정상, 1: 이상)\n",
    "        device: 평가 수행할 디바이스\n",
    "    \"\"\"\n",
    "    model.eval()\n",
    "    reconstruction_errors = []\n",
    "    \n",
    "    # 재구성 오차 계산\n",
    "    with torch.no_grad():\n",
    "        for batch in test_loader:\n",
    "            batch = batch.to(device)\n",
    "            output = model(batch)\n",
    "            # 각 샘플의 재구성 오차 계산\n",
    "            errors = torch.mean((batch - output) ** 2, dim=(1, 2))\n",
    "            \n",
    "            # MinMaxScaler에 맞는 상대 오차로 변경\n",
    "            #relative_error = torch.abs(batch - output) / (torch.abs(batch) + 1e-6)\n",
    "            #errors = torch.mean(relative_error, dim=(1, 2))\n",
    "            reconstruction_errors.extend(errors.cpu().numpy())\n",
    "    \n",
    "    reconstruction_errors = np.array(reconstruction_errors)\n",
    "    \n",
    "    # 1. 재구성 오차 분포 시각화\n",
    "    plt.figure(figsize=(10, 6))\n",
    "    plt.hist(reconstruction_errors[test_labels == 0], bins=50, alpha=0.5, label='Normal', density=True)\n",
    "    plt.hist(reconstruction_errors[test_labels == 1], bins=50, alpha=0.5, label='Anomaly', density=True)\n",
    "    plt.xlabel('Reconstruction Error')\n",
    "    plt.ylabel('Density')\n",
    "    plt.title('Distribution of Reconstruction Errors')\n",
    "    plt.legend()\n",
    "    plt.show()\n",
    "    \n",
    "    # 2. ROC 커브\n",
    "    fpr, tpr, roc_thresholds = roc_curve(test_labels, reconstruction_errors)\n",
    "    roc_auc = auc(fpr, tpr)\n",
    "    \n",
    "    plt.figure(figsize=(10, 6))\n",
    "    plt.plot(fpr, tpr, color='darkorange', lw=2, label=f'ROC curve (AUC = {roc_auc:.2f})')\n",
    "    plt.plot([0, 1], [0, 1], color='navy', lw=2, linestyle='--')\n",
    "    plt.xlim([0.0, 1.0])\n",
    "    plt.ylim([0.0, 1.05])\n",
    "    plt.xlabel('False Positive Rate')\n",
    "    plt.ylabel('True Positive Rate')\n",
    "    plt.title('Receiver Operating Characteristic (ROC) Curve')\n",
    "    plt.legend(loc=\"lower right\")\n",
    "    plt.show()\n",
    "    \n",
    "    # 3. Precision-Recall 커브\n",
    "    precision, recall, pr_thresholds = precision_recall_curve(test_labels, reconstruction_errors)\n",
    "    pr_auc = auc(recall, precision)\n",
    "    \n",
    "    plt.figure(figsize=(10, 6))\n",
    "    plt.plot(recall, precision, color='blue', lw=2, label=f'PR curve (AUC = {pr_auc:.2f})')\n",
    "    plt.xlabel('Recall')\n",
    "    plt.ylabel('Precision')\n",
    "    plt.title('Precision-Recall Curve')\n",
    "    plt.legend(loc=\"lower left\")\n",
    "    plt.show()\n",
    "    \n",
    "    # 4. 최적 임계값 찾기\n",
    "    f1_scores = 2 * (precision * recall) / (precision + recall + 1e-9)\n",
    "    optimal_threshold_idx = np.argmax(f1_scores)\n",
    "    optimal_threshold = pr_thresholds[optimal_threshold_idx]\n",
    "    \n",
    "    # 5. 혼동 행렬\n",
    "    predictions = (reconstruction_errors >= optimal_threshold).astype(int)\n",
    "    cm = confusion_matrix(test_labels, predictions)\n",
    "    \n",
    "    plt.figure(figsize=(8, 6))\n",
    "    sns.heatmap(cm, annot=True, fmt='d', cmap='Blues')\n",
    "    plt.xlabel('Predicted')\n",
    "    plt.ylabel('Actual')\n",
    "    plt.title(f'Confusion Matrix (threshold = {optimal_threshold:.4f})')\n",
    "    plt.show()\n",
    "    \n",
    "    # 6. 성능 지표 계산\n",
    "    tn, fp, fn, tp = cm.ravel()\n",
    "    accuracy = (tp + tn) / (tp + tn + fp + fn)\n",
    "    precision_score = tp / (tp + fp)\n",
    "    recall_score = tp / (tp + fn)\n",
    "    f1 = 2 * (precision_score * recall_score) / (precision_score + recall_score)\n",
    "    \n",
    "    print(\"\\nPerformance Metrics:\")\n",
    "    print(f\"Optimal Threshold: {optimal_threshold:.4f}\")\n",
    "    print(f\"Accuracy: {accuracy:.4f}\")\n",
    "    print(f\"Precision: {precision_score:.4f}\")\n",
    "    print(f\"Recall: {recall_score:.4f}\")\n",
    "    print(f\"F1 Score: {f1:.4f}\")\n",
    "    print(f\"ROC AUC: {roc_auc:.4f}\")\n",
    "    print(f\"PR AUC: {pr_auc:.4f}\")\n",
    "    \n",
    "    return {\n",
    "        'reconstruction_errors': reconstruction_errors,\n",
    "        'optimal_threshold': optimal_threshold,\n",
    "        'roc_auc': roc_auc,\n",
    "        'pr_auc': pr_auc,\n",
    "        'confusion_matrix': cm,\n",
    "        'f1_score': f1\n",
    "    }"
   ]
  },
  {
   "cell_type": "markdown",
   "metadata": {},
   "source": [
    "## 5. 학습 및 테스트 진행"
   ]
  },
  {
   "cell_type": "code",
   "execution_count": 17,
   "metadata": {},
   "outputs": [
    {
     "name": "stdout",
     "output_type": "stream",
     "text": [
      "../datas/normal/volt/downsampled_600-8_loss.csv\n",
      "../datas/normal/volt/downsampled_600-9.csv\n",
      "../datas/normal/volt/downsampled_600-3.csv\n",
      "../datas/normal/volt/downsampled_600-2.csv\n",
      "../datas/normal/volt/downsampled_600-1.csv\n",
      "../datas/normal/volt/600-11-1.csv\n",
      "../datas/normal/volt/downsampled_600-6.csv\n",
      "Session downsampled_600-8_loss.csv: 599 sequences\n",
      "  - Train: 419\n",
      "  - Val: 119\n",
      "  - Test: 61\n",
      "Session downsampled_600-9.csv: 599 sequences\n",
      "  - Train: 419\n",
      "  - Val: 119\n",
      "  - Test: 61\n",
      "Session downsampled_600-3.csv: 599 sequences\n",
      "  - Train: 419\n",
      "  - Val: 119\n",
      "  - Test: 61\n",
      "Session downsampled_600-2.csv: 599 sequences\n",
      "  - Train: 419\n",
      "  - Val: 119\n",
      "  - Test: 61\n",
      "Session downsampled_600-1.csv: 599 sequences\n",
      "  - Train: 419\n",
      "  - Val: 119\n",
      "  - Test: 61\n",
      "Session 600-11-1.csv: 509 sequences\n",
      "  - Train: 356\n",
      "  - Val: 101\n",
      "  - Test: 52\n",
      "Session downsampled_600-6.csv: 599 sequences\n",
      "  - Train: 419\n",
      "  - Val: 119\n",
      "  - Test: 61\n",
      "\n",
      "Scaler saved to ../models/scaler_volt_5.joblib\n",
      "../datas/abnormal/volt/voltage-low.csv\n",
      "../datas/abnormal/volt/voltage-high.csv\n"
     ]
    },
    {
     "name": "stderr",
     "output_type": "stream",
     "text": [
      "Epoch 1/100:   0%|          | 0/90 [00:00<?, ?it/s]"
     ]
    },
    {
     "name": "stderr",
     "output_type": "stream",
     "text": [
      "Epoch 1/100: 100%|██████████| 90/90 [00:00<00:00, 366.21it/s]\n"
     ]
    },
    {
     "name": "stdout",
     "output_type": "stream",
     "text": [
      "Epoch [1/100]\n",
      "  Training Loss: 0.436870\n",
      "  Validation Loss: 0.146056\n",
      "  Model saved to ../models/volt_5.pth\n"
     ]
    },
    {
     "name": "stderr",
     "output_type": "stream",
     "text": [
      "Epoch 2/100: 100%|██████████| 90/90 [00:00<00:00, 624.05it/s]\n"
     ]
    },
    {
     "name": "stdout",
     "output_type": "stream",
     "text": [
      "Epoch [2/100]\n",
      "  Training Loss: 0.110046\n",
      "  Validation Loss: 0.102416\n",
      "  Model saved to ../models/volt_5.pth\n"
     ]
    },
    {
     "name": "stderr",
     "output_type": "stream",
     "text": [
      "Epoch 3/100: 100%|██████████| 90/90 [00:00<00:00, 642.58it/s]\n"
     ]
    },
    {
     "name": "stdout",
     "output_type": "stream",
     "text": [
      "Epoch [3/100]\n",
      "  Training Loss: 0.098885\n",
      "  Validation Loss: 0.095517\n",
      "  Model saved to ../models/volt_5.pth\n"
     ]
    },
    {
     "name": "stderr",
     "output_type": "stream",
     "text": [
      "Epoch 4/100: 100%|██████████| 90/90 [00:00<00:00, 623.89it/s]\n"
     ]
    },
    {
     "name": "stdout",
     "output_type": "stream",
     "text": [
      "Epoch [4/100]\n",
      "  Training Loss: 0.096321\n",
      "  Validation Loss: 0.097630\n",
      "  EarlyStopping counter: 1 out of 10\n"
     ]
    },
    {
     "name": "stderr",
     "output_type": "stream",
     "text": [
      "Epoch 5/100: 100%|██████████| 90/90 [00:00<00:00, 557.20it/s]\n"
     ]
    },
    {
     "name": "stdout",
     "output_type": "stream",
     "text": [
      "Epoch [5/100]\n",
      "  Training Loss: 0.095275\n",
      "  Validation Loss: 0.093263\n",
      "  Model saved to ../models/volt_5.pth\n"
     ]
    },
    {
     "name": "stderr",
     "output_type": "stream",
     "text": [
      "Epoch 6/100: 100%|██████████| 90/90 [00:00<00:00, 636.55it/s]\n"
     ]
    },
    {
     "name": "stdout",
     "output_type": "stream",
     "text": [
      "Epoch [6/100]\n",
      "  Training Loss: 0.092627\n",
      "  Validation Loss: 0.089086\n",
      "  Model saved to ../models/volt_5.pth\n"
     ]
    },
    {
     "name": "stderr",
     "output_type": "stream",
     "text": [
      "Epoch 7/100: 100%|██████████| 90/90 [00:00<00:00, 606.82it/s]\n"
     ]
    },
    {
     "name": "stdout",
     "output_type": "stream",
     "text": [
      "Epoch [7/100]\n",
      "  Training Loss: 0.089489\n",
      "  Validation Loss: 0.087576\n",
      "  Model saved to ../models/volt_5.pth\n"
     ]
    },
    {
     "name": "stderr",
     "output_type": "stream",
     "text": [
      "Epoch 8/100: 100%|██████████| 90/90 [00:00<00:00, 582.57it/s]\n"
     ]
    },
    {
     "name": "stdout",
     "output_type": "stream",
     "text": [
      "Epoch [8/100]\n",
      "  Training Loss: 0.087146\n",
      "  Validation Loss: 0.084092\n",
      "  Model saved to ../models/volt_5.pth\n"
     ]
    },
    {
     "name": "stderr",
     "output_type": "stream",
     "text": [
      "Epoch 9/100: 100%|██████████| 90/90 [00:00<00:00, 633.14it/s]\n"
     ]
    },
    {
     "name": "stdout",
     "output_type": "stream",
     "text": [
      "Epoch [9/100]\n",
      "  Training Loss: 0.082084\n",
      "  Validation Loss: 0.081301\n",
      "  Model saved to ../models/volt_5.pth\n"
     ]
    },
    {
     "name": "stderr",
     "output_type": "stream",
     "text": [
      "Epoch 10/100: 100%|██████████| 90/90 [00:00<00:00, 547.28it/s]\n"
     ]
    },
    {
     "name": "stdout",
     "output_type": "stream",
     "text": [
      "Epoch [10/100]\n",
      "  Training Loss: 0.079559\n",
      "  Validation Loss: 0.075715\n",
      "  Model saved to ../models/volt_5.pth\n"
     ]
    },
    {
     "name": "stderr",
     "output_type": "stream",
     "text": [
      "Epoch 11/100: 100%|██████████| 90/90 [00:00<00:00, 610.54it/s]\n"
     ]
    },
    {
     "name": "stdout",
     "output_type": "stream",
     "text": [
      "Epoch [11/100]\n",
      "  Training Loss: 0.077367\n",
      "  Validation Loss: 0.074508\n",
      "  Model saved to ../models/volt_5.pth\n"
     ]
    },
    {
     "name": "stderr",
     "output_type": "stream",
     "text": [
      "Epoch 12/100: 100%|██████████| 90/90 [00:00<00:00, 618.46it/s]\n"
     ]
    },
    {
     "name": "stdout",
     "output_type": "stream",
     "text": [
      "Epoch [12/100]\n",
      "  Training Loss: 0.074805\n",
      "  Validation Loss: 0.071807\n",
      "  Model saved to ../models/volt_5.pth\n"
     ]
    },
    {
     "name": "stderr",
     "output_type": "stream",
     "text": [
      "Epoch 13/100: 100%|██████████| 90/90 [00:00<00:00, 546.27it/s]\n"
     ]
    },
    {
     "name": "stdout",
     "output_type": "stream",
     "text": [
      "Epoch [13/100]\n",
      "  Training Loss: 0.073247\n",
      "  Validation Loss: 0.074133\n",
      "  EarlyStopping counter: 1 out of 10\n"
     ]
    },
    {
     "name": "stderr",
     "output_type": "stream",
     "text": [
      "Epoch 14/100: 100%|██████████| 90/90 [00:00<00:00, 532.75it/s]\n"
     ]
    },
    {
     "name": "stdout",
     "output_type": "stream",
     "text": [
      "Epoch [14/100]\n",
      "  Training Loss: 0.071789\n",
      "  Validation Loss: 0.073835\n",
      "  EarlyStopping counter: 2 out of 10\n"
     ]
    },
    {
     "name": "stderr",
     "output_type": "stream",
     "text": [
      "Epoch 15/100: 100%|██████████| 90/90 [00:00<00:00, 634.69it/s]\n"
     ]
    },
    {
     "name": "stdout",
     "output_type": "stream",
     "text": [
      "Epoch [15/100]\n",
      "  Training Loss: 0.070602\n",
      "  Validation Loss: 0.067612\n",
      "  Model saved to ../models/volt_5.pth\n"
     ]
    },
    {
     "name": "stderr",
     "output_type": "stream",
     "text": [
      "Epoch 16/100: 100%|██████████| 90/90 [00:00<00:00, 595.42it/s]\n"
     ]
    },
    {
     "name": "stdout",
     "output_type": "stream",
     "text": [
      "Epoch [16/100]\n",
      "  Training Loss: 0.067528\n",
      "  Validation Loss: 0.059764\n",
      "  Model saved to ../models/volt_5.pth\n"
     ]
    },
    {
     "name": "stderr",
     "output_type": "stream",
     "text": [
      "Epoch 17/100: 100%|██████████| 90/90 [00:00<00:00, 591.30it/s]\n"
     ]
    },
    {
     "name": "stdout",
     "output_type": "stream",
     "text": [
      "Epoch [17/100]\n",
      "  Training Loss: 0.058615\n",
      "  Validation Loss: 0.052380\n",
      "  Model saved to ../models/volt_5.pth\n"
     ]
    },
    {
     "name": "stderr",
     "output_type": "stream",
     "text": [
      "Epoch 18/100: 100%|██████████| 90/90 [00:00<00:00, 554.74it/s]\n"
     ]
    },
    {
     "name": "stdout",
     "output_type": "stream",
     "text": [
      "Epoch [18/100]\n",
      "  Training Loss: 0.054756\n",
      "  Validation Loss: 0.051524\n",
      "  Model saved to ../models/volt_5.pth\n"
     ]
    },
    {
     "name": "stderr",
     "output_type": "stream",
     "text": [
      "Epoch 19/100: 100%|██████████| 90/90 [00:00<00:00, 568.15it/s]\n"
     ]
    },
    {
     "name": "stdout",
     "output_type": "stream",
     "text": [
      "Epoch [19/100]\n",
      "  Training Loss: 0.053312\n",
      "  Validation Loss: 0.049806\n",
      "  Model saved to ../models/volt_5.pth\n"
     ]
    },
    {
     "name": "stderr",
     "output_type": "stream",
     "text": [
      "Epoch 20/100: 100%|██████████| 90/90 [00:00<00:00, 590.39it/s]\n"
     ]
    },
    {
     "name": "stdout",
     "output_type": "stream",
     "text": [
      "Epoch [20/100]\n",
      "  Training Loss: 0.050767\n",
      "  Validation Loss: 0.047913\n",
      "  Model saved to ../models/volt_5.pth\n"
     ]
    },
    {
     "name": "stderr",
     "output_type": "stream",
     "text": [
      "Epoch 21/100: 100%|██████████| 90/90 [00:00<00:00, 624.09it/s]\n"
     ]
    },
    {
     "name": "stdout",
     "output_type": "stream",
     "text": [
      "Epoch [21/100]\n",
      "  Training Loss: 0.049946\n",
      "  Validation Loss: 0.046635\n",
      "  Model saved to ../models/volt_5.pth\n"
     ]
    },
    {
     "name": "stderr",
     "output_type": "stream",
     "text": [
      "Epoch 22/100: 100%|██████████| 90/90 [00:00<00:00, 639.55it/s]\n"
     ]
    },
    {
     "name": "stdout",
     "output_type": "stream",
     "text": [
      "Epoch [22/100]\n",
      "  Training Loss: 0.048662\n",
      "  Validation Loss: 0.047083\n",
      "  EarlyStopping counter: 1 out of 10\n"
     ]
    },
    {
     "name": "stderr",
     "output_type": "stream",
     "text": [
      "Epoch 23/100: 100%|██████████| 90/90 [00:00<00:00, 649.13it/s]\n"
     ]
    },
    {
     "name": "stdout",
     "output_type": "stream",
     "text": [
      "Epoch [23/100]\n",
      "  Training Loss: 0.048625\n",
      "  Validation Loss: 0.047722\n",
      "  EarlyStopping counter: 2 out of 10\n"
     ]
    },
    {
     "name": "stderr",
     "output_type": "stream",
     "text": [
      "Epoch 24/100: 100%|██████████| 90/90 [00:00<00:00, 710.78it/s]\n"
     ]
    },
    {
     "name": "stdout",
     "output_type": "stream",
     "text": [
      "Epoch [24/100]\n",
      "  Training Loss: 0.048213\n",
      "  Validation Loss: 0.045362\n",
      "  Model saved to ../models/volt_5.pth\n"
     ]
    },
    {
     "name": "stderr",
     "output_type": "stream",
     "text": [
      "Epoch 25/100: 100%|██████████| 90/90 [00:00<00:00, 633.04it/s]\n"
     ]
    },
    {
     "name": "stdout",
     "output_type": "stream",
     "text": [
      "Epoch [25/100]\n",
      "  Training Loss: 0.046900\n",
      "  Validation Loss: 0.045954\n",
      "  EarlyStopping counter: 1 out of 10\n"
     ]
    },
    {
     "name": "stderr",
     "output_type": "stream",
     "text": [
      "Epoch 26/100: 100%|██████████| 90/90 [00:00<00:00, 541.87it/s]\n"
     ]
    },
    {
     "name": "stdout",
     "output_type": "stream",
     "text": [
      "Epoch [26/100]\n",
      "  Training Loss: 0.045945\n",
      "  Validation Loss: 0.043670\n",
      "  Model saved to ../models/volt_5.pth\n"
     ]
    },
    {
     "name": "stderr",
     "output_type": "stream",
     "text": [
      "Epoch 27/100: 100%|██████████| 90/90 [00:00<00:00, 659.74it/s]\n"
     ]
    },
    {
     "name": "stdout",
     "output_type": "stream",
     "text": [
      "Epoch [27/100]\n",
      "  Training Loss: 0.044978\n",
      "  Validation Loss: 0.041136\n",
      "  Model saved to ../models/volt_5.pth\n"
     ]
    },
    {
     "name": "stderr",
     "output_type": "stream",
     "text": [
      "Epoch 28/100: 100%|██████████| 90/90 [00:00<00:00, 662.24it/s]\n"
     ]
    },
    {
     "name": "stdout",
     "output_type": "stream",
     "text": [
      "Epoch [28/100]\n",
      "  Training Loss: 0.039887\n",
      "  Validation Loss: 0.033402\n",
      "  Model saved to ../models/volt_5.pth\n"
     ]
    },
    {
     "name": "stderr",
     "output_type": "stream",
     "text": [
      "Epoch 29/100: 100%|██████████| 90/90 [00:00<00:00, 664.84it/s]\n"
     ]
    },
    {
     "name": "stdout",
     "output_type": "stream",
     "text": [
      "Epoch [29/100]\n",
      "  Training Loss: 0.032907\n",
      "  Validation Loss: 0.028093\n",
      "  Model saved to ../models/volt_5.pth\n"
     ]
    },
    {
     "name": "stderr",
     "output_type": "stream",
     "text": [
      "Epoch 30/100: 100%|██████████| 90/90 [00:00<00:00, 614.00it/s]\n"
     ]
    },
    {
     "name": "stdout",
     "output_type": "stream",
     "text": [
      "Epoch [30/100]\n",
      "  Training Loss: 0.030191\n",
      "  Validation Loss: 0.027181\n",
      "  Model saved to ../models/volt_5.pth\n"
     ]
    },
    {
     "name": "stderr",
     "output_type": "stream",
     "text": [
      "Epoch 31/100: 100%|██████████| 90/90 [00:00<00:00, 650.97it/s]\n"
     ]
    },
    {
     "name": "stdout",
     "output_type": "stream",
     "text": [
      "Epoch [31/100]\n",
      "  Training Loss: 0.029256\n",
      "  Validation Loss: 0.026125\n",
      "  Model saved to ../models/volt_5.pth\n"
     ]
    },
    {
     "name": "stderr",
     "output_type": "stream",
     "text": [
      "Epoch 32/100: 100%|██████████| 90/90 [00:00<00:00, 616.20it/s]\n"
     ]
    },
    {
     "name": "stdout",
     "output_type": "stream",
     "text": [
      "Epoch [32/100]\n",
      "  Training Loss: 0.027903\n",
      "  Validation Loss: 0.023461\n",
      "  Model saved to ../models/volt_5.pth\n"
     ]
    },
    {
     "name": "stderr",
     "output_type": "stream",
     "text": [
      "Epoch 33/100: 100%|██████████| 90/90 [00:00<00:00, 613.71it/s]\n"
     ]
    },
    {
     "name": "stdout",
     "output_type": "stream",
     "text": [
      "Epoch [33/100]\n",
      "  Training Loss: 0.027237\n",
      "  Validation Loss: 0.022819\n",
      "  Model saved to ../models/volt_5.pth\n"
     ]
    },
    {
     "name": "stderr",
     "output_type": "stream",
     "text": [
      "Epoch 34/100: 100%|██████████| 90/90 [00:00<00:00, 657.63it/s]\n"
     ]
    },
    {
     "name": "stdout",
     "output_type": "stream",
     "text": [
      "Epoch [34/100]\n",
      "  Training Loss: 0.025848\n",
      "  Validation Loss: 0.022479\n",
      "  Model saved to ../models/volt_5.pth\n"
     ]
    },
    {
     "name": "stderr",
     "output_type": "stream",
     "text": [
      "Epoch 35/100: 100%|██████████| 90/90 [00:00<00:00, 656.69it/s]\n"
     ]
    },
    {
     "name": "stdout",
     "output_type": "stream",
     "text": [
      "Epoch [35/100]\n",
      "  Training Loss: 0.025667\n",
      "  Validation Loss: 0.021658\n",
      "  Model saved to ../models/volt_5.pth\n"
     ]
    },
    {
     "name": "stderr",
     "output_type": "stream",
     "text": [
      "Epoch 36/100: 100%|██████████| 90/90 [00:00<00:00, 649.57it/s]\n"
     ]
    },
    {
     "name": "stdout",
     "output_type": "stream",
     "text": [
      "Epoch [36/100]\n",
      "  Training Loss: 0.025731\n",
      "  Validation Loss: 0.023536\n",
      "  EarlyStopping counter: 1 out of 10\n"
     ]
    },
    {
     "name": "stderr",
     "output_type": "stream",
     "text": [
      "Epoch 37/100: 100%|██████████| 90/90 [00:00<00:00, 600.07it/s]\n"
     ]
    },
    {
     "name": "stdout",
     "output_type": "stream",
     "text": [
      "Epoch [37/100]\n",
      "  Training Loss: 0.025397\n",
      "  Validation Loss: 0.022585\n",
      "  EarlyStopping counter: 2 out of 10\n"
     ]
    },
    {
     "name": "stderr",
     "output_type": "stream",
     "text": [
      "Epoch 38/100: 100%|██████████| 90/90 [00:00<00:00, 616.13it/s]\n"
     ]
    },
    {
     "name": "stdout",
     "output_type": "stream",
     "text": [
      "Epoch [38/100]\n",
      "  Training Loss: 0.024966\n",
      "  Validation Loss: 0.024066\n",
      "  EarlyStopping counter: 3 out of 10\n"
     ]
    },
    {
     "name": "stderr",
     "output_type": "stream",
     "text": [
      "Epoch 39/100: 100%|██████████| 90/90 [00:00<00:00, 662.99it/s]\n"
     ]
    },
    {
     "name": "stdout",
     "output_type": "stream",
     "text": [
      "Epoch [39/100]\n",
      "  Training Loss: 0.025019\n",
      "  Validation Loss: 0.021243\n",
      "  Model saved to ../models/volt_5.pth\n"
     ]
    },
    {
     "name": "stderr",
     "output_type": "stream",
     "text": [
      "Epoch 40/100: 100%|██████████| 90/90 [00:00<00:00, 530.65it/s]\n"
     ]
    },
    {
     "name": "stdout",
     "output_type": "stream",
     "text": [
      "Epoch [40/100]\n",
      "  Training Loss: 0.024756\n",
      "  Validation Loss: 0.022363\n",
      "  EarlyStopping counter: 1 out of 10\n"
     ]
    },
    {
     "name": "stderr",
     "output_type": "stream",
     "text": [
      "Epoch 41/100: 100%|██████████| 90/90 [00:00<00:00, 649.77it/s]\n"
     ]
    },
    {
     "name": "stdout",
     "output_type": "stream",
     "text": [
      "Epoch [41/100]\n",
      "  Training Loss: 0.024829\n",
      "  Validation Loss: 0.020967\n",
      "  Model saved to ../models/volt_5.pth\n"
     ]
    },
    {
     "name": "stderr",
     "output_type": "stream",
     "text": [
      "Epoch 42/100: 100%|██████████| 90/90 [00:00<00:00, 617.59it/s]\n"
     ]
    },
    {
     "name": "stdout",
     "output_type": "stream",
     "text": [
      "Epoch [42/100]\n",
      "  Training Loss: 0.024221\n",
      "  Validation Loss: 0.020278\n",
      "  Model saved to ../models/volt_5.pth\n"
     ]
    },
    {
     "name": "stderr",
     "output_type": "stream",
     "text": [
      "Epoch 43/100: 100%|██████████| 90/90 [00:00<00:00, 592.00it/s]\n"
     ]
    },
    {
     "name": "stdout",
     "output_type": "stream",
     "text": [
      "Epoch [43/100]\n",
      "  Training Loss: 0.023735\n",
      "  Validation Loss: 0.020419\n",
      "  EarlyStopping counter: 1 out of 10\n"
     ]
    },
    {
     "name": "stderr",
     "output_type": "stream",
     "text": [
      "Epoch 44/100: 100%|██████████| 90/90 [00:00<00:00, 628.51it/s]\n"
     ]
    },
    {
     "name": "stdout",
     "output_type": "stream",
     "text": [
      "Epoch [44/100]\n",
      "  Training Loss: 0.023551\n",
      "  Validation Loss: 0.021069\n",
      "  EarlyStopping counter: 2 out of 10\n"
     ]
    },
    {
     "name": "stderr",
     "output_type": "stream",
     "text": [
      "Epoch 45/100: 100%|██████████| 90/90 [00:00<00:00, 561.54it/s]\n"
     ]
    },
    {
     "name": "stdout",
     "output_type": "stream",
     "text": [
      "Epoch [45/100]\n",
      "  Training Loss: 0.023754\n",
      "  Validation Loss: 0.020249\n",
      "  Model saved to ../models/volt_5.pth\n"
     ]
    },
    {
     "name": "stderr",
     "output_type": "stream",
     "text": [
      "Epoch 46/100: 100%|██████████| 90/90 [00:00<00:00, 665.31it/s]\n"
     ]
    },
    {
     "name": "stdout",
     "output_type": "stream",
     "text": [
      "Epoch [46/100]\n",
      "  Training Loss: 0.023293\n",
      "  Validation Loss: 0.019585\n",
      "  Model saved to ../models/volt_5.pth\n"
     ]
    },
    {
     "name": "stderr",
     "output_type": "stream",
     "text": [
      "Epoch 47/100: 100%|██████████| 90/90 [00:00<00:00, 614.53it/s]\n"
     ]
    },
    {
     "name": "stdout",
     "output_type": "stream",
     "text": [
      "Epoch [47/100]\n",
      "  Training Loss: 0.021890\n",
      "  Validation Loss: 0.018220\n",
      "  Model saved to ../models/volt_5.pth\n"
     ]
    },
    {
     "name": "stderr",
     "output_type": "stream",
     "text": [
      "Epoch 48/100: 100%|██████████| 90/90 [00:00<00:00, 529.62it/s]\n"
     ]
    },
    {
     "name": "stdout",
     "output_type": "stream",
     "text": [
      "Epoch [48/100]\n",
      "  Training Loss: 0.020458\n",
      "  Validation Loss: 0.014583\n",
      "  Model saved to ../models/volt_5.pth\n"
     ]
    },
    {
     "name": "stderr",
     "output_type": "stream",
     "text": [
      "Epoch 49/100: 100%|██████████| 90/90 [00:00<00:00, 556.80it/s]\n"
     ]
    },
    {
     "name": "stdout",
     "output_type": "stream",
     "text": [
      "Epoch [49/100]\n",
      "  Training Loss: 0.015076\n",
      "  Validation Loss: 0.010332\n",
      "  Model saved to ../models/volt_5.pth\n"
     ]
    },
    {
     "name": "stderr",
     "output_type": "stream",
     "text": [
      "Epoch 50/100: 100%|██████████| 90/90 [00:00<00:00, 682.28it/s]\n"
     ]
    },
    {
     "name": "stdout",
     "output_type": "stream",
     "text": [
      "Epoch [50/100]\n",
      "  Training Loss: 0.009957\n",
      "  Validation Loss: 0.004253\n",
      "  Model saved to ../models/volt_5.pth\n"
     ]
    },
    {
     "name": "stderr",
     "output_type": "stream",
     "text": [
      "Epoch 51/100: 100%|██████████| 90/90 [00:00<00:00, 644.21it/s]\n"
     ]
    },
    {
     "name": "stdout",
     "output_type": "stream",
     "text": [
      "Epoch [51/100]\n",
      "  Training Loss: 0.008565\n",
      "  Validation Loss: 0.004948\n",
      "  EarlyStopping counter: 1 out of 10\n"
     ]
    },
    {
     "name": "stderr",
     "output_type": "stream",
     "text": [
      "Epoch 52/100: 100%|██████████| 90/90 [00:00<00:00, 671.91it/s]\n"
     ]
    },
    {
     "name": "stdout",
     "output_type": "stream",
     "text": [
      "Epoch [52/100]\n",
      "  Training Loss: 0.007321\n",
      "  Validation Loss: 0.002841\n",
      "  Model saved to ../models/volt_5.pth\n"
     ]
    },
    {
     "name": "stderr",
     "output_type": "stream",
     "text": [
      "Epoch 53/100: 100%|██████████| 90/90 [00:00<00:00, 596.02it/s]\n"
     ]
    },
    {
     "name": "stdout",
     "output_type": "stream",
     "text": [
      "Epoch [53/100]\n",
      "  Training Loss: 0.006406\n",
      "  Validation Loss: 0.002619\n",
      "  Model saved to ../models/volt_5.pth\n"
     ]
    },
    {
     "name": "stderr",
     "output_type": "stream",
     "text": [
      "Epoch 54/100: 100%|██████████| 90/90 [00:00<00:00, 620.63it/s]\n"
     ]
    },
    {
     "name": "stdout",
     "output_type": "stream",
     "text": [
      "Epoch [54/100]\n",
      "  Training Loss: 0.006865\n",
      "  Validation Loss: 0.001971\n",
      "  Model saved to ../models/volt_5.pth\n"
     ]
    },
    {
     "name": "stderr",
     "output_type": "stream",
     "text": [
      "Epoch 55/100: 100%|██████████| 90/90 [00:00<00:00, 584.69it/s]\n"
     ]
    },
    {
     "name": "stdout",
     "output_type": "stream",
     "text": [
      "Epoch [55/100]\n",
      "  Training Loss: 0.006182\n",
      "  Validation Loss: 0.005144\n",
      "  EarlyStopping counter: 1 out of 10\n"
     ]
    },
    {
     "name": "stderr",
     "output_type": "stream",
     "text": [
      "Epoch 56/100: 100%|██████████| 90/90 [00:00<00:00, 559.36it/s]\n"
     ]
    },
    {
     "name": "stdout",
     "output_type": "stream",
     "text": [
      "Epoch [56/100]\n",
      "  Training Loss: 0.006376\n",
      "  Validation Loss: 0.002608\n",
      "  EarlyStopping counter: 2 out of 10\n"
     ]
    },
    {
     "name": "stderr",
     "output_type": "stream",
     "text": [
      "Epoch 57/100: 100%|██████████| 90/90 [00:00<00:00, 566.46it/s]\n"
     ]
    },
    {
     "name": "stdout",
     "output_type": "stream",
     "text": [
      "Epoch [57/100]\n",
      "  Training Loss: 0.006077\n",
      "  Validation Loss: 0.002779\n",
      "  EarlyStopping counter: 3 out of 10\n"
     ]
    },
    {
     "name": "stderr",
     "output_type": "stream",
     "text": [
      "Epoch 58/100: 100%|██████████| 90/90 [00:00<00:00, 655.81it/s]\n"
     ]
    },
    {
     "name": "stdout",
     "output_type": "stream",
     "text": [
      "Epoch [58/100]\n",
      "  Training Loss: 0.005974\n",
      "  Validation Loss: 0.002521\n",
      "  EarlyStopping counter: 4 out of 10\n"
     ]
    },
    {
     "name": "stderr",
     "output_type": "stream",
     "text": [
      "Epoch 59/100: 100%|██████████| 90/90 [00:00<00:00, 660.54it/s]\n"
     ]
    },
    {
     "name": "stdout",
     "output_type": "stream",
     "text": [
      "Epoch [59/100]\n",
      "  Training Loss: 0.005218\n",
      "  Validation Loss: 0.001843\n",
      "  Model saved to ../models/volt_5.pth\n"
     ]
    },
    {
     "name": "stderr",
     "output_type": "stream",
     "text": [
      "Epoch 60/100: 100%|██████████| 90/90 [00:00<00:00, 621.29it/s]\n"
     ]
    },
    {
     "name": "stdout",
     "output_type": "stream",
     "text": [
      "Epoch [60/100]\n",
      "  Training Loss: 0.005233\n",
      "  Validation Loss: 0.001292\n",
      "  Model saved to ../models/volt_5.pth\n"
     ]
    },
    {
     "name": "stderr",
     "output_type": "stream",
     "text": [
      "Epoch 61/100: 100%|██████████| 90/90 [00:00<00:00, 579.08it/s]\n"
     ]
    },
    {
     "name": "stdout",
     "output_type": "stream",
     "text": [
      "Epoch [61/100]\n",
      "  Training Loss: 0.005281\n",
      "  Validation Loss: 0.001487\n",
      "  EarlyStopping counter: 1 out of 10\n"
     ]
    },
    {
     "name": "stderr",
     "output_type": "stream",
     "text": [
      "Epoch 62/100: 100%|██████████| 90/90 [00:00<00:00, 590.14it/s]\n"
     ]
    },
    {
     "name": "stdout",
     "output_type": "stream",
     "text": [
      "Epoch [62/100]\n",
      "  Training Loss: 0.005274\n",
      "  Validation Loss: 0.001861\n",
      "  EarlyStopping counter: 2 out of 10\n"
     ]
    },
    {
     "name": "stderr",
     "output_type": "stream",
     "text": [
      "Epoch 63/100: 100%|██████████| 90/90 [00:00<00:00, 652.71it/s]\n"
     ]
    },
    {
     "name": "stdout",
     "output_type": "stream",
     "text": [
      "Epoch [63/100]\n",
      "  Training Loss: 0.005407\n",
      "  Validation Loss: 0.001775\n",
      "  EarlyStopping counter: 3 out of 10\n"
     ]
    },
    {
     "name": "stderr",
     "output_type": "stream",
     "text": [
      "Epoch 64/100: 100%|██████████| 90/90 [00:00<00:00, 595.59it/s]\n"
     ]
    },
    {
     "name": "stdout",
     "output_type": "stream",
     "text": [
      "Epoch [64/100]\n",
      "  Training Loss: 0.004934\n",
      "  Validation Loss: 0.001850\n",
      "  EarlyStopping counter: 4 out of 10\n"
     ]
    },
    {
     "name": "stderr",
     "output_type": "stream",
     "text": [
      "Epoch 65/100: 100%|██████████| 90/90 [00:00<00:00, 655.04it/s]\n"
     ]
    },
    {
     "name": "stdout",
     "output_type": "stream",
     "text": [
      "Epoch [65/100]\n",
      "  Training Loss: 0.004994\n",
      "  Validation Loss: 0.002168\n",
      "  EarlyStopping counter: 5 out of 10\n"
     ]
    },
    {
     "name": "stderr",
     "output_type": "stream",
     "text": [
      "Epoch 66/100: 100%|██████████| 90/90 [00:00<00:00, 554.72it/s]\n"
     ]
    },
    {
     "name": "stdout",
     "output_type": "stream",
     "text": [
      "Epoch [66/100]\n",
      "  Training Loss: 0.005124\n",
      "  Validation Loss: 0.001613\n",
      "  EarlyStopping counter: 6 out of 10\n"
     ]
    },
    {
     "name": "stderr",
     "output_type": "stream",
     "text": [
      "Epoch 67/100: 100%|██████████| 90/90 [00:00<00:00, 526.14it/s]\n"
     ]
    },
    {
     "name": "stdout",
     "output_type": "stream",
     "text": [
      "Epoch [67/100]\n",
      "  Training Loss: 0.005395\n",
      "  Validation Loss: 0.001298\n",
      "  EarlyStopping counter: 7 out of 10\n"
     ]
    },
    {
     "name": "stderr",
     "output_type": "stream",
     "text": [
      "Epoch 68/100: 100%|██████████| 90/90 [00:00<00:00, 589.09it/s]\n"
     ]
    },
    {
     "name": "stdout",
     "output_type": "stream",
     "text": [
      "Epoch [68/100]\n",
      "  Training Loss: 0.004725\n",
      "  Validation Loss: 0.001267\n",
      "  Model saved to ../models/volt_5.pth\n"
     ]
    },
    {
     "name": "stderr",
     "output_type": "stream",
     "text": [
      "Epoch 69/100: 100%|██████████| 90/90 [00:00<00:00, 610.55it/s]\n"
     ]
    },
    {
     "name": "stdout",
     "output_type": "stream",
     "text": [
      "Epoch [69/100]\n",
      "  Training Loss: 0.005347\n",
      "  Validation Loss: 0.002149\n",
      "  EarlyStopping counter: 1 out of 10\n"
     ]
    },
    {
     "name": "stderr",
     "output_type": "stream",
     "text": [
      "Epoch 70/100: 100%|██████████| 90/90 [00:00<00:00, 554.54it/s]\n"
     ]
    },
    {
     "name": "stdout",
     "output_type": "stream",
     "text": [
      "Epoch [70/100]\n",
      "  Training Loss: 0.004821\n",
      "  Validation Loss: 0.001122\n",
      "  Model saved to ../models/volt_5.pth\n"
     ]
    },
    {
     "name": "stderr",
     "output_type": "stream",
     "text": [
      "Epoch 71/100: 100%|██████████| 90/90 [00:00<00:00, 622.46it/s]\n"
     ]
    },
    {
     "name": "stdout",
     "output_type": "stream",
     "text": [
      "Epoch [71/100]\n",
      "  Training Loss: 0.004383\n",
      "  Validation Loss: 0.002278\n",
      "  EarlyStopping counter: 1 out of 10\n"
     ]
    },
    {
     "name": "stderr",
     "output_type": "stream",
     "text": [
      "Epoch 72/100: 100%|██████████| 90/90 [00:00<00:00, 619.61it/s]\n"
     ]
    },
    {
     "name": "stdout",
     "output_type": "stream",
     "text": [
      "Epoch [72/100]\n",
      "  Training Loss: 0.005100\n",
      "  Validation Loss: 0.002486\n",
      "  EarlyStopping counter: 2 out of 10\n"
     ]
    },
    {
     "name": "stderr",
     "output_type": "stream",
     "text": [
      "Epoch 73/100: 100%|██████████| 90/90 [00:00<00:00, 620.44it/s]\n"
     ]
    },
    {
     "name": "stdout",
     "output_type": "stream",
     "text": [
      "Epoch [73/100]\n",
      "  Training Loss: 0.004910\n",
      "  Validation Loss: 0.002182\n",
      "  EarlyStopping counter: 3 out of 10\n"
     ]
    },
    {
     "name": "stderr",
     "output_type": "stream",
     "text": [
      "Epoch 74/100: 100%|██████████| 90/90 [00:00<00:00, 635.48it/s]\n"
     ]
    },
    {
     "name": "stdout",
     "output_type": "stream",
     "text": [
      "Epoch [74/100]\n",
      "  Training Loss: 0.004758\n",
      "  Validation Loss: 0.002181\n",
      "  EarlyStopping counter: 4 out of 10\n"
     ]
    },
    {
     "name": "stderr",
     "output_type": "stream",
     "text": [
      "Epoch 75/100: 100%|██████████| 90/90 [00:00<00:00, 671.89it/s]\n"
     ]
    },
    {
     "name": "stdout",
     "output_type": "stream",
     "text": [
      "Epoch [75/100]\n",
      "  Training Loss: 0.004252\n",
      "  Validation Loss: 0.001390\n",
      "  EarlyStopping counter: 5 out of 10\n"
     ]
    },
    {
     "name": "stderr",
     "output_type": "stream",
     "text": [
      "Epoch 76/100: 100%|██████████| 90/90 [00:00<00:00, 705.87it/s]\n"
     ]
    },
    {
     "name": "stdout",
     "output_type": "stream",
     "text": [
      "Epoch [76/100]\n",
      "  Training Loss: 0.004536\n",
      "  Validation Loss: 0.001889\n",
      "  EarlyStopping counter: 6 out of 10\n"
     ]
    },
    {
     "name": "stderr",
     "output_type": "stream",
     "text": [
      "Epoch 77/100: 100%|██████████| 90/90 [00:00<00:00, 542.44it/s]\n"
     ]
    },
    {
     "name": "stdout",
     "output_type": "stream",
     "text": [
      "Epoch [77/100]\n",
      "  Training Loss: 0.004577\n",
      "  Validation Loss: 0.001175\n",
      "  EarlyStopping counter: 7 out of 10\n"
     ]
    },
    {
     "name": "stderr",
     "output_type": "stream",
     "text": [
      "Epoch 78/100: 100%|██████████| 90/90 [00:00<00:00, 571.44it/s]\n"
     ]
    },
    {
     "name": "stdout",
     "output_type": "stream",
     "text": [
      "Epoch [78/100]\n",
      "  Training Loss: 0.004346\n",
      "  Validation Loss: 0.001653\n",
      "  EarlyStopping counter: 8 out of 10\n"
     ]
    },
    {
     "name": "stderr",
     "output_type": "stream",
     "text": [
      "Epoch 79/100: 100%|██████████| 90/90 [00:00<00:00, 596.41it/s]\n"
     ]
    },
    {
     "name": "stdout",
     "output_type": "stream",
     "text": [
      "Epoch [79/100]\n",
      "  Training Loss: 0.004416\n",
      "  Validation Loss: 0.001090\n",
      "  Model saved to ../models/volt_5.pth\n"
     ]
    },
    {
     "name": "stderr",
     "output_type": "stream",
     "text": [
      "Epoch 80/100: 100%|██████████| 90/90 [00:00<00:00, 576.28it/s]\n"
     ]
    },
    {
     "name": "stdout",
     "output_type": "stream",
     "text": [
      "Epoch [80/100]\n",
      "  Training Loss: 0.004816\n",
      "  Validation Loss: 0.002409\n",
      "  EarlyStopping counter: 1 out of 10\n"
     ]
    },
    {
     "name": "stderr",
     "output_type": "stream",
     "text": [
      "Epoch 81/100: 100%|██████████| 90/90 [00:00<00:00, 566.57it/s]\n"
     ]
    },
    {
     "name": "stdout",
     "output_type": "stream",
     "text": [
      "Epoch [81/100]\n",
      "  Training Loss: 0.004195\n",
      "  Validation Loss: 0.000990\n",
      "  Model saved to ../models/volt_5.pth\n"
     ]
    },
    {
     "name": "stderr",
     "output_type": "stream",
     "text": [
      "Epoch 82/100: 100%|██████████| 90/90 [00:00<00:00, 537.47it/s]\n"
     ]
    },
    {
     "name": "stdout",
     "output_type": "stream",
     "text": [
      "Epoch [82/100]\n",
      "  Training Loss: 0.004229\n",
      "  Validation Loss: 0.001570\n",
      "  EarlyStopping counter: 1 out of 10\n"
     ]
    },
    {
     "name": "stderr",
     "output_type": "stream",
     "text": [
      "Epoch 83/100: 100%|██████████| 90/90 [00:00<00:00, 559.83it/s]\n"
     ]
    },
    {
     "name": "stdout",
     "output_type": "stream",
     "text": [
      "Epoch [83/100]\n",
      "  Training Loss: 0.004212\n",
      "  Validation Loss: 0.001902\n",
      "  EarlyStopping counter: 2 out of 10\n"
     ]
    },
    {
     "name": "stderr",
     "output_type": "stream",
     "text": [
      "Epoch 84/100: 100%|██████████| 90/90 [00:00<00:00, 633.67it/s]\n"
     ]
    },
    {
     "name": "stdout",
     "output_type": "stream",
     "text": [
      "Epoch [84/100]\n",
      "  Training Loss: 0.003992\n",
      "  Validation Loss: 0.001778\n",
      "  EarlyStopping counter: 3 out of 10\n"
     ]
    },
    {
     "name": "stderr",
     "output_type": "stream",
     "text": [
      "Epoch 85/100: 100%|██████████| 90/90 [00:00<00:00, 541.28it/s]\n"
     ]
    },
    {
     "name": "stdout",
     "output_type": "stream",
     "text": [
      "Epoch [85/100]\n",
      "  Training Loss: 0.004379\n",
      "  Validation Loss: 0.000827\n",
      "  Model saved to ../models/volt_5.pth\n"
     ]
    },
    {
     "name": "stderr",
     "output_type": "stream",
     "text": [
      "Epoch 86/100: 100%|██████████| 90/90 [00:00<00:00, 662.94it/s]\n"
     ]
    },
    {
     "name": "stdout",
     "output_type": "stream",
     "text": [
      "Epoch [86/100]\n",
      "  Training Loss: 0.004188\n",
      "  Validation Loss: 0.002132\n",
      "  EarlyStopping counter: 1 out of 10\n"
     ]
    },
    {
     "name": "stderr",
     "output_type": "stream",
     "text": [
      "Epoch 87/100: 100%|██████████| 90/90 [00:00<00:00, 592.61it/s]\n"
     ]
    },
    {
     "name": "stdout",
     "output_type": "stream",
     "text": [
      "Epoch [87/100]\n",
      "  Training Loss: 0.004490\n",
      "  Validation Loss: 0.002159\n",
      "  EarlyStopping counter: 2 out of 10\n"
     ]
    },
    {
     "name": "stderr",
     "output_type": "stream",
     "text": [
      "Epoch 88/100: 100%|██████████| 90/90 [00:00<00:00, 675.41it/s]\n"
     ]
    },
    {
     "name": "stdout",
     "output_type": "stream",
     "text": [
      "Epoch [88/100]\n",
      "  Training Loss: 0.004316\n",
      "  Validation Loss: 0.001933\n",
      "  EarlyStopping counter: 3 out of 10\n"
     ]
    },
    {
     "name": "stderr",
     "output_type": "stream",
     "text": [
      "Epoch 89/100: 100%|██████████| 90/90 [00:00<00:00, 615.42it/s]\n"
     ]
    },
    {
     "name": "stdout",
     "output_type": "stream",
     "text": [
      "Epoch [89/100]\n",
      "  Training Loss: 0.003967\n",
      "  Validation Loss: 0.001591\n",
      "  EarlyStopping counter: 4 out of 10\n"
     ]
    },
    {
     "name": "stderr",
     "output_type": "stream",
     "text": [
      "Epoch 90/100: 100%|██████████| 90/90 [00:00<00:00, 628.29it/s]\n"
     ]
    },
    {
     "name": "stdout",
     "output_type": "stream",
     "text": [
      "Epoch [90/100]\n",
      "  Training Loss: 0.004593\n",
      "  Validation Loss: 0.002072\n",
      "  EarlyStopping counter: 5 out of 10\n"
     ]
    },
    {
     "name": "stderr",
     "output_type": "stream",
     "text": [
      "Epoch 91/100: 100%|██████████| 90/90 [00:00<00:00, 582.03it/s]\n"
     ]
    },
    {
     "name": "stdout",
     "output_type": "stream",
     "text": [
      "Epoch [91/100]\n",
      "  Training Loss: 0.004313\n",
      "  Validation Loss: 0.001753\n",
      "  EarlyStopping counter: 6 out of 10\n"
     ]
    },
    {
     "name": "stderr",
     "output_type": "stream",
     "text": [
      "Epoch 92/100: 100%|██████████| 90/90 [00:00<00:00, 527.01it/s]\n"
     ]
    },
    {
     "name": "stdout",
     "output_type": "stream",
     "text": [
      "Epoch [92/100]\n",
      "  Training Loss: 0.004107\n",
      "  Validation Loss: 0.001582\n",
      "  EarlyStopping counter: 7 out of 10\n"
     ]
    },
    {
     "name": "stderr",
     "output_type": "stream",
     "text": [
      "Epoch 93/100: 100%|██████████| 90/90 [00:00<00:00, 537.52it/s]\n"
     ]
    },
    {
     "name": "stdout",
     "output_type": "stream",
     "text": [
      "Epoch [93/100]\n",
      "  Training Loss: 0.003987\n",
      "  Validation Loss: 0.001873\n",
      "  EarlyStopping counter: 8 out of 10\n"
     ]
    },
    {
     "name": "stderr",
     "output_type": "stream",
     "text": [
      "Epoch 94/100: 100%|██████████| 90/90 [00:00<00:00, 498.42it/s]\n"
     ]
    },
    {
     "name": "stdout",
     "output_type": "stream",
     "text": [
      "Epoch [94/100]\n",
      "  Training Loss: 0.004037\n",
      "  Validation Loss: 0.001390\n",
      "  EarlyStopping counter: 9 out of 10\n"
     ]
    },
    {
     "name": "stderr",
     "output_type": "stream",
     "text": [
      "Epoch 95/100: 100%|██████████| 90/90 [00:00<00:00, 637.81it/s]\n"
     ]
    },
    {
     "name": "stdout",
     "output_type": "stream",
     "text": [
      "Epoch [95/100]\n",
      "  Training Loss: 0.004692\n",
      "  Validation Loss: 0.002092\n",
      "  EarlyStopping counter: 10 out of 10\n",
      "Early stopping triggered\n"
     ]
    },
    {
     "data": {
      "image/png": "[encoded data removed]",
      "text/plain": [
       "<Figure size 1000x500 with 1 Axes>"
      ]
     },
     "metadata": {},
     "output_type": "display_data"
    }
   ],
   "source": [
    "# 1. 데이터 준비\n",
    "# 정상 데이터 준비 (훈련, 검증, 테스트용 정상 데이터)\n",
    "normal_dataset = prepare_normal_data(normal_data_path)\n",
    "# 이상치 데이터 준비\n",
    "abnormal_dataset = prepare_test_data(abnormal_data_path)\n",
    "\n",
    "# 2. 테스트 세트 구성\n",
    "# 정상 테스트 데이터와 이상치 데이터 합치기\n",
    "test_sequences = np.concatenate([\n",
    "    normal_dataset['test_normal'],  # 정상 테스트 시퀀스\n",
    "    abnormal_dataset['abnormal']    # 이상치 시퀀스\n",
    "])\n",
    "\n",
    "# 레이블 생성 (0: 정상, 1: 이상)\n",
    "test_labels = np.concatenate([\n",
    "    np.zeros(len(normal_dataset['test_normal'])),  # 정상 데이터 레이블\n",
    "    np.ones(len(abnormal_dataset['abnormal']))     # 이상치 데이터 레이블\n",
    "])\n",
    "# Dataset과 DataLoader 생성\n",
    "train_dataset = SequenceDataset(normal_dataset['train'])\n",
    "val_dataset = SequenceDataset(normal_dataset['val'])\n",
    "test_dataset = SequenceDataset(test_sequences)\n",
    "\n",
    "train_loader = DataLoader(train_dataset, batch_size=32, shuffle=True)\n",
    "val_loader = DataLoader(val_dataset, batch_size=32, shuffle=False)\n",
    "test_loader = DataLoader(test_dataset, batch_size=32, shuffle=False)\n",
    "\n",
    "# 2. 모델 정의\n",
    "device = 'cuda' if torch.cuda.is_available() else 'cpu'\n",
    "model = LSTMAutoencoder(\n",
    "    input_dim=model_dim,          # X, Y, Z 축 데이터\n",
    "    hidden_dim=64,        # 히든 레이어 차원\n",
    "    seq_length=5,        # 시퀀스 길이\n",
    "    n_layers=2,           # LSTM 레이어 수\n",
    "    dropout=0.2\n",
    ").to(device)\n",
    "\n",
    "# 3. 모델 학습\n",
    "train_losses, val_losses = train_model(\n",
    "    model=model,\n",
    "    train_loader=train_loader,\n",
    "    val_loader=val_loader,\n",
    "    n_epochs=100,\n",
    "    learning_rate=1e-3,\n",
    "    device=device,\n",
    "    patience=10,\n",
    "    model_save_path=model_path\n",
    ")"
   ]
  },
  {
   "cell_type": "code",
   "execution_count": 18,
   "metadata": {},
   "outputs": [
    {
     "name": "stderr",
     "output_type": "stream",
     "text": [
      "/tmp/ipykernel_244521/2482576130.py:119: FutureWarning: You are using `torch.load` with `weights_only=False` (the current default value), which uses the default pickle module implicitly. It is possible to construct malicious pickle data which will execute arbitrary code during unpickling (See https://github.com/pytorch/pytorch/blob/main/SECURITY.md#untrusted-models for more details). In a future release, the default value for `weights_only` will be flipped to `True`. This limits the functions that could be executed during unpickling. Arbitrary objects will no longer be allowed to be loaded via this mode unless they are explicitly allowlisted by the user via `torch.serialization.add_safe_globals`. We recommend you start setting `weights_only=True` for any use case where you don't have full control of the loaded file. Please open an issue on GitHub for any issues related to this experimental feature.\n",
      "  model.load_state_dict(torch.load(model_path, map_location=device))\n"
     ]
    },
    {
     "data": {
      "image/png": "[encoded data removed]",
      "text/plain": [
       "<Figure size 1000x600 with 1 Axes>"
      ]
     },
     "metadata": {},
     "output_type": "display_data"
    },
    {
     "data": {
      "image/png": "[encoded data removed]",
      "text/plain": [
       "<Figure size 1000x600 with 1 Axes>"
      ]
     },
     "metadata": {},
     "output_type": "display_data"
    },
    {
     "data": {
      "image/png": "[encoded data removed]",
      "text/plain": [
       "<Figure size 1000x600 with 1 Axes>"
      ]
     },
     "metadata": {},
     "output_type": "display_data"
    },
    {
     "data": {
      "image/png": "[encoded data removed]",
      "text/plain": [
       "<Figure size 800x600 with 2 Axes>"
      ]
     },
     "metadata": {},
     "output_type": "display_data"
    },
    {
     "name": "stdout",
     "output_type": "stream",
     "text": [
      "\n",
      "Performance Metrics:\n",
      "Optimal Threshold: 152.4833\n",
      "Accuracy: 1.0000\n",
      "Precision: 1.0000\n",
      "Recall: 1.0000\n",
      "F1 Score: 1.0000\n",
      "ROC AUC: 1.0000\n",
      "PR AUC: 1.0000\n",
      "\n",
      "Evaluation Results:\n",
      "Optimal Threshold: 152.4833\n",
      "ROC AUC: 1.0000\n",
      "PR AUC: 1.0000\n",
      "F1 Score: 1.0000\n"
     ]
    }
   ],
   "source": [
    "# 4. 최상의 모델 불러오기 (train_model 함수에서 저장된 모델)\n",
    "model = load_trained_model(\n",
    "    model=model,\n",
    "    model_path=model_path,\n",
    "    device=device\n",
    ")\n",
    "\n",
    "# 5. 모델 평가\n",
    "results = evaluate_model(\n",
    "    model=model,\n",
    "    test_loader=test_loader,\n",
    "    test_labels=test_labels,\n",
    "    device=device\n",
    ")\n",
    "\n",
    "# 6. 결과 확인\n",
    "print(\"\\nEvaluation Results:\")\n",
    "print(f\"Optimal Threshold: {results['optimal_threshold']:.4f}\")\n",
    "print(f\"ROC AUC: {results['roc_auc']:.4f}\")\n",
    "print(f\"PR AUC: {results['pr_auc']:.4f}\")\n",
    "print(f\"F1 Score: {results['f1_score']:.4f}\")"
   ]
  },
  {
   "cell_type": "code",
   "execution_count": null,
   "metadata": {},
   "outputs": [],
   "source": []
  },
  {
   "cell_type": "code",
   "execution_count": null,
   "metadata": {},
   "outputs": [],
   "source": []
  }
 ],
 "metadata": {
  "kernelspec": {
   "display_name": "AI",
   "language": "python",
   "name": "python3"
  },
  "language_info": {
   "codemirror_mode": {
    "name": "ipython",
    "version": 3
   },
   "file_extension": ".py",
   "mimetype": "text/x-python",
   "name": "python",
   "nbconvert_exporter": "python",
   "pygments_lexer": "ipython3",
   "version": "3.8.20"
  }
 },
 "nbformat": 4,
 "nbformat_minor": 2
}
